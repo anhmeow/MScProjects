{
  "nbformat": 4,
  "nbformat_minor": 0,
  "metadata": {
    "kernelspec": {
      "name": "python3",
      "display_name": "Python 3"
    },
    "language_info": {
      "codemirror_mode": {
        "name": "ipython",
        "version": 3
      },
      "file_extension": ".py",
      "mimetype": "text/x-python",
      "name": "python",
      "nbconvert_exporter": "python",
      "pygments_lexer": "ipython3",
      "version": "3.7.5"
    },
    "colab": {
      "name": "DQN_project_MVA.ipynb",
      "provenance": [],
      "include_colab_link": true
    }
  },
  "cells": [
    {
      "cell_type": "markdown",
      "metadata": {
        "id": "view-in-github",
        "colab_type": "text"
      },
      "source": [
        "<a href=\"https://colab.research.google.com/github/anhmeow/MScProjects/blob/master/DQN_project_MVA.ipynb\" target=\"_parent\"><img src=\"https://colab.research.google.com/assets/colab-badge.svg\" alt=\"Open In Colab\"/></a>"
      ]
    },
    {
      "cell_type": "markdown",
      "metadata": {
        "id": "VGxNNA_55h3K",
        "colab_type": "text"
      },
      "source": [
        "**You may need to install [OpenCV](https://pypi.python.org/pypi/opencv-python) and [scikit-video](http://www.scikit-video.org/stable/).**"
      ]
    },
    {
      "cell_type": "code",
      "metadata": {
        "id": "BNxrYYG27Aya",
        "colab_type": "code",
        "colab": {
          "base_uri": "https://localhost:8080/",
          "height": 85
        },
        "outputId": "eaa35a1d-9b28-46d8-cde6-271c519194c4"
      },
      "source": [
        "!pip install scikit-video"
      ],
      "execution_count": 141,
      "outputs": [
        {
          "output_type": "stream",
          "text": [
            "Requirement already satisfied: scikit-video in /usr/local/lib/python3.6/dist-packages (1.1.11)\n",
            "Requirement already satisfied: scipy in /usr/local/lib/python3.6/dist-packages (from scikit-video) (1.4.1)\n",
            "Requirement already satisfied: numpy in /usr/local/lib/python3.6/dist-packages (from scikit-video) (1.17.5)\n",
            "Requirement already satisfied: pillow in /usr/local/lib/python3.6/dist-packages (from scikit-video) (6.2.2)\n"
          ],
          "name": "stdout"
        }
      ]
    },
    {
      "cell_type": "code",
      "metadata": {
        "id": "jxyxYdHm5h3O",
        "colab_type": "code",
        "colab": {}
      },
      "source": [
        "import keras\n",
        "import numpy as np\n",
        "import io\n",
        "import base64\n",
        "from IPython.display import HTML\n",
        "import skvideo.io\n",
        "import cv2\n",
        "import json\n",
        "\n",
        "from keras.models import Sequential,model_from_json\n",
        "from keras.layers.core import Dense\n",
        "from keras.optimizers import sgd\n",
        "from keras.layers import Conv2D, MaxPooling2D, Activation, AveragePooling2D,Reshape,BatchNormalization"
      ],
      "execution_count": 0,
      "outputs": []
    },
    {
      "cell_type": "markdown",
      "metadata": {
        "id": "IP4geBNi5h3U",
        "colab_type": "text"
      },
      "source": [
        "# MiniProject on Deep Reinforcement Learning"
      ]
    },
    {
      "cell_type": "markdown",
      "metadata": {
        "id": "o33n31xT5h3V",
        "colab_type": "text"
      },
      "source": [
        "__Notations__: $E_p$ is the expectation under probability $p$. Please justify each of your answer and widely comment your code."
      ]
    },
    {
      "cell_type": "markdown",
      "metadata": {
        "id": "XOwKHnC35h3X",
        "colab_type": "text"
      },
      "source": [
        "# Context"
      ]
    },
    {
      "cell_type": "markdown",
      "metadata": {
        "id": "RSE_dN0M5h3Y",
        "colab_type": "text"
      },
      "source": [
        "In a reinforcement learning algorithm, we modelize each step $t$ as an action $a_t$ obtained from a state $s_t$, i.e. $\\{(a_{t},s_{t})_{t\\leq T}\\}$ having the Markov property. We consider a discount factor $\\gamma \\in [0,1]$ that ensures convergence. The goal is to find among all the policies $\\pi$, one that maximizes the expected reward:\n",
        "\n",
        "\\begin{equation*}\n",
        "R(\\pi)=\\sum_{t\\leq T}E_{p^{\\pi}}[\\gamma^t r(s_{t},a_{t})] \\> ,\n",
        "\\end{equation*}\n",
        "\n",
        "where: \n",
        "\\begin{equation*}p^{\\pi}(a_{0},a_{1},s_{1},...,a_{T},s_{T})=p(a_{0})\\prod_{t=1}^{T}\\pi(a_{t}|s_{t})p(s_{t+1}|s_{t},a_{t}) \\> .\n",
        "\\end{equation*}\n",
        "\n",
        "We note the $Q$-function:\n",
        "\n",
        "\\begin{equation*}Q^\\pi(s,a)=E_{p^{\\pi}}[\\sum_{t\\leq T}\\gamma^{t}r(s_{t},a_{t})|s_{0}=s,a_{0}=a] \\> .\n",
        "\\end{equation*}\n",
        "\n",
        "Thus, the optimal Q function is:\n",
        "\\begin{equation*}\n",
        "Q^*(s,a)=\\max_{\\pi}Q^\\pi(s,a) \\> .\n",
        "\\end{equation*}\n",
        "\n",
        "In this project, we will apply the deep reinforcement learning techniques to a simple game: an agent will have to learn from scratch a policy that will permit it maximizing a reward."
      ]
    },
    {
      "cell_type": "markdown",
      "metadata": {
        "id": "Kw1GCeJF5h3Z",
        "colab_type": "text"
      },
      "source": [
        "## The environment, the agent and the game"
      ]
    },
    {
      "cell_type": "markdown",
      "metadata": {
        "id": "vRMVYLdJ5h3a",
        "colab_type": "text"
      },
      "source": [
        "### The environment"
      ]
    },
    {
      "cell_type": "markdown",
      "metadata": {
        "id": "ob13m8SP5h3b",
        "colab_type": "text"
      },
      "source": [
        "```Environment``` is an abstract class that represents the states, rewards, and actions to obtain the new state."
      ]
    },
    {
      "cell_type": "code",
      "metadata": {
        "id": "Y1miwnLp5h3b",
        "colab_type": "code",
        "colab": {}
      },
      "source": [
        "class Environment(object):\n",
        "    def __init__(self):\n",
        "        pass\n",
        "\n",
        "    def act(self, act):\n",
        "        \"\"\"\n",
        "        One can act on the environment and obtain its reaction:\n",
        "        - the new state\n",
        "        - the reward of the new state\n",
        "        - should we continue the game?\n",
        "\n",
        "        :return: state, reward, game_over\n",
        "        \"\"\"\n",
        "        pass\n",
        "\n",
        "\n",
        "    def reset(self):\n",
        "        \"\"\"\n",
        "        Reinitialize the environment to a random state and returns\n",
        "        the original state\n",
        "\n",
        "        :return: state\n",
        "        \"\"\"\n",
        "        pass\n",
        "    \n",
        "    def draw(self):\n",
        "        \"\"\"\n",
        "        Visualize in the console or graphically the current state\n",
        "        \"\"\"\n",
        "        pass"
      ],
      "execution_count": 0,
      "outputs": []
    },
    {
      "cell_type": "markdown",
      "metadata": {
        "id": "XkgvPpI35h3e",
        "colab_type": "text"
      },
      "source": [
        "The method ```act``` allows to act on the environment at a given state $s_t$ (stored internally), via action $a_t$. The method will return the new state $s_{t+1}$, the reward $r(s_{t},a_{t})$ and determines if $t\\leq T$ (*game_over*).\n",
        "\n",
        "The method ```reset``` simply reinitializes the environment to a random state $s_0$.\n",
        "\n",
        "The method ```draw``` displays the current state $s_t$ (this is useful to check the behavior of the Agent).\n",
        "\n",
        "We modelize $s_t$ as a tensor, while $a_t$ is an integer."
      ]
    },
    {
      "cell_type": "markdown",
      "metadata": {
        "id": "3PNjhRLJ5h3e",
        "colab_type": "text"
      },
      "source": [
        "### The Agent"
      ]
    },
    {
      "cell_type": "markdown",
      "metadata": {
        "id": "-_ufjc1Y5h3f",
        "colab_type": "text"
      },
      "source": [
        "The goal of the ```Agent``` is to interact with the ```Environment``` by proposing actions $a_t$ obtained from a given state $s_t$ to attempt to maximize its __reward__ $r(s_t,a_t)$. We propose the following abstract class:"
      ]
    },
    {
      "cell_type": "code",
      "metadata": {
        "id": "xMgeHVYv5h3f",
        "colab_type": "code",
        "colab": {}
      },
      "source": [
        "class Agent(object):\n",
        "    def __init__(self, epsilon=0.1, n_action=4):\n",
        "        self.epsilon = epsilon\n",
        "        self.n_action = n_action\n",
        "    \n",
        "    def set_epsilon(self,e):\n",
        "        self.epsilon = e\n",
        "\n",
        "    def act(self,s,train=True):\n",
        "        \"\"\" This function should return the next action to do:\n",
        "        an integer between 0 and 4 (not included) with a random exploration of epsilon\"\"\"\n",
        "        if train:\n",
        "            if np.random.rand() <= self.epsilon:\n",
        "                a = np.random.randint(0, self.n_action, size=1)[0]\n",
        "            else:\n",
        "                a = self.learned_act(s)\n",
        "        else: # in some cases, this can improve the performance.. remove it if poor performances\n",
        "            a = self.learned_act(s)\n",
        "\n",
        "        return a\n",
        "\n",
        "    def learned_act(self,s):\n",
        "        \"\"\" Act via the policy of the agent, from a given state s\n",
        "        it proposes an action a\"\"\"\n",
        "        pass\n",
        "\n",
        "    def reinforce(self, s, n_s, a, r, game_over_):\n",
        "        \"\"\" This function is the core of the learning algorithm. \n",
        "        It takes as an input the current state s_, the next state n_s_\n",
        "        the action a_ used to move from s_ to n_s_ and the reward r_.\n",
        "        \n",
        "        Its goal is to learn a policy.\n",
        "        \"\"\"\n",
        "        pass\n",
        "\n",
        "    def save(self):\n",
        "        \"\"\" This function returns basic stats if applicable: the\n",
        "        loss and/or the model\"\"\"\n",
        "        pass\n",
        "\n",
        "    def load(self):\n",
        "        \"\"\" This function allows to restore a model\"\"\"\n",
        "        pass"
      ],
      "execution_count": 0,
      "outputs": []
    },
    {
      "cell_type": "markdown",
      "metadata": {
        "id": "pJhwWnvI5h3h",
        "colab_type": "text"
      },
      "source": [
        "***\n",
        "__Question 1__:\n",
        "Explain the function act. Why is ```epsilon``` essential?"
      ]
    },
    {
      "cell_type": "markdown",
      "metadata": {
        "id": "Drha6srs5h3i",
        "colab_type": "text"
      },
      "source": [
        "The function act will, in train mode, decide between two kind of actions :\n",
        "\n",
        "\n",
        "*   Select a action randomly (exploration from the player)\n",
        "*   Choose a action according to the best policy identified so far (exploitation from the player).\n",
        "\n",
        "Epsilon is essential as it defined the ratio between random actions (exploration) and actions from policy (exploitation).\n",
        "\n",
        "If not in training mode, the act function apply the policy learned only.\n",
        "\n"
      ]
    },
    {
      "cell_type": "markdown",
      "metadata": {
        "id": "b20MFrtr5h3i",
        "colab_type": "text"
      },
      "source": [
        "***\n",
        "### The Game"
      ]
    },
    {
      "cell_type": "markdown",
      "metadata": {
        "id": "rhRWiCSl5h3j",
        "colab_type": "text"
      },
      "source": [
        "The ```Agent``` and the ```Environment``` work in an interlaced way as in the following (take some time to understand this code as it is the core of the project)\n",
        "\n",
        "```python\n",
        "\n",
        "epoch = 300\n",
        "env = Environment()\n",
        "agent = Agent()\n",
        "\n",
        "\n",
        "# Number of won games\n",
        "score = 0\n",
        "loss = 0\n",
        "\n",
        "\n",
        "for e in range(epoch):\n",
        "    # At each epoch, we restart to a fresh game and get the initial state\n",
        "    state = env.reset()\n",
        "    # This assumes that the games will end\n",
        "    game_over = False\n",
        "\n",
        "    win = 0\n",
        "    lose = 0\n",
        "    \n",
        "    while not game_over:\n",
        "        # The agent performs an action\n",
        "        action = agent.act(state)\n",
        "\n",
        "        # Apply an action to the environment, get the next state, the reward\n",
        "        # and if the games end\n",
        "        prev_state = state\n",
        "        state, reward, game_over = env.act(action)\n",
        "\n",
        "        # Update the counters\n",
        "        if reward > 0:\n",
        "            win = win + reward\n",
        "        if reward < 0:\n",
        "            lose = lose -reward\n",
        "\n",
        "        # Apply the reinforcement strategy\n",
        "        loss = agent.reinforce(prev_state, state,  action, reward, game_over)\n",
        "\n",
        "    # Save as a mp4\n",
        "    if e % 10 == 0:\n",
        "        env.draw(e)\n",
        "\n",
        "    # Update stats\n",
        "    score += win-lose\n",
        "\n",
        "    print(\"Epoch {:03d}/{:03d} | Loss {:.4f} | Win/lose count {}/{} ({})\"\n",
        "          .format(e, epoch, loss, win, lose, win-lose))\n",
        "    agent.save()\n",
        "```"
      ]
    },
    {
      "cell_type": "markdown",
      "metadata": {
        "id": "jmdLK02n5h3j",
        "colab_type": "text"
      },
      "source": [
        "# The game, *eat cheese*"
      ]
    },
    {
      "cell_type": "markdown",
      "metadata": {
        "id": "Q3ppVVQH5h3k",
        "colab_type": "text"
      },
      "source": [
        "A rat runs on an island and tries to eat as much as possible. The island is subdivided into $N\\times N$ cells, in which there are cheese (+0.5) and poisonous cells (-1). The rat has a visibility of 2 cells (thus it can see $5^2$ cells). The rat is given a time $T$ to accumulate as much food as possible. It can perform 4 actions: going up, down, left, right. \n",
        "\n",
        "The goal is to code an agent to solve this task that will learn by trial and error. We propose the following environment:"
      ]
    },
    {
      "cell_type": "code",
      "metadata": {
        "id": "SKel3AH15h3k",
        "colab_type": "code",
        "colab": {}
      },
      "source": [
        "class Environment(object):\n",
        "    def __init__(self, grid_size=10, max_time=500, temperature=0.1):\n",
        "        grid_size = grid_size+4\n",
        "        self.grid_size = grid_size\n",
        "        self.max_time = max_time\n",
        "        self.temperature = temperature\n",
        "\n",
        "        #board on which one plays\n",
        "        self.board = np.zeros((grid_size,grid_size))\n",
        "        self.position = np.zeros((grid_size,grid_size))\n",
        "\n",
        "        # coordinate of the cat\n",
        "        self.x = 0\n",
        "        self.y = 1\n",
        "\n",
        "        # self time\n",
        "        self.t = 0\n",
        "\n",
        "        self.scale=16\n",
        "\n",
        "        self.to_draw = np.zeros((max_time+2, grid_size*self.scale, grid_size*self.scale, 3))\n",
        "\n",
        "\n",
        "    def draw(self,e):\n",
        "        skvideo.io.vwrite(str(e) + '.mp4', self.to_draw)\n",
        "\n",
        "    def get_frame(self,t):\n",
        "        b = np.zeros((self.grid_size,self.grid_size,3))+128\n",
        "        b[self.board>0,0] = 256\n",
        "        b[self.board < 0, 2] = 256\n",
        "        b[self.x,self.y,:]=256\n",
        "        b[-2:,:,:]=0\n",
        "        b[:,-2:,:]=0\n",
        "        b[:2,:,:]=0\n",
        "        b[:,:2,:]=0\n",
        "        \n",
        "        b =  cv2.resize(b, None, fx=self.scale, fy=self.scale, interpolation=cv2.INTER_NEAREST)\n",
        "\n",
        "        self.to_draw[t,:,:,:]=b\n",
        "\n",
        "\n",
        "    def act(self, action):\n",
        "        \"\"\"This function returns the new state, reward and decides if the\n",
        "        game ends.\"\"\"\n",
        "\n",
        "        self.get_frame(int(self.t))\n",
        "\n",
        "        self.position = np.zeros((self.grid_size, self.grid_size))\n",
        "\n",
        "        self.position[0:2,:]= -1\n",
        "        self.position[:,0:2] = -1\n",
        "        self.position[-2:, :] = -1\n",
        "        self.position[-2:, :] = -1\n",
        "\n",
        "        self.position[self.x, self.y] = 1\n",
        "        if action == 0:\n",
        "            if self.x == self.grid_size-3:\n",
        "                self.x = self.x-1\n",
        "            else:\n",
        "                self.x = self.x + 1\n",
        "        elif action == 1:\n",
        "            if self.x == 2:\n",
        "                self.x = self.x+1\n",
        "            else:\n",
        "                self.x = self.x-1\n",
        "        elif action == 2:\n",
        "            if self.y == self.grid_size - 3:\n",
        "                self.y = self.y - 1\n",
        "            else:\n",
        "                self.y = self.y + 1\n",
        "        elif action == 3:\n",
        "            if self.y == 2:\n",
        "                self.y = self.y + 1\n",
        "            else:\n",
        "                self.y = self.y - 1\n",
        "        else:\n",
        "            RuntimeError('Error: action not recognized')\n",
        "\n",
        "        self.t = self.t + 1\n",
        "        reward = self.board[self.x, self.y]\n",
        "        self.board[self.x, self.y] = 0\n",
        "        game_over = self.t > self.max_time\n",
        "        state = np.concatenate((self.board.reshape(self.grid_size, self.grid_size,1),\n",
        "                        self.position.reshape(self.grid_size, self.grid_size,1)),axis=2)\n",
        "        state = state[self.x-2:self.x+3,self.y-2:self.y+3,:]\n",
        "\n",
        "        return state, reward, game_over\n",
        "\n",
        "    def reset(self):\n",
        "        \"\"\"This function resets the game and returns the initial state\"\"\"\n",
        "\n",
        "        self.x = np.random.randint(3, self.grid_size-3, size=1)[0]\n",
        "        self.y = np.random.randint(3, self.grid_size-3, size=1)[0]\n",
        "\n",
        "\n",
        "        bonus = 0.5*np.random.binomial(1,self.temperature,size=self.grid_size**2)\n",
        "        bonus = bonus.reshape(self.grid_size,self.grid_size)\n",
        "\n",
        "        malus = -1.0*np.random.binomial(1,self.temperature,size=self.grid_size**2)\n",
        "        malus = malus.reshape(self.grid_size, self.grid_size)\n",
        "\n",
        "        self.to_draw = np.zeros((self.max_time+2, self.grid_size*self.scale, self.grid_size*self.scale, 3))\n",
        "\n",
        "\n",
        "        malus[bonus>0]=0\n",
        "\n",
        "        self.board = bonus + malus\n",
        "\n",
        "        self.position = np.zeros((self.grid_size, self.grid_size))\n",
        "        self.position[0:2,:]= -1\n",
        "        self.position[:,0:2] = -1\n",
        "        self.position[-2:, :] = -1\n",
        "        self.position[-2:, :] = -1\n",
        "        self.board[self.x,self.y] = 0\n",
        "        self.t = 0\n",
        "\n",
        "        state = np.concatenate((\n",
        "                               self.board.reshape(self.grid_size, self.grid_size,1),\n",
        "                        self.position.reshape(self.grid_size, self.grid_size,1)),axis=2)\n",
        "\n",
        "        state = state[self.x - 2:self.x + 3, self.y - 2:self.y + 3, :]\n",
        "        return state"
      ],
      "execution_count": 0,
      "outputs": []
    },
    {
      "cell_type": "markdown",
      "metadata": {
        "id": "YfYIRUD95h3l",
        "colab_type": "text"
      },
      "source": [
        "The following elements are important because they correspond to the hyper parameters for this project:"
      ]
    },
    {
      "cell_type": "code",
      "metadata": {
        "id": "K_oAs_5w5h3m",
        "colab_type": "code",
        "colab": {}
      },
      "source": [
        "# parameters\n",
        "size = 13\n",
        "T=200\n",
        "temperature=0.3\n",
        "epochs_train=21 # set small when debugging\n",
        "epochs_test=21 # set small when debugging\n",
        "\n",
        "# display videos\n",
        "def display_videos(name):\n",
        "    video = io.open(name, 'r+b').read()\n",
        "    encoded = base64.b64encode(video)\n",
        "    return '''<video alt=\"test\" controls>\n",
        "                <source src=\"data:video/mp4;base64,{0}\" type=\"video/mp4\" />\n",
        "             </video>'''.format(encoded.decode('ascii'))"
      ],
      "execution_count": 0,
      "outputs": []
    },
    {
      "cell_type": "markdown",
      "metadata": {
        "id": "555Ck5Fb5h3o",
        "colab_type": "text"
      },
      "source": [
        "__Question 2__ Explain the use of the arrays ```position``` and ```board```."
      ]
    },
    {
      "cell_type": "markdown",
      "metadata": {
        "id": "rO0p6I695h3p",
        "colab_type": "text"
      },
      "source": [
        "Position is a matrix of dimension (h + 4 , w + 4). The point $(p_i, p_j)=1$ represent the position of the rat. Note that the grid is offset by +2 cells on left, right, top and left (to facilitate the fact that the rat can see at a 2-cells distance) but the rat can't be within. This is represented with a -1 value for the corresponding cells.\n",
        "\n",
        "The board has the same dimension as the position (and same 'trick' to manage the 2-cells distance). $(b_i, b_j) = 0.5$ if there's a cheese, $(b_i, b_j) = -1$ if poison, $(b_i, b_j) = 0$ if empty cell\n",
        "\n"
      ]
    },
    {
      "cell_type": "markdown",
      "metadata": {
        "id": "vlJdOjIX5h3p",
        "colab_type": "text"
      },
      "source": [
        "## Random Agent"
      ]
    },
    {
      "cell_type": "markdown",
      "metadata": {
        "id": "D3tDB8xF5h3p",
        "colab_type": "text"
      },
      "source": [
        "***\n",
        "__Question 3__ Implement a random Agent (only ```learned_act``` needs to be implemented):"
      ]
    },
    {
      "cell_type": "code",
      "metadata": {
        "id": "aRD3H0185h3q",
        "colab_type": "code",
        "colab": {}
      },
      "source": [
        "class RandomAgent(Agent):\n",
        "    def __init__(self):\n",
        "        super(RandomAgent, self).__init__()\n",
        "        pass\n",
        "\n",
        "    def learned_act(self, s):\n",
        "        #we return randomly one of the 4 actions available (0, 1, 2 or 3)\n",
        "        return np.random.randint(4)"
      ],
      "execution_count": 0,
      "outputs": []
    },
    {
      "cell_type": "markdown",
      "metadata": {
        "id": "R4UqeSc05h3r",
        "colab_type": "text"
      },
      "source": [
        "***\n",
        "***\n",
        "__Question 4__ Visualize the game moves. You need to fill in the following function for the evaluation:"
      ]
    },
    {
      "cell_type": "code",
      "metadata": {
        "id": "o-jI4WO95h3r",
        "colab_type": "code",
        "colab": {}
      },
      "source": [
        "def test(agent,env,epochs,prefix=''):\n",
        "    # Number of won games\n",
        "    score = 0\n",
        "        \n",
        "    for e in range(epochs):\n",
        "        \n",
        "        ##### FILL IN HERE\n",
        "        # At each epoch, we restart to a fresh game and get the initial state\n",
        "        state = env.reset()\n",
        "        # This assumes that the games will end\n",
        "        game_over = False\n",
        "    \n",
        "        win = 0\n",
        "        lose = 0\n",
        "    \n",
        "        while not game_over:\n",
        "            # The agent performs an action\n",
        "            action = agent.act(state)\n",
        "    \n",
        "            # Apply an action to the environment, get the next state, the reward\n",
        "            # and if the games end\n",
        "            prev_state = state\n",
        "            state, reward, game_over = env.act(action)\n",
        "    \n",
        "            # Update the counters\n",
        "            if reward > 0:\n",
        "                win = win + reward\n",
        "            if reward < 0:\n",
        "                lose = lose -reward\n",
        "\n",
        "            #I remove the reinforcement learning part as not yet implemented in player\n",
        "\n",
        "\n",
        "        # Save as a mp4\n",
        "        env.draw(prefix+str(e))\n",
        "\n",
        "        # Update stats\n",
        "        score = score + win-lose\n",
        "\n",
        "        print(\"Win/lose count {}/{}. Average score ({})\"\n",
        "              .format(win, lose, score/(1+e)))\n",
        "    print('Final score: '+str(score/epochs))"
      ],
      "execution_count": 0,
      "outputs": []
    },
    {
      "cell_type": "code",
      "metadata": {
        "id": "3p4jcAXp5h3s",
        "colab_type": "code",
        "colab": {
          "base_uri": "https://localhost:8080/",
          "height": 545
        },
        "outputId": "eb61790a-6486-4892-9ec7-107ccd34164a"
      },
      "source": [
        "# Initialize the game\n",
        "env = Environment(grid_size=size, max_time=T,temperature=temperature)\n",
        "\n",
        "# Initialize the agent!\n",
        "agent = RandomAgent()\n",
        "\n",
        "test(agent,env,epochs_test,prefix='random')\n",
        "HTML(display_videos('random0.mp4'))"
      ],
      "execution_count": 149,
      "outputs": [
        {
          "output_type": "stream",
          "text": [
            "Win/lose count 10.5/17.0. Average score (-6.5)\n",
            "Win/lose count 10.5/18.0. Average score (-7.0)\n",
            "Win/lose count 7.5/17.0. Average score (-7.833333333333333)\n",
            "Win/lose count 9.5/7.0. Average score (-5.25)\n",
            "Win/lose count 9.0/23.0. Average score (-7.0)\n",
            "Win/lose count 9.5/8.0. Average score (-5.583333333333333)\n",
            "Win/lose count 12.5/16.0. Average score (-5.285714285714286)\n",
            "Win/lose count 12.0/16.0. Average score (-5.125)\n",
            "Win/lose count 14.0/12.0. Average score (-4.333333333333333)\n",
            "Win/lose count 12.5/16.0. Average score (-4.25)\n",
            "Win/lose count 11.0/11.0. Average score (-3.8636363636363638)\n",
            "Win/lose count 9.5/18.0. Average score (-4.25)\n",
            "Win/lose count 13.0/17.0. Average score (-4.230769230769231)\n",
            "Win/lose count 10.0/19.0. Average score (-4.571428571428571)\n",
            "Win/lose count 6.5/6.0. Average score (-4.233333333333333)\n",
            "Win/lose count 11.0/13.0. Average score (-4.09375)\n",
            "Win/lose count 10.5/14.0. Average score (-4.0588235294117645)\n",
            "Win/lose count 12.5/12.0. Average score (-3.8055555555555554)\n",
            "Win/lose count 9.0/12.0. Average score (-3.763157894736842)\n",
            "Win/lose count 11.5/10.0. Average score (-3.5)\n",
            "Win/lose count 14.0/9.0. Average score (-3.0952380952380953)\n",
            "Final score: -3.0952380952380953\n"
          ],
          "name": "stdout"
        },
        {
          "output_type": "execute_result",
          "data": {
            "text/html": [
              "<video alt=\"test\" controls>\n",
              "                <source src=\"data:video/mp4;base64,AAAAIGZ0eXBpc29tAAACAGlzb21pc28yYXZjMW1wNDEAAAAIZnJlZQAAGH9tZGF0AAACrQYF//+p3EXpvebZSLeWLNgg2SPu73gyNjQgLSBjb3JlIDE1MiByMjg1NCBlOWE1OTAzIC0gSC4yNjQvTVBFRy00IEFWQyBjb2RlYyAtIENvcHlsZWZ0IDIwMDMtMjAxNyAtIGh0dHA6Ly93d3cudmlkZW9sYW4ub3JnL3gyNjQuaHRtbCAtIG9wdGlvbnM6IGNhYmFjPTEgcmVmPTMgZGVibG9jaz0xOjA6MCBhbmFseXNlPTB4MToweDExMSBtZT1oZXggc3VibWU9NyBwc3k9MSBwc3lfcmQ9MS4wMDowLjAwIG1peGVkX3JlZj0xIG1lX3JhbmdlPTE2IGNocm9tYV9tZT0xIHRyZWxsaXM9MSA4eDhkY3Q9MCBjcW09MCBkZWFkem9uZT0yMSwxMSBmYXN0X3Bza2lwPTEgY2hyb21hX3FwX29mZnNldD00IHRocmVhZHM9MyBsb29rYWhlYWRfdGhyZWFkcz0xIHNsaWNlZF90aHJlYWRzPTAgbnI9MCBkZWNpbWF0ZT0xIGludGVybGFjZWQ9MCBibHVyYXlfY29tcGF0PTAgY29uc3RyYWluZWRfaW50cmE9MCBiZnJhbWVzPTMgYl9weXJhbWlkPTIgYl9hZGFwdD0xIGJfYmlhcz0wIGRpcmVjdD0xIHdlaWdodGI9MSBvcGVuX2dvcD0wIHdlaWdodHA9MiBrZXlpbnQ9MjUwIGtleWludF9taW49MjUgc2NlbmVjdXQ9NDAgaW50cmFfcmVmcmVzaD0wIHJjX2xvb2thaGVhZD00MCByYz1jcmYgbWJ0cmVlPTEgY3JmPTIzLjAgcWNvbXA9MC42MCBxcG1pbj0wIHFwbWF4PTY5IHFwc3RlcD00IGlwX3JhdGlvPTEuNDAgYXE9MToxLjAwAIAAAAK9ZYiEADf//vaH+BTZWBP+Wb/9DX/cj9uPrP1xYyEE31qvIejAGS+1H+b/rFFs6Z6UB/fgCJQAc24ZwpJw4v/ApLdW+BTLYTnGrzD8eNPwpbJHJ82I7SV6WKS9MQ7Rcfete4dw3t7V2r1SDtLdyDbk5OF808AL0iobqTnYgTy59ce5OdoEFnaHDvTRvOMWqOkVFtCpZVk6gHI2IlBZprghqnwLwUvtfSMyymBCUD+wSn/3Wb7ah/0fv8vzq6sSsEfd12Dn0Y/4ooAXggihBDgNflwrXpyHCcWzjZ/OVV1JIbVkkVIRVo0PzpOguBMU8sM55YOppAy+XX/KBTOqhUQMMz2XqoVh+SRT7MrOU/ADG2k9bXIXjjiAbIidv1+uDG5e9lpxRzj6NmhArB+wHukdNKU9UJeljoGGblK2fA55e66FBBW+x3jEv5ioCrg3pUKE8wvfU+zHioofMd2ptjOllIRqQSjOHewUX4LsA9xPvWIvroW2TAVmFfeyVYckT50HKqRtRGzer0bC1hZWx0mnfTF6hRkevRuWGMyrkwKLL9jYLtJeoqVkwY1JDW+XS7IlS7pzCzqS7KBpoWtFK6g98DjOAGYegaz3jb8uOy0188OjoRYHIGidbxRSAiKUdZ5PF3Wmr6kaY92U+/baEg1ZKBM2bbBXjdwN6pvqaAg0cmtCOVt3HQbcjYXl+Oq40CvCxJBJLwYlqcga6kAJFq13jq38ArAyf08+kjb8EYqcxWF5v2rPNZPRi+xg3rwdVp3jznkQPNEBzA3bdrIRfqpoOVTuJ9TJjoFD167ZngOrhwAY44FC1wMm/wvD4ZthYckCxKIlGI+2b0iCTfQcPXoqREvYpSPr1QcH1/RguRl+XEPtt44PaNSOVGWMwBECOuYAKhoPCXxNEdTWMUZEzf9BSoK9gT9Es/9inTgACfkAAAAWQZohbEN//qeEAAw/DWbbaAwD+/jDwAAAABdBmkI8IZMphDv//qmWAAmCLDdFOCDfSQAAAChBmmZJ4Q8mUwId//6plgAO/79XMssYVV4FM1xU8CiS/SY1TmOnftzEAAAAEEGehEURPC//ABHc8Zo6njUAAAAPAZ6jdEK/ABfrKu7zdv3BAAAAEAGepWpCvwAYh2o5X6xSdcEAAAApQZqqSahBaJlMCG///qeEAC/+y+r4FNfUK/ApUtn4FM7Au5BbmPW+B0sAAAAQQZ7IRREsL/8AHFTmNpPNbAAAAA8Bnud0Qr8AGSeTeecXSoAAAAAQAZ7pakK/ACa7PHK/WKSrQQAAAB9Bmu5JqEFsmUwIb//+p4QAS0fM1Nm3Gb40+s+bLsGXAAAAIEGfDEUVLC//AC10CCea0dxpcyyrbKHMsInZzLJPcFaOAAAAEAGfK3RCvwAnzB2K3IDSUbEAAAAQAZ8takK/ADzM8C6/tw/OYQAAABlBmy9JqEFsmUwIb//+p4QATUfMeRif5bdDAAAAGUGbUEnhClJlMCHf/qmWACc/Hn79kG4qDzAAAAAeQZt0SeEOiZTAhv/+p4QAM77B/NpdQPDiyE5XalT4AAAAEUGfkkURPC//AB5ftChkFxBBAAAAEAGfsXRCvwAqFo7ytlD05YAAAAAPAZ+zakK/ABsLEDyYI1eAAAAAHEGbuEmoQWiZTAhv//6nhAAg3x0+5kYWzFCOZDkAAAAQQZ/WRREsL/8AE+ZYJ8ckwAAAABABn/V0Qr8AGwAADJLf68BBAAAADwGf92pCvwARV5ompKepgQAAAB1Bm/pJqEFsmUwUTDf//qeEABUfdT9zIwtmKEc0pAAAABABnhlqQr8AENk+c60ML4eBAAAAG0GaHUnhClJlMCGf/p4QAE2+If403agu6BEU+AAAABFBnjtFNEwr/wAP4z5jar00gQAAABABnlxqQr8AD+Goc/zLeE1BAAAAGUGaXkmoQWiZTAhn//6eEAAyfr7+RIj6xB4AAAAYQZp/SeEKUmUwIb/+p4QACGj5jyMT/LgxAAAAF0GagUnhDomUwU0TDP/+nhAAFa+J34WXAAAADwGeoGpCvwAG6sWBdf40IAAAABdBmqJJ4Q8mUwIb//6nhAAId8dM2BQXswAAAB5BmsRJ4Q8mUwURPDf//qeEAAg3x0+64IFufebWL+AAAAAQAZ7jakK/AAbAmSab6SD0cQAAABxBmuZJ4Q8mUwU8N//+p4QABY/dT91pZmpt0XbJAAAAEAGfBWpCvwAEdlkMPoCQftkAAAAcQZsISeEPJlMFPDP//p4QABaq9zXHP5tfX33N8QAAAA8BnydqQr8ABLdnluGza2MAAAAYQZspSeEPJlMCGf/+nhAAFzr3GhdN91/8AAAAGEGbSknhDyZTAhv//qeEAAkqALNsYoTtQQAAABhBm2tJ4Q8mUwIb//6nhAAJaPmPIxP8uA0AAAAaQZuOSeEPJlMCG//+p4QACbfHT3wxXHiAKYAAAAARQZ+sRRE8K/8AB8VcGuMsIIMAAAAOAZ/NakK/AAfEGYyblIcAAAAaQZvPSahBaJlMCHf//qmWAAcdMhJuHBR86TEAAAAdQZvzSeEKUmUwId/+qZYAC26WYtM0AekvPtvJ1CAAAAAQQZ4RRTRML/8ADYKtG0nptAAAAA8BnjB0Qr8AC/PJvPOMFIEAAAAPAZ4yakK/ABJdiPJgevfXAAAAHEGaN0moQWiZTAhv//6nhAAjo+ZqbNuM3xp9DpQAAAAQQZ5VRREsL/8AFZZYJ8cewQAAAA8BnnR0Qr8AHQjDyhoGa8cAAAAPAZ52akK/AB0LAlyv8D9BAAAAHUGaeUmoQWyZTBRMN//+p4QANe6tmJ/q7e6n7WGZAAAAEAGemGpCvwAtajRMiaVnG0AAAAAZQZqaSeEKUmUwId/+qZYAG0+FGVWZtmA/IQAAABZBmr5J4Q6JlMCHf/6plgARBFhujE90AAAAE0Ge3EURPC//AB7HHm/5PhbjRgkAAAAQAZ77dEK/ACspzHAfk//1oQAAABABnv1qQr8AKzY8cr+3D+tAAAAAEkGa4kmoQWiZTAhv//6nhAABJwAAAAxBnwBFESwv/wAAsoEAAAAQAZ8/dEK/ACq21uy6r+Bu4AAAAA8BnyFqQr8ALFwoNfd23jkAAAAdQZskSahBbJlMFEw3//6nhAA0/vs+5kYWzFCOYUwAAAAPAZ9DakK/ACstt0o0h4rLAAAAHEGbRknhClJlMFLDf/6nhAAg3x0+5kYWzFCOZDkAAAAPAZ9lakK/ABsCWlSKBKvpAAAAHEGbaEnhDomUwUTDf/6nhAAfAHia41RL9E/yJ4kAAAAQAZ+HakK/ABnHbhNxn16hzAAAABFBm4xJ4Q8mUwIb//6nhAABJwAAAAxBn6pFETwv/wAAsoEAAAAQAZ/JdEK/ABl85OI7LstjgAAAAA8Bn8tqQr8AGmBY0SueXoEAAAAaQZvNSahBaJlMCG///qeEAB8vYP8JwW6E20EAAAAeQZvwSeEKUmUwIb/+p4QAFI91P3B7p0cyyxMjmiCBAAAAE0GeDkU0TCv/ABBZXRVZ5pmvtMEAAAAQAZ4vakK/AAsUbXb2sMlE4AAAABxBmjJJqEFomUwU8M/+nhAAId8Q/xRLznTYqCswAAAADwGeUWpCvwAHFB/VIoEsUQAAABhBmlNJ4QpSZTAhn/6eEAAVr3TYy5NlYGQAAAAYQZp0SeEOiZTAhv/+p4QABWvdTj/D6tyDAAAAGEGalUnhDyZTAhv//qeEAAVH3U4/w+rciwAAABFBmrlJ4Q8mUwIZ//6eEAAEfAAAAAxBntdFETwv/wAAsoEAAAAPAZ72dEK/AAQJUjiOy7QFAAAAEAGe+GpCvwAECVI72ePuwYAAAAAZQZr6SahBaJlMCGf//p4QABP/dN9FSs1+lwAAABhBmxtJ4QpSZTAhn/6eEAAM76+7tObuMdwAAAAYQZs8SeEOiZTAhv/+p4QAAzvsHr2Z8EbDAAAAGUGbXUnhDyZTAhv//qeEAAMn77Mf4fVupYEAAAAaQZtgSeEPJlMCGf/+nhAAEm+If4xqiy/zBNAAAAASQZ+eRRE8K/8AA8z8DopaSwo8AAAADwGfv2pCvwADzBEzU0EB4QAAABhBm6FJqEFomUwIb//+p4QAAyfvszYFBssAAAAXQZvCSeEKUmUwIb/+p4QABLVtLWfZ9G0AAAAfQZvkSeEOiZTBTRMO//6plgADujqBaJNyjfI6CGfSOQAAABABngNqQr8ABiHVPJgevoSBAAAAG0GaB0nhDyZTAh3//qmWAAPV7S/Z5fizNtoYOQAAABFBniVFETwr/wAGSZua4ywg0QAAAA4BnkZqQr8ABkiQzJuVIwAAAB9BmktJqEFomUwId//+qZYABdxn4zO3q9/m8Tyb5pmAAAAAFEGeaUURLC//AAbpUmbiLLjd8CnNAAAAEAGeiHRCvwAJMIA52xxpzOEAAAAQAZ6KakK/AAluxHkuZ8oRgAAAABNBmo9JqEFsmUwId//+qZYAAJWAAAAADEGerUUVLC//AACygQAAABABnsx0Qr8ADoWKxefwOXZBAAAADwGezmpCvwAJUqRus9WgjwAAABpBmtJJqEFsmUwId//+qZYABgILK4zS/thIwAAAAA9BnvBFFSwr/wAJrJuHGkAAAAAPAZ8RakK/AAmwawLr/EjBAAAAE0GbFkmoQWyZTAh3//6plgAAlYAAAAATQZ80RRUsL/8ABxWuuUzHzERXPQAAABABn1N0Qr8ACfWjvK2UPaWBAAAAEAGfVWpCvwAJ8o0TImlaF8AAAAAdQZtaSahBbJlMCHf//qmWAA46ZMB3Dgo+YrboCYEAAAAQQZ94RRUsL/8AENz7caaJNQAAAA8Bn5d0Qr8ADt2KxhCrnMAAAAAQAZ+ZakK/ABdLHjlf24gcwQAAABxBm55JqEFsmUwIb//+p4QAHG99n3MjC2YoRzLcAAAAEEGfvEUVLC//ABDc/ZuCFHEAAAAPAZ/bdEK/ABdIwgMkubzBAAAADwGf3WpCvwAXRtulGkPGKwAAABlBm8FJqEFsmUwIb//+p4QAEe+OmP8Pq27fAAAAEkGf/0UVLCv/AA6AMAgFMA52YQAAAA4BngBqQr8ADoV+ke5/rgAAAB9BmgNJqEFsmUwUTDf//qeEABpXVsxP9Xb4/QJ3/QrvAAAAEAGeImpCvwAVmyITcZ9eo3gAAAAeQZolSeEKUmUwUsN//qeEACn4rVMf6t2+ysMT65fhAAAADwGeRGpCvwAhuxHkwPXurwAAABlBmklJ4Q6JlMCG//6nhAAqAKDbxP5IX1DhAAAAEEGeZ0UVPC//ABklWpVqdE0AAAAPAZ6GdEK/ACG2hAZJcy2AAAAADwGeiGpCvwAhsrkVeAKAEwAAABpBmopJqEFomUwIb//+p4QAEW+On1HGhIdgQQAAABlBmqtJ4QpSZTAh3/6plgAFv99X12INxVkwAAAAEUGaz0nhDomUwIb//qeEAAEnAAAADEGe7UURPC//AACygQAAABABnwx0Qr8ABec5O/AB9z3BAAAAEAGfDmpCvwAJLa13WQw5rYEAAAAaQZsSSahBaJlMCG///qeEAAdoHhTrOn3XvoAAAAASQZ8wRREsK/8ACS9Ou8xg7VwUAAAAEAGfUWpCvwAJbmjeaYq21sEAAAAdQZtUSahBbJlMFEw3//6nhAAL66tUx/q3b7B+vpQAAAAQAZ9zakK/AAmuzy3DZtW7gAAAABlBm3dJ4QpSZTAhv/6nhAASVAFm22fZ843BAAAAD0GflUU0TCv/AA7YP+bKYAAAAA8Bn7ZqQr8ADy84bA5T44EAAAAaQZu4SahBaJlMCHf//qmWAA46ZCTcOCj5uVEAAAAcQZvcSeEKUmUwIb/+p4QALH7qcf4muNUQfN4ZFgAAABBBn/pFNEwv/wAaYPrCrwpbAAAADwGeGXRCvwAjwgDoTkv8wAAAABABnhtqQr8AIrtEJuM+vT+5AAAAGkGaHUmoQWiZTAh3//6plgAV331ZVZm2YFFBAAAAG0GaIUnhClJlMCG//qeEAGRpGQ9VvmPwzZb1mgAAABBBnl9FNEwv/wA7ac0q1OPqAAAADwGefnRCvwAhtoQGSXMtgQAAABABnmBqQr8AUex45X9uH4BAAAAAEkGaZUmoQWiZTAhv//6nhAABJwAAABNBnoNFESwv/wCO23bNv1o/kjG3AAAAEAGeonRCvwDDyWvA6ZTc+IEAAAAQAZ6kakK/AMOS2nXgCfz4gQAAABpBmqZJqEFsmUwIb//+p4QAZP2D/CcFuhJxwQAAABZBmspJ4QpSZTAhv/6nhAA+XsH+XheBAAAAE0Ge6EU0TC//ADoQlO+tjg/HJIAAAAAQAZ8HdEK/AE+zRInxZijkkAAAABABnwlqQr8AT5uQw+gJBxypAAAAHEGbC0moQWiZTAh3//6plgAylSDNAHqSGJ+6kEAAAAARQZsvSeEKUmUwIb/+p4QAAScAAAAMQZ9NRTRML/8AALKBAAAAEAGfbHRCvwB8bFYwqRu4RfEAAAAQAZ9uakK/AHxNQ6E2N9lWYQAAABpBm3JJqEFomUwIb//+p4QAZt1aQQif5bbwgAAAAA9Bn5BFESwr/wBUGtw14sAAAAAQAZ+xakK/AFMso72ePt3CgQAAABpBm7NJqEFsmUwIb//+p4QAaV1aQQif5bbqgAAAAB9Bm9VJ4QpSZTBRUsN//qeEAKditUx/LgGZBqYP49qQAAAADwGf9GpCvwCG7EeTA9e3LwAAABhBm/ZJ4Q6JlMCHf/6plgBW9LKzitOQumAAAAAbQZoZSeEPJlMCG//+p4QBBEAWbbaAwCa/ul3RAAAAD0GeN0URPCv/ANeS1ml7oQAAAA0BnlhqQr8A19iw8UvdAAAAF0GaXUmoQWiZTAhv//6nhAEN+On2uMqBAAAADkGee0URLC//AKOyoDZgAAAAEAGemnRCvwDcvJvMEsbRTxkAAAAQAZ6cakK/ANyCxr6oOnlpOQAAABpBmoBJqEFsmUwIZ//+nhAEEEOPetsHOxyggAAAAA9Bnr5FFSwr/wDckaBrScAAAAANAZ7fakK/ANzYkW9aTwAAABxBmsFJqEFsmUwIb//+p4QBDfkcAmv8JwW6EipgAAAAH0Ga40nhClJlMFFSwz/+nhACwgAsWqN9/M8hMo4SJgUAAAAQAZ8CakK/AJLmjeaYq2kMwAAAABlBmwRJ4Q6JlMCG//6nhAB2geFOs6fdbe6BAAAAG0GbJ0nhDyZTAhn//p4QAtfum+wFrsmI+qf3QQAAABJBn0VFETwr/wCW9Ou7wKagjYEAAAAOAZ9makK/AJbK68BtdKsAAAAbQZtpS6hCEFokRggoB/IB/YeAU8K//jhAABFwAAAAJQGfiGpCvwKvY+1BxN2qw0km5aqGByy1vR9ax+4cFZDVMbBO34AAAAu4bW9vdgAAAGxtdmhkAAAAAAAAAAAAAAAAAAAD6AAAH5AAAQAAAQAAAAAAAAAAAAAAAAEAAAAAAAAAAAAAAAAAAAABAAAAAAAAAAAAAAAAAABAAAAAAAAAAAAAAAAAAAAAAAAAAAAAAAAAAAAAAAAAAgAACuJ0cmFrAAAAXHRraGQAAAADAAAAAAAAAAAAAAABAAAAAAAAH5AAAAAAAAAAAAAAAAAAAAAAAAEAAAAAAAAAAAAAAAAAAAABAAAAAAAAAAAAAAAAAABAAAAAARAAAAEQAAAAAAAkZWR0cwAAABxlbHN0AAAAAAAAAAEAAB+QAAAEAAABAAAAAApabWRpYQAAACBtZGhkAAAAAAAAAAAAAAAAAAAyAAABlABVxAAAAAAALWhkbHIAAAAAAAAAAHZpZGUAAAAAAAAAAAAAAABWaWRlb0hhbmRsZXIAAAAKBW1pbmYAAAAUdm1oZAAAAAEAAAAAAAAAAAAAACRkaW5mAAAAHGRyZWYAAAAAAAAAAQAAAAx1cmwgAAAAAQAACcVzdGJsAAAAlXN0c2QAAAAAAAAAAQAAAIVhdmMxAAAAAAAAAAEAAAAAAAAAAAAAAAAAAAAAARABEABIAAAASAAAAAAAAAABAAAAAAAAAAAAAAAAAAAAAAAAAAAAAAAAAAAAAAAAAAAAGP//AAAAL2F2Y0MB9AAN/+EAF2f0AA2RmygiEdCAAAADAIAAABkHihTLAQAFaOvjxEgAAAAYc3R0cwAAAAAAAAABAAAAygAAAgAAAAAUc3RzcwAAAAAAAAABAAAAAQAABZBjdHRzAAAAAAAAALAAAAADAAAEAAAAAAEAAAoAAAAAAQAABAAAAAABAAAAAAAAAAEAAAIAAAAAAQAACgAAAAABAAAEAAAAAAEAAAAAAAAAAQAAAgAAAAABAAAKAAAAAAEAAAQAAAAAAQAAAAAAAAABAAACAAAAAAIAAAQAAAAAAQAACgAAAAABAAAEAAAAAAEAAAAAAAAAAQAAAgAAAAABAAAKAAAAAAEAAAQAAAAAAQAAAAAAAAABAAACAAAAAAEAAAYAAAAAAQAAAgAAAAABAAAIAAAAAAIAAAIAAAAAAgAABAAAAAABAAAGAAAAAAEAAAIAAAAAAQAABAAAAAABAAAGAAAAAAEAAAIAAAAAAQAABgAAAAABAAACAAAAAAEAAAYAAAAAAQAAAgAAAAADAAAEAAAAAAEAAAgAAAAAAgAAAgAAAAABAAAEAAAAAAEAAAoAAAAAAQAABAAAAAABAAAAAAAAAAEAAAIAAAAAAQAACgAAAAABAAAEAAAAAAEAAAAAAAAAAQAAAgAAAAABAAAGAAAAAAEAAAIAAAAAAQAABAAAAAABAAAKAAAAAAEAAAQAAAAAAQAAAAAAAAABAAACAAAAAAEAAAoAAAAAAQAABAAAAAABAAAAAAAAAAEAAAIAAAAAAQAABgAAAAABAAACAAAAAAEAAAYAAAAAAQAAAgAAAAABAAAGAAAAAAEAAAIAAAAAAQAACgAAAAABAAAEAAAAAAEAAAAAAAAAAQAAAgAAAAABAAAEAAAAAAEAAAgAAAAAAgAAAgAAAAABAAAGAAAAAAEAAAIAAAAAAwAABAAAAAABAAAKAAAAAAEAAAQAAAAAAQAAAAAAAAABAAACAAAAAAQAAAQAAAAAAQAACAAAAAACAAACAAAAAAIAAAQAAAAAAQAABgAAAAABAAACAAAAAAEAAAgAAAAAAgAAAgAAAAABAAAKAAAAAAEAAAQAAAAAAQAAAAAAAAABAAACAAAAAAEAAAoAAAAAAQAABAAAAAABAAAAAAAAAAEAAAIAAAAAAQAACAAAAAACAAACAAAAAAEAAAoAAAAAAQAABAAAAAABAAAAAAAAAAEAAAIAAAAAAQAACgAAAAABAAAEAAAAAAEAAAAAAAAAAQAAAgAAAAABAAAKAAAAAAEAAAQAAAAAAQAAAAAAAAABAAACAAAAAAEAAAgAAAAAAgAAAgAAAAABAAAGAAAAAAEAAAIAAAAAAQAABgAAAAABAAACAAAAAAEAAAoAAAAAAQAABAAAAAABAAAAAAAAAAEAAAIAAAAAAgAABAAAAAABAAAKAAAAAAEAAAQAAAAAAQAAAAAAAAABAAACAAAAAAEAAAgAAAAAAgAAAgAAAAABAAAGAAAAAAEAAAIAAAAAAQAACAAAAAACAAACAAAAAAEAAAQAAAAAAQAACgAAAAABAAAEAAAAAAEAAAAAAAAAAQAAAgAAAAABAAAEAAAAAAEAAAoAAAAAAQAABAAAAAABAAAAAAAAAAEAAAIAAAAAAQAACgAAAAABAAAEAAAAAAEAAAAAAAAAAQAAAgAAAAABAAAEAAAAAAEAAAoAAAAAAQAABAAAAAABAAAAAAAAAAEAAAIAAAAAAQAABAAAAAABAAAKAAAAAAEAAAQAAAAAAQAAAAAAAAABAAACAAAAAAEAAAgAAAAAAgAAAgAAAAABAAAEAAAAAAEAAAYAAAAAAQAAAgAAAAABAAAEAAAAAAEAAAgAAAAAAgAAAgAAAAABAAAKAAAAAAEAAAQAAAAAAQAAAAAAAAABAAACAAAAAAEAAAgAAAAAAgAAAgAAAAABAAAEAAAAAAEAAAYAAAAAAQAAAgAAAAABAAAEAAAAAAEAAAgAAAAAAgAAAgAAAAABAAAGAAAAAAEAAAIAAAAAHHN0c2MAAAAAAAAAAQAAAAEAAADKAAAAAQAAAzxzdHN6AAAAAAAAAAAAAADKAAAFcgAAABoAAAAbAAAALAAAABQAAAATAAAAFAAAAC0AAAAUAAAAEwAAABQAAAAjAAAAJAAAABQAAAAUAAAAHQAAAB0AAAAiAAAAFQAAABQAAAATAAAAIAAAABQAAAAUAAAAEwAAACEAAAAUAAAAHwAAABUAAAAUAAAAHQAAABwAAAAbAAAAEwAAABsAAAAiAAAAFAAAACAAAAAUAAAAIAAAABMAAAAcAAAAHAAAABwAAAAeAAAAFQAAABIAAAAeAAAAIQAAABQAAAATAAAAEwAAACAAAAAUAAAAEwAAABMAAAAhAAAAFAAAAB0AAAAaAAAAFwAAABQAAAAUAAAAFgAAABAAAAAUAAAAEwAAACEAAAATAAAAIAAAABMAAAAgAAAAFAAAABUAAAAQAAAAFAAAABMAAAAeAAAAIgAAABcAAAAUAAAAIAAAABMAAAAcAAAAHAAAABwAAAAVAAAAEAAAABMAAAAUAAAAHQAAABwAAAAcAAAAHQAAAB4AAAAWAAAAEwAAABwAAAAbAAAAIwAAABQAAAAfAAAAFQAAABIAAAAjAAAAGAAAABQAAAAUAAAAFwAAABAAAAAUAAAAEwAAAB4AAAATAAAAEwAAABcAAAAXAAAAFAAAABQAAAAhAAAAFAAAABMAAAAUAAAAIAAAABQAAAATAAAAEwAAAB0AAAAWAAAAEgAAACMAAAAUAAAAIgAAABMAAAAdAAAAFAAAABMAAAATAAAAHgAAAB0AAAAVAAAAEAAAABQAAAAUAAAAHgAAABYAAAAUAAAAIQAAABQAAAAdAAAAEwAAABMAAAAeAAAAIAAAABQAAAATAAAAFAAAAB4AAAAfAAAAFAAAABMAAAAUAAAAFgAAABcAAAAUAAAAFAAAAB4AAAAaAAAAFwAAABQAAAAUAAAAIAAAABUAAAAQAAAAFAAAABQAAAAeAAAAEwAAABQAAAAeAAAAIwAAABMAAAAcAAAAHwAAABMAAAARAAAAGwAAABIAAAAUAAAAFAAAAB4AAAATAAAAEQAAACAAAAAjAAAAFAAAAB0AAAAfAAAAFgAAABIAAAAfAAAAKQAAABRzdGNvAAAAAAAAAAEAAAAwAAAAYnVkdGEAAABabWV0YQAAAAAAAAAhaGRscgAAAAAAAAAAbWRpcmFwcGwAAAAAAAAAAAAAAAAtaWxzdAAAACWpdG9vAAAAHWRhdGEAAAABAAAAAExhdmY1Ny44My4xMDA=\" type=\"video/mp4\" />\n",
              "             </video>"
            ],
            "text/plain": [
              "<IPython.core.display.HTML object>"
            ]
          },
          "metadata": {
            "tags": []
          },
          "execution_count": 149
        }
      ]
    },
    {
      "cell_type": "markdown",
      "metadata": {
        "id": "jtkYTJ3C5h3u",
        "colab_type": "text"
      },
      "source": [
        "***\n",
        "## DQN"
      ]
    },
    {
      "cell_type": "markdown",
      "metadata": {
        "id": "XKxnabxF5h3u",
        "colab_type": "text"
      },
      "source": [
        "Let us assume here that $T=\\infty$.\n",
        "\n",
        "***\n",
        "__Question 5__ Let $\\pi$ be a policy, show that:\n",
        "\n",
        "\\begin{equation*}\n",
        "Q^{\\pi}(s,a)=E_{(s',a')\\sim p(.|s,a)}[r(s,a)+\\gamma Q^{\\pi}(s',a')]\n",
        "\\end{equation*}\n",
        "\n",
        "Then, show that for the optimal policy $\\pi^*$ (we assume its existence), the following holds: \n",
        "\n",
        "\\begin{equation*}\n",
        "Q^{*}(s,a)=E_{s'\\sim \\pi^*(.|s,a)}[r(s,a)+\\gamma\\max_{a'}Q^{*}(s',a')].\n",
        "\\end{equation*}\n",
        "Finally, deduce that a plausible objective is:\n",
        "\n",
        "\\begin{equation*}\n",
        "\\mathcal{L}(\\theta)=E_{s' \\sim \\pi^*(.|s,a)}\\Vert r+\\gamma\\max_{a'}Q(s',a',\\theta)-Q(s,a,\\theta)\\Vert^{2}.\n",
        "\\end{equation*}\n",
        "\n"
      ]
    },
    {
      "cell_type": "markdown",
      "metadata": {
        "id": "mcTeEaT95h3u",
        "colab_type": "text"
      },
      "source": [
        "From the definition of $Q^\\pi$, we have :\n",
        "$Q^\\pi(s,a) = E_{p^\\pi} [\\sum_{t=0}^T \\gamma^t r(s_t, a_t)|s_0=s,a_0=a]$\n",
        "\\\n",
        "=> $Q^\\pi(s,a) = E_{p^\\pi} [\\gamma^0 r(s_0, a_0] + \\sum_{t=1}^T [\\gamma^t r(s_t, a_t)|s_0=s,a_0=a]$\n",
        "\\\n",
        "=> $Q^\\pi(s,a) = E_{p^\\pi} [r(s_0, a_0)|s_0=s,a_0=a] + E_{p^\\pi} [\\sum_{t=0}^T \\gamma^{t+1} r(s_{t+1}, a_{t+1})|s_0=s,a_0=a]$\n",
        "\\\n",
        "=> $Q^\\pi(s,a) = E_{p^\\pi} [r(s, a)] + E_{p^\\pi} [\\sum_{s' \\in S} Pr(s_1=s'|s_0=s, a_0=a) \\times \\sum_{a' \\in A} Pr(a_1=a'|s_1 = s', s_0=s, a_0=a) \\times \\sum_{t=0}^T \\gamma^{t+1} r(s_{t+1}, a_{t+1})|s_1=s',a_1=a']$ \n",
        "\\\n",
        "=> $Q^\\pi(s,a) = r(s, a) + E_{(s',a')\\sim p(.|s, a)} \\gamma \\times E_{p^\\pi} [\\sum_{t=0}^T \\gamma^{t} r(s_{t+1}, a_{t+1})|s_1=s',a_1=a']$\n",
        "\\\n",
        "=> $Q^\\pi(s,a) = r(s, a) + E_{(s',a')\\sim p(.|s, a)} \\gamma Q^\\pi(s',a')$\n",
        "\\\n",
        "=> $Q^\\pi(s,a) = E_{(s',a')\\sim p(.|s, a)} [r(s, a) + \\gamma Q^\\pi(s',a')]$\n",
        "\n",
        "\\\n",
        "\\\n",
        "Let's replace $Q^\\pi$ by $Q^*$ in the previous equation as it stand for any policy:\n",
        "\\\n",
        "=> $Q^*(s,a) = E_{(s',a')\\sim \\pi^*(.|s, a)} [r(s, a) + \\gamma Q^*(s',a')]$\n",
        "\\\n",
        "Or, with the policy $\\pi^*$, the next action a' is determined by the policy as being $max_{a'}\\pi^*(s', a'|s, a)$. We don't need anymore to some over the $a'$ but only take the $max_{a'}$. Finally, we have :\n",
        "\\\n",
        "=> $Q^*(s,a) = E_{s'\\sim \\pi^*(.|s, a)} [max_{a'}r(s, a) + \\gamma max_{a'}Q^*(s',a')]$\n",
        "\\\n",
        "=> $Q^*(s,a) = E_{s'\\sim \\pi^*(.|s, a)} [r(s, a) + \\gamma max_{a'}Q^*(s',a')]$\n",
        "\n",
        "\\\n",
        "\\\n",
        "We want to find the function $Q(s,a,\\theta)$ related with the optimal policy $\\pi^*$ meaning that the previous equation stands. This mean :\n",
        "\\\n",
        "$0 = E_{s'\\sim \\pi^*(.|s, a)} [r(s, a) + \\gamma max_{a'}Q^*(s',a',\\theta)] - Q^*(s,a,\\theta)$\n",
        "\\\n",
        "=> $0 = E_{s'\\sim \\pi^*(.|s, a)} [r(s, a) + \\gamma max_{a'}Q^*(s',a',\\theta)- Q^*(s,a,\\theta)]$\n",
        "\\\n",
        "As we need a objective to minimize, we can apply square to force convergence to 0 and so have an objective loss as:\n",
        "\\\n",
        "\\begin{equation*}\n",
        "\\mathcal{L}(\\theta)=E_{s' \\sim \\pi^*(.|s,a)}\\Vert r(s,a)+\\gamma\\max_{a'}Q(s',a',\\theta)-Q(s,a,\\theta)\\Vert^{2}.\n",
        "\\end{equation*}\n",
        "\n",
        "\n",
        "\n"
      ]
    },
    {
      "cell_type": "markdown",
      "metadata": {
        "id": "pf-7LkcX5h3v",
        "colab_type": "text"
      },
      "source": [
        "***\n",
        "The DQN-learning algorithm relies on these derivations to train the parameters $\\theta$ of a Deep Neural Network:\n",
        "\n",
        "1. At the state $s_t$, select the action $a_t$ with best reward using $Q_t$ and store the results;\n",
        "\n",
        "2. Obtain the new state $s_{t+1}$ from the environment $p$;\n",
        "\n",
        "3. Store $(s_t,a_t,s_{t+1})$;\n",
        "\n",
        "4. Obtain $Q_{t+1}$ by minimizing  $\\mathcal{L}$ from a recovered batch from the previously stored results.\n",
        "\n",
        "***\n",
        "__Question 6__ Implement the class ```Memory``` that stores moves (in a replay buffer) via ```remember``` and provides a ```random_access``` to these. Specify a maximum memory size to avoid side effects. You can for example use a ```list()``` and set by default ```max_memory=100```."
      ]
    },
    {
      "cell_type": "code",
      "metadata": {
        "id": "56Gldyxp5h3v",
        "colab_type": "code",
        "colab": {}
      },
      "source": [
        "class Memory(object):\n",
        "    def __init__(self, max_memory=100):\n",
        "        self.max_memory = max_memory\n",
        "        self.memory = list()\n",
        "\n",
        "    def remember(self, m):\n",
        "        self.memory.append(m)\n",
        "        if len(self.memory) > self.max_memory:\n",
        "          self.memory.pop(0)\n",
        "\n",
        "    def random_access(self):\n",
        "        rnd_idx = np.random.randint(len(self.memory))\n",
        "        return self.memory[rnd_idx]"
      ],
      "execution_count": 0,
      "outputs": []
    },
    {
      "cell_type": "markdown",
      "metadata": {
        "id": "j89WgLdD5h3x",
        "colab_type": "text"
      },
      "source": [
        "***\n",
        "The pipeline we will use for training is given below:"
      ]
    },
    {
      "cell_type": "code",
      "metadata": {
        "id": "iKGVQwiJ5h3x",
        "colab_type": "code",
        "colab": {}
      },
      "source": [
        "def train(agent,env,epoch,prefix=''):\n",
        "    # Number of won games\n",
        "    score = 0\n",
        "    loss = 0\n",
        "\n",
        "    for e in range(epoch):\n",
        "        # At each epoch, we restart to a fresh game and get the initial state\n",
        "        state = env.reset()\n",
        "        # This assumes that the games will terminate\n",
        "        game_over = False\n",
        "\n",
        "        win = 0\n",
        "        lose = 0\n",
        "\n",
        "        while not game_over:\n",
        "            # The agent performs an action\n",
        "            action = agent.act(state)\n",
        "\n",
        "            # Apply an action to the environment, get the next state, the reward\n",
        "            # and if the games end\n",
        "            prev_state = state\n",
        "            state, reward, game_over = env.act(action)\n",
        "\n",
        "            # Update the counters\n",
        "            if reward > 0:\n",
        "                win = win + reward\n",
        "            if reward < 0:\n",
        "                lose = lose -reward\n",
        "\n",
        "            # Apply the reinforcement strategy\n",
        "            loss = agent.reinforce(prev_state, state,  action, reward, game_over)\n",
        "\n",
        "        # Save as a mp4\n",
        "        if e % 10 == 0:\n",
        "            env.draw(prefix+str(e))\n",
        "\n",
        "        # Update stats\n",
        "        score += win-lose\n",
        "\n",
        "        print(\"Epoch {:03d}/{:03d} | Loss {:.4f} | Win/lose count {}/{} ({})\"\n",
        "              .format(e, epoch, loss, win, lose, win-lose))\n",
        "        agent.save(name_weights=prefix+'model.h5',name_model=prefix+'model.json')"
      ],
      "execution_count": 0,
      "outputs": []
    },
    {
      "cell_type": "markdown",
      "metadata": {
        "id": "-RCyNSs05h3z",
        "colab_type": "text"
      },
      "source": [
        "***\n",
        "__Question 7__ Implement the DQN training algorithm using a cascade of fully connected layers. You can use different learning rate, batch size or memory size parameters. In particular, the loss might oscillate while the player will start to win the games. You have to find a good criterium."
      ]
    },
    {
      "cell_type": "code",
      "metadata": {
        "id": "KBOa4gwA5h3z",
        "colab_type": "code",
        "colab": {}
      },
      "source": [
        "class DQN(Agent):\n",
        "    def __init__(self, grid_size,  epsilon = 0.1, memory_size=100, batch_size = 16,n_state=2):\n",
        "        super(DQN, self).__init__(epsilon = epsilon)\n",
        "\n",
        "        # Discount for Q learning\n",
        "        self.discount = 0.99\n",
        "        \n",
        "        self.grid_size = grid_size\n",
        "        \n",
        "        # number of state\n",
        "        self.n_state = n_state\n",
        "\n",
        "        # Memory\n",
        "        self.memory = Memory(memory_size)\n",
        "        \n",
        "        # Batch size when learning\n",
        "        self.batch_size = batch_size\n",
        "\n",
        "    def learned_act(self, s):\n",
        "        return np.argmax(self.model.predict(np.array([s]))[0])\n",
        "\n",
        "    def reinforce(self, s_, n_s_, a_, r_, game_over_):\n",
        "        # Two steps: first memorize the states, second learn from the pool\n",
        "\n",
        "        self.memory.remember([s_, n_s_, a_, r_, game_over_])\n",
        "        \n",
        "        input_states = np.zeros((self.batch_size, 5,5,self.n_state))\n",
        "        target_q = np.zeros((self.batch_size, 4))\n",
        "        \n",
        "        for i in range(self.batch_size):\n",
        "            #get a record from memory\n",
        "            rnd_s_, rnd_n_s_, rnd_a_, rnd_r_, rnd_game_over_ = self.memory.random_access()\n",
        "            #input it in input_states\n",
        "            input_states[i,...] = rnd_s_\n",
        "            \n",
        "            if game_over_:\n",
        "                #assign target_q = q(s,a) for all a\n",
        "                target_q[i,:] = self.model.predict(np.array([rnd_s_]))[0]\n",
        "                #except for the action a where we apply bellman equation\n",
        "                #reward of r only as game over\n",
        "                target_q[i,rnd_a_] = rnd_r_\n",
        "            else:\n",
        "                #assign target_q = q(s,a) for all a\n",
        "                target_q[i,:] = self.model.predict(np.array([rnd_s_]))[0]\n",
        "                #except for the action a where we apply bellman equation\n",
        "                #q(s, a) = gamma * [max(a') q(s',a')] + r\n",
        "                target_q[i,rnd_a_] = np.max(self.model.predict(np.array([rnd_n_s_]))[0]) * self.discount\n",
        "                target_q[i,rnd_a_] += rnd_r_\n",
        "\n",
        "\n",
        "        ######## FILL IN\n",
        "        # HINT: Clip the target to avoid exploiding gradients.. -- clipping is a bit tighter\n",
        "        target_q = np.clip(target_q, -3, 3)\n",
        "\n",
        "        l = self.model.train_on_batch(input_states, target_q)\n",
        "\n",
        "\n",
        "        return l\n",
        "\n",
        "    def save(self,name_weights='model.h5',name_model='model.json'):\n",
        "        self.model.save_weights(name_weights, overwrite=True)\n",
        "        with open(name_model, \"w\") as outfile:\n",
        "            json.dump(self.model.to_json(), outfile)\n",
        "            \n",
        "    def load(self,name_weights='model.h5',name_model='model.json'):\n",
        "        with open(name_model, \"r\") as jfile:\n",
        "            model = model_from_json(json.load(jfile))\n",
        "        model.load_weights(name_weights)\n",
        "        model.compile(\"sgd\", \"mse\")\n",
        "        self.model = model\n",
        "\n",
        "            \n",
        "class DQN_FC(DQN):\n",
        "    def __init__(self, *args, lr=0.1,**kwargs):\n",
        "        super(DQN_FC, self).__init__( *args,**kwargs)\n",
        "        \n",
        "        # NN Model\n",
        "        model = Sequential()\n",
        "        model.add(Reshape((-1,),input_shape=(5,5,self.n_state), name='Reshape'))\n",
        "        model.add(Dense(32, activation='relu'))\n",
        "        model.add(BatchNormalization())\n",
        "        model.add(Dense(8, activation='relu'))\n",
        "        model.add(BatchNormalization())\n",
        "        model.add(Dense(4))\n",
        "\n",
        "        model.summary()\n",
        "        \n",
        "        model.compile(sgd(lr=lr, decay=1e-4, momentum=0.0), \"mse\")\n",
        "        self.model = model\n",
        "        "
      ],
      "execution_count": 0,
      "outputs": []
    },
    {
      "cell_type": "code",
      "metadata": {
        "id": "_RCoik0f5h30",
        "colab_type": "code",
        "colab": {
          "base_uri": "https://localhost:8080/",
          "height": 527
        },
        "outputId": "7691debe-312c-4385-92d5-d286d56ef153"
      },
      "source": [
        "env = Environment(grid_size=size, max_time=T, temperature=0.3)\n",
        "agent = DQN_FC(size, lr=.1, epsilon = 0.1, memory_size=2000, batch_size = 64)\n",
        "train(agent, env, epochs_train, prefix='fc_train')\n",
        "HTML(display_videos('fc_train10.mp4'))"
      ],
      "execution_count": 0,
      "outputs": [
        {
          "output_type": "stream",
          "text": [
            "Model: \"sequential_62\"\n",
            "_________________________________________________________________\n",
            "Layer (type)                 Output Shape              Param #   \n",
            "=================================================================\n",
            "Reshape (Reshape)            (None, 50)                0         \n",
            "_________________________________________________________________\n",
            "dense_80 (Dense)             (None, 32)                1632      \n",
            "_________________________________________________________________\n",
            "batch_normalization_42 (Batc (None, 32)                128       \n",
            "_________________________________________________________________\n",
            "dense_81 (Dense)             (None, 8)                 264       \n",
            "_________________________________________________________________\n",
            "batch_normalization_43 (Batc (None, 8)                 32        \n",
            "_________________________________________________________________\n",
            "dense_82 (Dense)             (None, 4)                 36        \n",
            "=================================================================\n",
            "Total params: 2,092\n",
            "Trainable params: 2,012\n",
            "Non-trainable params: 80\n",
            "_________________________________________________________________\n",
            "Epoch 000/021 | Loss 2.3727 | Win/lose count 4.5/11.0 (-6.5)\n",
            "Epoch 001/021 | Loss 2.0834 | Win/lose count 4.0/15.0 (-11.0)\n",
            "Epoch 002/021 | Loss 2.2526 | Win/lose count 4.5/8.0 (-3.5)\n",
            "Epoch 003/021 | Loss 2.2430 | Win/lose count 2.5/5.0 (-2.5)\n",
            "Epoch 004/021 | Loss 1.3309 | Win/lose count 3.5/2.0 (1.5)\n",
            "Epoch 005/021 | Loss 2.1651 | Win/lose count 6.0/8.0 (-2.0)\n",
            "Epoch 006/021 | Loss 2.2794 | Win/lose count 4.0/13.0 (-9.0)\n",
            "Epoch 007/021 | Loss 1.9801 | Win/lose count 4.0/4.0 (0.0)\n",
            "Epoch 008/021 | Loss 2.1222 | Win/lose count 4.0/6.0 (-2.0)\n",
            "Epoch 009/021 | Loss 1.9888 | Win/lose count 7.0/8.0 (-1.0)\n"
          ],
          "name": "stdout"
        }
      ]
    },
    {
      "cell_type": "markdown",
      "metadata": {
        "id": "8K4_B9Kl5h31",
        "colab_type": "text"
      },
      "source": [
        "***\n",
        "***\n",
        "__Question 8__ Implement the DQN training algorithm using a CNN (for example, 2 convolutional layers and one final fully connected layer)."
      ]
    },
    {
      "cell_type": "code",
      "metadata": {
        "id": "g8vJTuKt5h31",
        "colab_type": "code",
        "colab": {}
      },
      "source": [
        "class DQN_CNN(DQN):\n",
        "    def __init__(self, *args,lr=0.1,**kwargs):\n",
        "        super(DQN_CNN, self).__init__(*args,**kwargs)\n",
        "        \n",
        "        model = Sequential()\n",
        "        model.add(Conv2D(4,2, padding='same', activation='relu', input_shape = (5,5,self.n_state)))\n",
        "        model.add(BatchNormalization())\n",
        "        model.add(AveragePooling2D(2, 1))\n",
        "        model.add(Conv2D(8,2, padding='same', activation='relu'))\n",
        "        model.add(BatchNormalization())\n",
        "        model.add(AveragePooling2D(2, 1))\n",
        "        #model.add(Conv2D(24,2, padding='same', activation='relu'))\n",
        "        #model.add(BatchNormalization())\n",
        "        #model.add(AveragePooling2D(2, 1))\n",
        "        #model.add(Conv2D(48,2, padding='same', activation='relu'))\n",
        "        #model.add(BatchNormalization())\n",
        "        model.add(Reshape((-1,)))\n",
        "        model.add(Dense(4))\n",
        "        \n",
        "\n",
        "        model.summary()\n",
        "        \n",
        "        model.compile(sgd(lr=lr, decay=1e-4, momentum=0.0), \"mse\")\n",
        "        self.model = model"
      ],
      "execution_count": 0,
      "outputs": []
    },
    {
      "cell_type": "code",
      "metadata": {
        "id": "U7upvWFR5h32",
        "colab_type": "code",
        "colab": {
          "base_uri": "https://localhost:8080/",
          "height": 647
        },
        "outputId": "f8d52ba1-4447-4ae2-a948-e4187a42e2a5"
      },
      "source": [
        "env = Environment(grid_size=size, max_time=T, temperature=0.3)\n",
        "agent = DQN_CNN(size, lr=.1, epsilon = 0.1, memory_size=2000, batch_size = 32)\n",
        "train(agent,env,epochs_train,prefix='cnn_train')\n",
        "HTML(display_videos('cnn_train10.mp4'))"
      ],
      "execution_count": 135,
      "outputs": [
        {
          "output_type": "stream",
          "text": [
            "Model: \"sequential_58\"\n",
            "_________________________________________________________________\n",
            "Layer (type)                 Output Shape              Param #   \n",
            "=================================================================\n",
            "conv2d_30 (Conv2D)           (None, 5, 5, 4)           36        \n",
            "_________________________________________________________________\n",
            "conv2d_31 (Conv2D)           (None, 5, 5, 8)           136       \n",
            "_________________________________________________________________\n",
            "reshape_20 (Reshape)         (None, 200)               0         \n",
            "_________________________________________________________________\n",
            "dense_76 (Dense)             (None, 4)                 804       \n",
            "=================================================================\n",
            "Total params: 976\n",
            "Trainable params: 976\n",
            "Non-trainable params: 0\n",
            "_________________________________________________________________\n",
            "Epoch 000/021 | Loss 0.0186 | Win/lose count 4.5/7.0 (-2.5)\n"
          ],
          "name": "stdout"
        },
        {
          "output_type": "error",
          "ename": "KeyboardInterrupt",
          "evalue": "ignored",
          "traceback": [
            "\u001b[0;31m---------------------------------------------------------------------------\u001b[0m",
            "\u001b[0;31mKeyboardInterrupt\u001b[0m                         Traceback (most recent call last)",
            "\u001b[0;32m<ipython-input-135-0f9cf5542594>\u001b[0m in \u001b[0;36m<module>\u001b[0;34m()\u001b[0m\n\u001b[1;32m      1\u001b[0m \u001b[0menv\u001b[0m \u001b[0;34m=\u001b[0m \u001b[0mEnvironment\u001b[0m\u001b[0;34m(\u001b[0m\u001b[0mgrid_size\u001b[0m\u001b[0;34m=\u001b[0m\u001b[0msize\u001b[0m\u001b[0;34m,\u001b[0m \u001b[0mmax_time\u001b[0m\u001b[0;34m=\u001b[0m\u001b[0mT\u001b[0m\u001b[0;34m,\u001b[0m \u001b[0mtemperature\u001b[0m\u001b[0;34m=\u001b[0m\u001b[0;36m0.3\u001b[0m\u001b[0;34m)\u001b[0m\u001b[0;34m\u001b[0m\u001b[0;34m\u001b[0m\u001b[0m\n\u001b[1;32m      2\u001b[0m \u001b[0magent\u001b[0m \u001b[0;34m=\u001b[0m \u001b[0mDQN_CNN\u001b[0m\u001b[0;34m(\u001b[0m\u001b[0msize\u001b[0m\u001b[0;34m,\u001b[0m \u001b[0mlr\u001b[0m\u001b[0;34m=\u001b[0m\u001b[0;36m.1\u001b[0m\u001b[0;34m,\u001b[0m \u001b[0mepsilon\u001b[0m \u001b[0;34m=\u001b[0m \u001b[0;36m0.1\u001b[0m\u001b[0;34m,\u001b[0m \u001b[0mmemory_size\u001b[0m\u001b[0;34m=\u001b[0m\u001b[0;36m2000\u001b[0m\u001b[0;34m,\u001b[0m \u001b[0mbatch_size\u001b[0m \u001b[0;34m=\u001b[0m \u001b[0;36m32\u001b[0m\u001b[0;34m)\u001b[0m\u001b[0;34m\u001b[0m\u001b[0;34m\u001b[0m\u001b[0m\n\u001b[0;32m----> 3\u001b[0;31m \u001b[0mtrain\u001b[0m\u001b[0;34m(\u001b[0m\u001b[0magent\u001b[0m\u001b[0;34m,\u001b[0m\u001b[0menv\u001b[0m\u001b[0;34m,\u001b[0m\u001b[0mepochs_train\u001b[0m\u001b[0;34m,\u001b[0m\u001b[0mprefix\u001b[0m\u001b[0;34m=\u001b[0m\u001b[0;34m'cnn_train'\u001b[0m\u001b[0;34m)\u001b[0m\u001b[0;34m\u001b[0m\u001b[0;34m\u001b[0m\u001b[0m\n\u001b[0m\u001b[1;32m      4\u001b[0m \u001b[0mHTML\u001b[0m\u001b[0;34m(\u001b[0m\u001b[0mdisplay_videos\u001b[0m\u001b[0;34m(\u001b[0m\u001b[0;34m'cnn_train10.mp4'\u001b[0m\u001b[0;34m)\u001b[0m\u001b[0;34m)\u001b[0m\u001b[0;34m\u001b[0m\u001b[0;34m\u001b[0m\u001b[0m\n",
            "\u001b[0;32m<ipython-input-132-a4b39b89a5a1>\u001b[0m in \u001b[0;36mtrain\u001b[0;34m(agent, env, epoch, prefix, eps_decrease)\u001b[0m\n\u001b[1;32m     31\u001b[0m \u001b[0;34m\u001b[0m\u001b[0m\n\u001b[1;32m     32\u001b[0m             \u001b[0;31m# Apply the reinforcement strategy\u001b[0m\u001b[0;34m\u001b[0m\u001b[0;34m\u001b[0m\u001b[0;34m\u001b[0m\u001b[0m\n\u001b[0;32m---> 33\u001b[0;31m             \u001b[0mloss\u001b[0m \u001b[0;34m=\u001b[0m \u001b[0magent\u001b[0m\u001b[0;34m.\u001b[0m\u001b[0mreinforce\u001b[0m\u001b[0;34m(\u001b[0m\u001b[0mprev_state\u001b[0m\u001b[0;34m,\u001b[0m \u001b[0mstate\u001b[0m\u001b[0;34m,\u001b[0m  \u001b[0maction\u001b[0m\u001b[0;34m,\u001b[0m \u001b[0mreward\u001b[0m\u001b[0;34m,\u001b[0m \u001b[0mgame_over\u001b[0m\u001b[0;34m)\u001b[0m\u001b[0;34m\u001b[0m\u001b[0;34m\u001b[0m\u001b[0m\n\u001b[0m\u001b[1;32m     34\u001b[0m \u001b[0;34m\u001b[0m\u001b[0m\n\u001b[1;32m     35\u001b[0m         \u001b[0;31m# Save as a mp4\u001b[0m\u001b[0;34m\u001b[0m\u001b[0;34m\u001b[0m\u001b[0;34m\u001b[0m\u001b[0m\n",
            "\u001b[0;32m<ipython-input-130-12b6c642f0ef>\u001b[0m in \u001b[0;36mreinforce\u001b[0;34m(self, s_, n_s_, a_, r_, game_over_)\u001b[0m\n\u001b[1;32m     42\u001b[0m             \u001b[0;32melse\u001b[0m\u001b[0;34m:\u001b[0m\u001b[0;34m\u001b[0m\u001b[0;34m\u001b[0m\u001b[0m\n\u001b[1;32m     43\u001b[0m                 \u001b[0;31m#assign target_q = q(s,a) for all a\u001b[0m\u001b[0;34m\u001b[0m\u001b[0;34m\u001b[0m\u001b[0;34m\u001b[0m\u001b[0m\n\u001b[0;32m---> 44\u001b[0;31m                 \u001b[0mtarget_q\u001b[0m\u001b[0;34m[\u001b[0m\u001b[0mi\u001b[0m\u001b[0;34m,\u001b[0m\u001b[0;34m:\u001b[0m\u001b[0;34m]\u001b[0m \u001b[0;34m=\u001b[0m \u001b[0mself\u001b[0m\u001b[0;34m.\u001b[0m\u001b[0mmodel\u001b[0m\u001b[0;34m.\u001b[0m\u001b[0mpredict\u001b[0m\u001b[0;34m(\u001b[0m\u001b[0mnp\u001b[0m\u001b[0;34m.\u001b[0m\u001b[0marray\u001b[0m\u001b[0;34m(\u001b[0m\u001b[0;34m[\u001b[0m\u001b[0mrnd_s_\u001b[0m\u001b[0;34m]\u001b[0m\u001b[0;34m)\u001b[0m\u001b[0;34m)\u001b[0m\u001b[0;34m[\u001b[0m\u001b[0;36m0\u001b[0m\u001b[0;34m]\u001b[0m\u001b[0;34m\u001b[0m\u001b[0;34m\u001b[0m\u001b[0m\n\u001b[0m\u001b[1;32m     45\u001b[0m                 \u001b[0;31m#except for the action a where we apply bellman equation\u001b[0m\u001b[0;34m\u001b[0m\u001b[0;34m\u001b[0m\u001b[0;34m\u001b[0m\u001b[0m\n\u001b[1;32m     46\u001b[0m                 \u001b[0;31m#q(s, a) = gamma * [max(a') q(s',a')] + r\u001b[0m\u001b[0;34m\u001b[0m\u001b[0;34m\u001b[0m\u001b[0;34m\u001b[0m\u001b[0m\n",
            "\u001b[0;32m/usr/local/lib/python3.6/dist-packages/keras/engine/training.py\u001b[0m in \u001b[0;36mpredict\u001b[0;34m(self, x, batch_size, verbose, steps, callbacks, max_queue_size, workers, use_multiprocessing)\u001b[0m\n\u001b[1;32m   1399\u001b[0m                                             \u001b[0mverbose\u001b[0m\u001b[0;34m=\u001b[0m\u001b[0mverbose\u001b[0m\u001b[0;34m,\u001b[0m\u001b[0;34m\u001b[0m\u001b[0;34m\u001b[0m\u001b[0m\n\u001b[1;32m   1400\u001b[0m                                             \u001b[0msteps\u001b[0m\u001b[0;34m=\u001b[0m\u001b[0msteps\u001b[0m\u001b[0;34m,\u001b[0m\u001b[0;34m\u001b[0m\u001b[0;34m\u001b[0m\u001b[0m\n\u001b[0;32m-> 1401\u001b[0;31m                                             callbacks=callbacks)\n\u001b[0m\u001b[1;32m   1402\u001b[0m \u001b[0;34m\u001b[0m\u001b[0m\n\u001b[1;32m   1403\u001b[0m     def train_on_batch(self, x, y,\n",
            "\u001b[0;32m/usr/local/lib/python3.6/dist-packages/keras/engine/training_arrays.py\u001b[0m in \u001b[0;36mpredict_loop\u001b[0;34m(model, f, ins, batch_size, verbose, steps, callbacks)\u001b[0m\n\u001b[1;32m    262\u001b[0m         \u001b[0mcallbacks\u001b[0m \u001b[0;34m=\u001b[0m \u001b[0mcbks\u001b[0m\u001b[0;34m.\u001b[0m\u001b[0mCallbackList\u001b[0m\u001b[0;34m(\u001b[0m\u001b[0mcallbacks\u001b[0m\u001b[0;34m)\u001b[0m\u001b[0;34m\u001b[0m\u001b[0;34m\u001b[0m\u001b[0m\n\u001b[1;32m    263\u001b[0m         \u001b[0mcallback_model\u001b[0m \u001b[0;34m=\u001b[0m \u001b[0mmodel\u001b[0m\u001b[0;34m.\u001b[0m\u001b[0m_get_callback_model\u001b[0m\u001b[0;34m(\u001b[0m\u001b[0;34m)\u001b[0m\u001b[0;34m\u001b[0m\u001b[0;34m\u001b[0m\u001b[0m\n\u001b[0;32m--> 264\u001b[0;31m         \u001b[0mcallbacks\u001b[0m\u001b[0;34m.\u001b[0m\u001b[0mset_model\u001b[0m\u001b[0;34m(\u001b[0m\u001b[0mcallback_model\u001b[0m\u001b[0;34m)\u001b[0m\u001b[0;34m\u001b[0m\u001b[0;34m\u001b[0m\u001b[0m\n\u001b[0m\u001b[1;32m    265\u001b[0m         callback_params = {\n\u001b[1;32m    266\u001b[0m             \u001b[0;34m'batch_size'\u001b[0m\u001b[0;34m:\u001b[0m \u001b[0mbatch_size\u001b[0m\u001b[0;34m,\u001b[0m\u001b[0;34m\u001b[0m\u001b[0;34m\u001b[0m\u001b[0m\n",
            "\u001b[0;32m/usr/local/lib/python3.6/dist-packages/keras/callbacks.py\u001b[0m in \u001b[0;36mset_model\u001b[0;34m(self, model)\u001b[0m\n\u001b[1;32m     64\u001b[0m \u001b[0;34m\u001b[0m\u001b[0m\n\u001b[1;32m     65\u001b[0m     \u001b[0;32mdef\u001b[0m \u001b[0mset_model\u001b[0m\u001b[0;34m(\u001b[0m\u001b[0mself\u001b[0m\u001b[0;34m,\u001b[0m \u001b[0mmodel\u001b[0m\u001b[0;34m)\u001b[0m\u001b[0;34m:\u001b[0m\u001b[0;34m\u001b[0m\u001b[0;34m\u001b[0m\u001b[0m\n\u001b[0;32m---> 66\u001b[0;31m         \u001b[0mself\u001b[0m\u001b[0;34m.\u001b[0m\u001b[0mmodel\u001b[0m \u001b[0;34m=\u001b[0m \u001b[0mmodel\u001b[0m\u001b[0;34m\u001b[0m\u001b[0;34m\u001b[0m\u001b[0m\n\u001b[0m\u001b[1;32m     67\u001b[0m         \u001b[0;32mfor\u001b[0m \u001b[0mcallback\u001b[0m \u001b[0;32min\u001b[0m \u001b[0mself\u001b[0m\u001b[0;34m.\u001b[0m\u001b[0mcallbacks\u001b[0m\u001b[0;34m:\u001b[0m\u001b[0;34m\u001b[0m\u001b[0;34m\u001b[0m\u001b[0m\n\u001b[1;32m     68\u001b[0m             \u001b[0mcallback\u001b[0m\u001b[0;34m.\u001b[0m\u001b[0mset_model\u001b[0m\u001b[0;34m(\u001b[0m\u001b[0mmodel\u001b[0m\u001b[0;34m)\u001b[0m\u001b[0;34m\u001b[0m\u001b[0;34m\u001b[0m\u001b[0m\n",
            "\u001b[0;31mKeyboardInterrupt\u001b[0m: "
          ]
        }
      ]
    },
    {
      "cell_type": "markdown",
      "metadata": {
        "id": "BJMqWmrP5h33",
        "colab_type": "text"
      },
      "source": [
        "***\n",
        "***\n",
        "__Question 9__ Test both algorithms and compare their performances. Which issue(s) do you observe? Observe also different behaviors by changing the temperature."
      ]
    },
    {
      "cell_type": "code",
      "metadata": {
        "id": "AXuhZqP35h33",
        "colab_type": "code",
        "colab": {
          "base_uri": "https://localhost:8080/",
          "height": 1000
        },
        "outputId": "520a6180-56e3-4f28-edb3-fcea79c63e8a"
      },
      "source": [
        "env = Environment(grid_size=size, max_time=T,temperature=0.5)\n",
        "agent_cnn = DQN_CNN(size, lr=.1, epsilon = 0.1, memory_size=2000, batch_size = 32)\n",
        "agent_cnn.load(name_weights='cnn_trainmodel.h5',name_model='cnn_trainmodel.json')\n",
        "\n",
        "agent_fc = DQN_FC(size, lr=.1, epsilon = 0.1, memory_size=2000, batch_size = 32)\n",
        "agent_cnn.load(name_weights='fc_trainmodel.h5',name_model='fc_trainmodel.json')\n",
        "print('Test of the CNN')\n",
        "test(agent_cnn,env,epochs_test,prefix='cnn_test')\n",
        "print('Test of the FC')\n",
        "test(agent_fc,env,epochs_test,prefix='fc_test')"
      ],
      "execution_count": 127,
      "outputs": [
        {
          "output_type": "stream",
          "text": [
            "Model: \"sequential_54\"\n",
            "_________________________________________________________________\n",
            "Layer (type)                 Output Shape              Param #   \n",
            "=================================================================\n",
            "conv2d_28 (Conv2D)           (None, 5, 5, 4)           36        \n",
            "_________________________________________________________________\n",
            "conv2d_29 (Conv2D)           (None, 5, 5, 8)           136       \n",
            "_________________________________________________________________\n",
            "reshape_19 (Reshape)         (None, 200)               0         \n",
            "_________________________________________________________________\n",
            "dense_69 (Dense)             (None, 4)                 804       \n",
            "=================================================================\n",
            "Total params: 976\n",
            "Trainable params: 976\n",
            "Non-trainable params: 0\n",
            "_________________________________________________________________\n",
            "Model: \"sequential_55\"\n",
            "_________________________________________________________________\n",
            "Layer (type)                 Output Shape              Param #   \n",
            "=================================================================\n",
            "Reshape (Reshape)            (None, 50)                0         \n",
            "_________________________________________________________________\n",
            "dense_70 (Dense)             (None, 32)                1632      \n",
            "_________________________________________________________________\n",
            "batch_normalization_38 (Batc (None, 32)                128       \n",
            "_________________________________________________________________\n",
            "dense_71 (Dense)             (None, 8)                 264       \n",
            "_________________________________________________________________\n",
            "batch_normalization_39 (Batc (None, 8)                 32        \n",
            "_________________________________________________________________\n",
            "dense_72 (Dense)             (None, 4)                 36        \n",
            "=================================================================\n",
            "Total params: 2,092\n",
            "Trainable params: 2,012\n",
            "Non-trainable params: 80\n",
            "_________________________________________________________________\n",
            "Test of the CNN\n",
            "Win/lose count 3.0/5.0. Average score (-2.0)\n",
            "Win/lose count 9.0/9.0. Average score (-1.0)\n",
            "Win/lose count 11.5/8.0. Average score (0.5)\n",
            "Win/lose count 10.5/8.0. Average score (1.0)\n",
            "Win/lose count 4.0/2.0. Average score (1.2)\n",
            "Win/lose count 7.5/5.0. Average score (1.4166666666666667)\n",
            "Win/lose count 3.0/2.0. Average score (1.3571428571428572)\n",
            "Win/lose count 5.0/1.0. Average score (1.6875)\n",
            "Win/lose count 7.5/11.0. Average score (1.1111111111111112)\n",
            "Win/lose count 6.5/2.0. Average score (1.45)\n",
            "Win/lose count 16.5/7.0. Average score (2.1818181818181817)\n",
            "Win/lose count 6.5/4.0. Average score (2.2083333333333335)\n",
            "Win/lose count 6.5/6.0. Average score (2.076923076923077)\n",
            "Win/lose count 11.5/7.0. Average score (2.25)\n",
            "Win/lose count 10.0/8.0. Average score (2.2333333333333334)\n",
            "Win/lose count 3.5/1.0. Average score (2.25)\n",
            "Win/lose count 5.0/3.0. Average score (2.235294117647059)\n",
            "Win/lose count 4.0/3.0. Average score (2.1666666666666665)\n",
            "Win/lose count 2.5/4.0. Average score (1.9736842105263157)\n",
            "Win/lose count 6.5/5.0. Average score (1.95)\n",
            "Win/lose count 4.0/5.0. Average score (1.8095238095238095)\n",
            "Final score: 1.8095238095238095\n",
            "Test of the FC\n",
            "Win/lose count 9.5/4.0. Average score (5.5)\n",
            "Win/lose count 5.0/2.0. Average score (4.25)\n",
            "Win/lose count 3.5/8.0. Average score (1.3333333333333333)\n",
            "Win/lose count 3.5/6.0. Average score (0.375)\n",
            "Win/lose count 10.5/7.0. Average score (1.0)\n",
            "Win/lose count 5.5/7.0. Average score (0.5833333333333334)\n",
            "Win/lose count 7.0/6.0. Average score (0.6428571428571429)\n",
            "Win/lose count 6.5/7.0. Average score (0.5)\n",
            "Win/lose count 5.0/7.0. Average score (0.2222222222222222)\n",
            "Win/lose count 4.5/5.0. Average score (0.15)\n",
            "Win/lose count 3.5/5.0. Average score (0.0)\n",
            "Win/lose count 4.5/6.0. Average score (-0.125)\n",
            "Win/lose count 1.0/1.0. Average score (-0.11538461538461539)\n",
            "Win/lose count 5.5/8.0. Average score (-0.2857142857142857)\n",
            "Win/lose count 11.5/8.0. Average score (-0.03333333333333333)\n",
            "Win/lose count 5.5/6.0. Average score (-0.0625)\n",
            "Win/lose count 5.0/11.0. Average score (-0.4117647058823529)\n",
            "Win/lose count 4.5/2.0. Average score (-0.25)\n",
            "Win/lose count 8.5/7.0. Average score (-0.15789473684210525)\n",
            "Win/lose count 7.0/12.0. Average score (-0.4)\n",
            "Win/lose count 4.5/7.0. Average score (-0.5)\n",
            "Final score: -0.5\n"
          ],
          "name": "stdout"
        }
      ]
    },
    {
      "cell_type": "code",
      "metadata": {
        "id": "k3c_5apc5h34",
        "colab_type": "code",
        "colab": {
          "base_uri": "https://localhost:8080/",
          "height": 171
        },
        "outputId": "0bfc42a0-24aa-4f6a-8c92-fe7df6501ef1"
      },
      "source": [
        "HTML(display_videos('cnn_test10.mp4'))"
      ],
      "execution_count": 124,
      "outputs": [
        {
          "output_type": "execute_result",
          "data": {
            "text/html": [
              "<video alt=\"test\" controls>\n",
              "                <source src=\"data:video/mp4;base64,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\" type=\"video/mp4\" />\n",
              "             </video>"
            ],
            "text/plain": [
              "<IPython.core.display.HTML object>"
            ]
          },
          "metadata": {
            "tags": []
          },
          "execution_count": 124
        }
      ]
    },
    {
      "cell_type": "code",
      "metadata": {
        "id": "ZV4f7ZVR5h35",
        "colab_type": "code",
        "colab": {
          "base_uri": "https://localhost:8080/",
          "height": 171
        },
        "outputId": "b294d685-5018-4a56-f3de-449f7426f7f3"
      },
      "source": [
        "HTML(display_videos('fc_test10.mp4'))"
      ],
      "execution_count": 125,
      "outputs": [
        {
          "output_type": "execute_result",
          "data": {
            "text/html": [
              "<video alt=\"test\" controls>\n",
              "                <source src=\"data:video/mp4;base64,AAAAIGZ0eXBpc29tAAACAGlzb21pc28yYXZjMW1wNDEAAAAIZnJlZQAAFkxtZGF0AAACrQYF//+p3EXpvebZSLeWLNgg2SPu73gyNjQgLSBjb3JlIDE1MiByMjg1NCBlOWE1OTAzIC0gSC4yNjQvTVBFRy00IEFWQyBjb2RlYyAtIENvcHlsZWZ0IDIwMDMtMjAxNyAtIGh0dHA6Ly93d3cudmlkZW9sYW4ub3JnL3gyNjQuaHRtbCAtIG9wdGlvbnM6IGNhYmFjPTEgcmVmPTMgZGVibG9jaz0xOjA6MCBhbmFseXNlPTB4MToweDExMSBtZT1oZXggc3VibWU9NyBwc3k9MSBwc3lfcmQ9MS4wMDowLjAwIG1peGVkX3JlZj0xIG1lX3JhbmdlPTE2IGNocm9tYV9tZT0xIHRyZWxsaXM9MSA4eDhkY3Q9MCBjcW09MCBkZWFkem9uZT0yMSwxMSBmYXN0X3Bza2lwPTEgY2hyb21hX3FwX29mZnNldD00IHRocmVhZHM9MyBsb29rYWhlYWRfdGhyZWFkcz0xIHNsaWNlZF90aHJlYWRzPTAgbnI9MCBkZWNpbWF0ZT0xIGludGVybGFjZWQ9MCBibHVyYXlfY29tcGF0PTAgY29uc3RyYWluZWRfaW50cmE9MCBiZnJhbWVzPTMgYl9weXJhbWlkPTIgYl9hZGFwdD0xIGJfYmlhcz0wIGRpcmVjdD0xIHdlaWdodGI9MSBvcGVuX2dvcD0wIHdlaWdodHA9MiBrZXlpbnQ9MjUwIGtleWludF9taW49MjUgc2NlbmVjdXQ9NDAgaW50cmFfcmVmcmVzaD0wIHJjX2xvb2thaGVhZD00MCByYz1jcmYgbWJ0cmVlPTEgY3JmPTIzLjAgcWNvbXA9MC42MCBxcG1pbj0wIHFwbWF4PTY5IHFwc3RlcD00IGlwX3JhdGlvPTEuNDAgYXE9MToxLjAwAIAAAAKLZYiEADf//vaH+BTZWBP+Wb/9DX/cj9uPrP1xYyEE31qvIejAGS+1H+b/rFFs6Z6UB/fgCJQAc24ZwpJw4v/ApLdW+BTLYTkUN75nihUMKOooUic+VT/ETAf+yE5iev2WNLBhPhbo6s+3cHQO9zaIYg1DyaXndZET9OgTheJWyP25kbO44yIg5pnQJJOGgpR2M1MAOxNnV1Vgv4I+XzzjkR0hNZ91LZ92RJwVYKmqMrVvQ8U6PgVGOTPq6uWWq6jKVerg7i6RqhRQ/lM7RN1BKhyEoiK9lLXQImLn+feUPcErEYrpaYyU2NcT9R1nw7jZ7V5P8q2XCEqM4Gpi4kn/DOQiqdCiGHRbTyaNwDp2M3iA+ZjBWkdJECnzLRfg/ehi3BT5lwRBlbWfPSERstJlpjY+x9Kgf3E6OiiKwIO3iTsQ7ql42iVF5mv/TiCI7wA8Gw3+bZooEYzL/k/WoLvi6kSDRmof6bIln3opwfL+P6iFiPqhfRknDySJgNsvSbZFmZR+w9BbI9GwFArEHrr1ebHBanB3Ia8YRM49gjlIw865ifO85XG4KsNbvru3xcGhTD85sgIWgPtwEgb6RT/Fevyo4kUPdTtWyVZM2KKty79QK/x+YlKkuDwcykzQWkhuCD/QfVNbIEuKYysdJDxO2bviLPFnev/kuDXgURndzvu5Awz+mowHtt2EWuSs3+nw7oYZc8MoE9QHoK7cjv7pAgpIAehNeJXCu120341qiArSRHrVBrYj+Z2/CD/hkSZ+NtCAF2d25nFwMn4PW1Co4UAU4r5abSv4lIfgLUL4/qCBG2bp1cGEJ3E/44LCOL8wsxbmEjXaLOs/Y7l1nes3rPph3+2kSsYsAD6hAAAAJ0GaI2xDP/6eEAAyfsgcvMsrnvHzLEsF8yybBOEeOw3/ze2G9b30YAAAABBBnkF4hX8ACoZZPyDbdtz7AAAAEAGeYmpCvwAKhYR5LmfJ+4AAAAAfQZpkSahBaJlMCG///qeEAA0rq0c1/ipzQj9Anf8VAQAAABhBmoVJ4QpSZTAhv/6nhAANLagry5DnfMEAAAAhQZqnSeEOiZTBTRMN//6nhAAId8jgE1/nkFapkJBo/OUPAAAAEAGexmpCvwAG6Jkmm+kg8/EAAAAdQZrKSeEPJlMCG//+p4QABc8Vo5r/FTmmQgrqfsIAAAAPQZ7oRRE8K/8ABLZNw8TAAAAADwGfCWpCvwAEtzRvVYA64QAAAB1Bmw1JqEFomUwIb//+p4QABfXVo5r/FTmg6n6pnAAAABJBnytFESwr/wAE12K9hYL9aIAAAAAOAZ9MakK/AATXZMecFcUAAAAgQZtPSahBbJlMFEw3//6nhAAF9dWkGc1kiaqtDqxP7uEAAAAQAZ9uakK/AATWWQw+gJB96QAAABxBm3BJ4QpSZTAh3/6plgACAFHOkQGqybC00v7KAAAAGEGbk0nhDomUwId//qmWAAIAUlDRUt3NHAAAAA9Bn7FFETwr/wADTEaB+cEAAAANAZ/SakK/AANNYkW/zgAAABJBm9dJqEFomUwIb//+p4QAAScAAAAMQZ/1RREsL/8AALKBAAAAEAGeFHRCvwADL6ic9wkV+IAAAAAQAZ4WakK/AANMCxrjKQtzgQAAABNBmhlJqEFsmUwUTDf//qeEAAEnAAAAEAGeOGpCvwADTAsa4ykLc4AAAAASQZo7SeEKUmUwUsN//qeEAAEnAAAAEAGeWmpCvwADTAsa4ykLc4AAAAASQZpdSeEOiZTBRMN//qeEAAEnAAAAEAGefGpCvwADTAsa4ykLc4EAAAASQZp/SeEPJlMFPDf//qeEAAEnAAAAEAGenmpCvwADTAsa4ykLc4AAAAASQZqBSeEPJlMFPDf//qeEAAEnAAAAEAGeoGpCvwADTAsa4ykLc4AAAAASQZqjSeEPJlMFPDf//qeEAAEnAAAAEAGewmpCvwADTAsa4ykLc4AAAAAbQZrGSeEPJlMCG//+p4QABh6RP9VvqoEJ/fthAAAAEkGe5EURPCv/AAT6yIXYb6XwyQAAAA8BnwVqQr8ABPrIhOCB9mEAAAAaQZsJSahBaJlMCG///qeEAAZF1aOj7jZgw7EAAAAPQZ8nRREsK/8ABR2tw71AAAAAEAGfSGpCvwAFHpRvgPA/O2gAAAAUQZtLSahBbJlMFEw7//6plgAAlYEAAAAQAZ9qakK/AAUfhQbO6l/kpAAAABlBm25J4QpSZTAh3/6plgADKVIMutKORtTSAAAAEkGfjEU0TCv/AAUdsAQCmAdywQAAAA4Bn61qQr8ABR+Uq6nU9QAAABtBm7JJqEFomUwIb//+p4QABifgMAmv88ooPRUAAAAQQZ/QRREsL/8AA6CdRvYQeAAAAA8Bn+90Qr8ABR7R3nnGlIAAAAAQAZ/xakK/AAUelG80xVuKwQAAABtBm/VJqEFsmUwIb//+p4QABkbBqQY516n+hDAAAAAPQZ4TRRUsK/8ABR23AppAAAAADQGeNGpCvwAFH5WHjNMAAAATQZo3SahBbJlMFEw3//6nhAABJwAAABoBnlZqQr8ABQ7DbwKPOdzLHq5XMqKdzx90vQAAABJBmllJ4QpSZTBSw3/+p4QAAScAAAARAZ54akK/AAUcaTB6CZp5NNoAAAASQZp7SeEOiZTBRMN//qeEAAEnAAAAEQGemmpCvwAFHGkwegmaeTTaAAAAEkGanUnhDyZTBTw3//6nhAABJwAAABEBnrxqQr8ABRxpMHoJmnk02wAAABJBmr9J4Q8mUwU8N//+p4QAAScAAAARAZ7eakK/AAUcaTB6CZp5NNoAAAATQZrBSeEPJlMFPDv//qmWAACVgQAAABEBnuBqQr8ABRxpMHoJmnk02gAAAB1BmuNJ4Q8mUwU8O//+qZYAAylSDNAdpBo3njP7gQAAAA8BnwJqQr8ABR226UaQ8wEAAAASQZsHSeEPJlMCHf/+qZYAAJWBAAAADEGfJUURPC//AACygQAAABABn0R0Qr8AA0zybo7b4i6BAAAADwGfRmpCvwADL5ybrPVpKQAAABJBm0tJqEFomUwIb//+p4QAAScAAAAMQZ9pRREsL/8AALKAAAAAEAGfiHRCvwADTPJujtviLoEAAAAPAZ+KakK/AANMCxolc80fAAAAJkGbj0moQWyZTAhv//6nhAAGT9YbmWV4wz8CmWzs+BQpLdvPNx+4AAAAEEGfrUUVLC//AAO1/D111kEAAAAPAZ/MdEK/AAUfMncGyXqhAAAADwGfzmpCvwAFH5WBdf5KQQAAABNBm9FJqEFsmUwUTDf//qeEAAEnAAAAGgGf8GpCvwAFDsNvAo853Mserlcyop3PH3S8AAAAEkGb80nhClJlMFLDf/6nhAABJwAAABEBnhJqQr8ABRxpMHoJmnk02gAAABJBmhVJ4Q6JlMFEw3/+p4QAAScAAAARAZ40akK/AAUcaTB6CZp5NNsAAAASQZo3SeEPJlMFPDf//qeEAAEnAAAAEQGeVmpCvwAFHGkwegmaeTTbAAAAEkGaWUnhDyZTBTw3//6nhAABJwAAABEBnnhqQr8ABRxpMHoJmnk02gAAABJBmntJ4Q8mUwU8N//+p4QAAScAAAARAZ6aakK/AAUcaTB6CZp5NNoAAAASQZqdSeEPJlMFPDf//qeEAAEnAAAAEQGevGpCvwAFHGkwegmaeTTbAAAAEkGav0nhDyZTBTw3//6nhAABJwAAABEBnt5qQr8ABRxpMHoJmnk02gAAABJBmsFJ4Q8mUwU8N//+p4QAAScAAAARAZ7gakK/AAUcaTB6CZp5NNoAAAASQZrjSeEPJlMFPDf//qeEAAEnAAAAEQGfAmpCvwAFHGkwegmaeTTaAAAAEkGbBUnhDyZTBTw3//6nhAABJwAAABEBnyRqQr8ABRxpMHoJmnk02wAAABJBmydJ4Q8mUwU8N//+p4QAAScAAAARAZ9GakK/AAUcaTB6CZp5NNsAAAASQZtJSeEPJlMFPDf//qeEAAEnAAAAEQGfaGpCvwAFHGkwegmaeTTaAAAAE0Gba0nhDyZTBTw7//6plgAAlYEAAAARAZ+KakK/AAUcaTB6CZp5NNoAAAAdQZuNSeEPJlMFPDv//qmWAAMpUgzQHaQaN54z+4AAAAAPAZ+sakK/AAUdtulGkPMBAAAAEkGbsUnhDyZTAh3//qmWAACVgQAAAAxBn89FETwv/wAAsoEAAAAQAZ/udEK/AANM8m6O2+IugAAAAA8Bn/BqQr8AA0wLGiVzzR8AAAATQZv1SahBaJlMCHf//qmWAACVgQAAAAxBnhNFESwv/wAAsoAAAAAQAZ4ydEK/AANM8m6O2+IugAAAAA8BnjRqQr8AA0wLGiVzzR8AAAATQZo5SahBbJlMCHf//qmWAACVgAAAAAxBnldFFSwv/wAAsoEAAAAQAZ52dEK/AANM8m6O2+IugQAAAA8BnnhqQr8AA0wLGiVzzR8AAAATQZp9SahBbJlMCHf//qmWAACVgQAAAAxBnptFFSwv/wAAsoAAAAAQAZ66dEK/AANM8m6O2+IugQAAAA8BnrxqQr8AA0wLGiVzzR8AAAATQZqhSahBbJlMCHf//qmWAACVgAAAAAxBnt9FFSwv/wAAsoAAAAAQAZ7+dEK/AANM8m6O2+IugQAAAA8BnuBqQr8AA0wLGiVzzR8AAAATQZrlSahBbJlMCHf//qmWAACVgQAAAAxBnwNFFSwv/wAAsoAAAAAQAZ8idEK/AANM8m6O2+IugQAAAA8BnyRqQr8AA0wLGiVzzR8AAAATQZspSahBbJlMCHf//qmWAACVgQAAAAxBn0dFFSwv/wAAsoEAAAAQAZ9mdEK/AANM8m6O2+IugAAAAA8Bn2hqQr8AA0wLGiVzzR8AAAATQZttSahBbJlMCHf//qmWAACVgQAAAAxBn4tFFSwv/wAAsoAAAAAQAZ+qdEK/AANM8m6O2+IugAAAAA8Bn6xqQr8AA0wLGiVzzR8AAAATQZuxSahBbJlMCHf//qmWAACVgQAAAAxBn89FFSwv/wAAsoEAAAAQAZ/udEK/AANM8m6O2+IugAAAAA8Bn/BqQr8AA0wLGiVzzR8AAAAmQZv1SahBbJlMCG///qeEAAZP1huZZXjDPwKZbOz4FCkt2883H7kAAAAQQZ4TRRUsL/8AA7X8PXXWQAAAAA8BnjJ0Qr8ABR8ydwbJeqEAAAAPAZ40akK/AAUflYF1/kpBAAAAE0GaN0moQWyZTBRMN//+p4QAAScAAAAaAZ5WakK/AAUOw28Cjzncyx6uVzKinc8fdL0AAAATQZpZSeEKUmUwUsO//qmWAACVgQAAABEBnnhqQr8ABRxpMHoJmnk02gAAAB1BmntJ4Q6JlMFEw7/+qZYAAylSDNAdpBo3njP7gQAAAA8BnppqQr8ABR226UaQ8wEAAAASQZqfSeEPJlMCHf/+qZYAAJWBAAAADEGevUURPC//AACygQAAABABntx0Qr8AA0zybo7b4i6AAAAADwGe3mpCvwADTAsaJXPNHwAAABNBmsNJqEFomUwId//+qZYAAJWBAAAADEGe4UURLC//AACygAAAABABnwB0Qr8AA0zybo7b4i6BAAAADwGfAmpCvwADTAsaJXPNHwAAABNBmwdJqEFsmUwId//+qZYAAJWBAAAADEGfJUUVLC//AACygQAAABABn0R0Qr8AA0zybo7b4i6BAAAADwGfRmpCvwADTAsaJXPNHwAAABNBm0tJqEFsmUwId//+qZYAAJWAAAAADEGfaUUVLC//AACygAAAABABn4h0Qr8AA0zybo7b4i6BAAAADwGfimpCvwADTAsaJXPNHwAAABNBm49JqEFsmUwId//+qZYAAJWAAAAADEGfrUUVLC//AACygQAAABABn8x0Qr8AA0zybo7b4i6BAAAADwGfzmpCvwADTAsaJXPNHwAAABNBm9NJqEFsmUwId//+qZYAAJWAAAAADEGf8UUVLC//AACygAAAABABnhB0Qr8AA0zybo7b4i6BAAAADwGeEmpCvwADTAsaJXPNHwAAABNBmhdJqEFsmUwId//+qZYAAJWAAAAADEGeNUUVLC//AACygQAAABABnlR0Qr8AA0zybo7b4i6AAAAADwGeVmpCvwADTAsaJXPNHwAAABNBmltJqEFsmUwId//+qZYAAJWBAAAADEGeeUUVLC//AACygAAAABABnph0Qr8AA0zybo7b4i6BAAAADwGemmpCvwADTAsaJXPNHwAAABJBmp9JqEFsmUwIb//+p4QAAScAAAAMQZ69RRUsL/8AALKBAAAAEAGe3HRCvwADTPJujtviLoAAAAAPAZ7eakK/AANMCxolc80fAAAAEkGaw0moQWyZTAhv//6nhAABJwAAAAxBnuFFFSwv/wAAsoAAAAAQAZ8AdEK/AANM8m6O2+IugQAAAA8BnwJqQr8AA0wLGiVzzR8AAAASQZsHSahBbJlMCGf//p4QAAR9AAAADEGfJUUVLC//AACygQAAABABn0R0Qr8AA0zybo7b4i6BAAAADwGfRmpCvwADTAsaJXPNHwAAABtBm0lLqEIQWyRGCCgH8gH9h4BRMK/+OEAAEXAAAAAkAZ9oakK/Aq9j7UHE3arDSSblqoYHLLW7zSogmixidA7Izgb4AAAMQG1vb3YAAABsbXZoZAAAAAAAAAAAAAAAAAAAA+gAAB+QAAEAAAEAAAAAAAAAAAAAAAABAAAAAAAAAAAAAAAAAAAAAQAAAAAAAAAAAAAAAAAAQAAAAAAAAAAAAAAAAAAAAAAAAAAAAAAAAAAAAAAAAAIAAAtqdHJhawAAAFx0a2hkAAAAAwAAAAAAAAAAAAAAAQAAAAAAAB+QAAAAAAAAAAAAAAAAAAAAAAABAAAAAAAAAAAAAAAAAAAAAQAAAAAAAAAAAAAAAAAAQAAAAAEQAAABEAAAAAAAJGVkdHMAAAAcZWxzdAAAAAAAAAABAAAfkAAABAAAAQAAAAAK4m1kaWEAAAAgbWRoZAAAAAAAAAAAAAAAAAAAMgAAAZQAVcQAAAAAAC1oZGxyAAAAAAAAAAB2aWRlAAAAAAAAAAAAAAAAVmlkZW9IYW5kbGVyAAAACo1taW5mAAAAFHZtaGQAAAABAAAAAAAAAAAAAAAkZGluZgAAABxkcmVmAAAAAAAAAAEAAAAMdXJsIAAAAAEAAApNc3RibAAAAJVzdHNkAAAAAAAAAAEAAACFYXZjMQAAAAAAAAABAAAAAAAAAAAAAAAAAAAAAAEQARAASAAAAEgAAAAAAAAAAQAAAAAAAAAAAAAAAAAAAAAAAAAAAAAAAAAAAAAAAAAAABj//wAAAC9hdmNDAfQADf/hABdn9AANkZsoIhHQgAAAAwCAAAAZB4oUywEABWjr48RIAAAAGHN0dHMAAAAAAAAAAQAAAMoAAAIAAAAAFHN0c3MAAAAAAAAAAQAAAAEAAAYYY3R0cwAAAAAAAADBAAAAAQAABAAAAAABAAAIAAAAAAIAAAIAAAAAAgAABAAAAAABAAAGAAAAAAEAAAIAAAAAAQAACAAAAAACAAACAAAAAAEAAAgAAAAAAgAAAgAAAAABAAAGAAAAAAEAAAIAAAAAAQAABAAAAAABAAAIAAAAAAIAAAIAAAAAAQAACgAAAAABAAAEAAAAAAEAAAAAAAAAAQAAAgAAAAABAAAGAAAAAAEAAAIAAAAAAQAABgAAAAABAAACAAAAAAEAAAYAAAAAAQAAAgAAAAABAAAGAAAAAAEAAAIAAAAAAQAABgAAAAABAAACAAAAAAEAAAYAAAAAAQAAAgAAAAABAAAIAAAAAAIAAAIAAAAAAQAACAAAAAACAAACAAAAAAEAAAYAAAAAAQAAAgAAAAABAAAIAAAAAAIAAAIAAAAAAQAACgAAAAABAAAEAAAAAAEAAAAAAAAAAQAAAgAAAAABAAAIAAAAAAIAAAIAAAAAAQAABgAAAAABAAACAAAAAAEAAAYAAAAAAQAAAgAAAAABAAAGAAAAAAEAAAIAAAAAAQAABgAAAAABAAACAAAAAAEAAAYAAAAAAQAAAgAAAAABAAAGAAAAAAEAAAIAAAAAAQAABgAAAAABAAACAAAAAAEAAAoAAAAAAQAABAAAAAABAAAAAAAAAAEAAAIAAAAAAQAACgAAAAABAAAEAAAAAAEAAAAAAAAAAQAAAgAAAAABAAAKAAAAAAEAAAQAAAAAAQAAAAAAAAABAAACAAAAAAEAAAYAAAAAAQAAAgAAAAABAAAGAAAAAAEAAAIAAAAAAQAABgAAAAABAAACAAAAAAEAAAYAAAAAAQAAAgAAAAABAAAGAAAAAAEAAAIAAAAAAQAABgAAAAABAAACAAAAAAEAAAYAAAAAAQAAAgAAAAABAAAGAAAAAAEAAAIAAAAAAQAABgAAAAABAAACAAAAAAEAAAYAAAAAAQAAAgAAAAABAAAGAAAAAAEAAAIAAAAAAQAABgAAAAABAAACAAAAAAEAAAYAAAAAAQAAAgAAAAABAAAGAAAAAAEAAAIAAAAAAQAABgAAAAABAAACAAAAAAEAAAoAAAAAAQAABAAAAAABAAAAAAAAAAEAAAIAAAAAAQAACgAAAAABAAAEAAAAAAEAAAAAAAAAAQAAAgAAAAABAAAKAAAAAAEAAAQAAAAAAQAAAAAAAAABAAACAAAAAAEAAAoAAAAAAQAABAAAAAABAAAAAAAAAAEAAAIAAAAAAQAACgAAAAABAAAEAAAAAAEAAAAAAAAAAQAAAgAAAAABAAAKAAAAAAEAAAQAAAAAAQAAAAAAAAABAAACAAAAAAEAAAoAAAAAAQAABAAAAAABAAAAAAAAAAEAAAIAAAAAAQAACgAAAAABAAAEAAAAAAEAAAAAAAAAAQAAAgAAAAABAAAKAAAAAAEAAAQAAAAAAQAAAAAAAAABAAACAAAAAAEAAAoAAAAAAQAABAAAAAABAAAAAAAAAAEAAAIAAAAAAQAABgAAAAABAAACAAAAAAEAAAYAAAAAAQAAAgAAAAABAAAGAAAAAAEAAAIAAAAAAQAACgAAAAABAAAEAAAAAAEAAAAAAAAAAQAAAgAAAAABAAAKAAAAAAEAAAQAAAAAAQAAAAAAAAABAAACAAAAAAEAAAoAAAAAAQAABAAAAAABAAAAAAAAAAEAAAIAAAAAAQAACgAAAAABAAAEAAAAAAEAAAAAAAAAAQAAAgAAAAABAAAKAAAAAAEAAAQAAAAAAQAAAAAAAAABAAACAAAAAAEAAAoAAAAAAQAABAAAAAABAAAAAAAAAAEAAAIAAAAAAQAACgAAAAABAAAEAAAAAAEAAAAAAAAAAQAAAgAAAAABAAAKAAAAAAEAAAQAAAAAAQAAAAAAAAABAAACAAAAAAEAAAoAAAAAAQAABAAAAAABAAAAAAAAAAEAAAIAAAAAAQAACgAAAAABAAAEAAAAAAEAAAAAAAAAAQAAAgAAAAABAAAKAAAAAAEAAAQAAAAAAQAAAAAAAAABAAACAAAAAAEAAAYAAAAAAQAAAgAAAAAcc3RzYwAAAAAAAAABAAAAAQAAAMoAAAABAAADPHN0c3oAAAAAAAAAAAAAAMoAAAVAAAAAKwAAABQAAAAUAAAAIwAAABwAAAAlAAAAFAAAACEAAAATAAAAEwAAACEAAAAWAAAAEgAAACQAAAAUAAAAIAAAABwAAAATAAAAEQAAABYAAAAQAAAAFAAAABQAAAAXAAAAFAAAABYAAAAUAAAAFgAAABQAAAAWAAAAFAAAABYAAAAUAAAAFgAAABQAAAAfAAAAFgAAABMAAAAeAAAAEwAAABQAAAAYAAAAFAAAAB0AAAAWAAAAEgAAAB8AAAAUAAAAEwAAABQAAAAfAAAAEwAAABEAAAAXAAAAHgAAABYAAAAVAAAAFgAAABUAAAAWAAAAFQAAABYAAAAVAAAAFwAAABUAAAAhAAAAEwAAABYAAAAQAAAAFAAAABMAAAAWAAAAEAAAABQAAAATAAAAKgAAABQAAAATAAAAEwAAABcAAAAeAAAAFgAAABUAAAAWAAAAFQAAABYAAAAVAAAAFgAAABUAAAAWAAAAFQAAABYAAAAVAAAAFgAAABUAAAAWAAAAFQAAABYAAAAVAAAAFgAAABUAAAAWAAAAFQAAABYAAAAVAAAAFwAAABUAAAAhAAAAEwAAABYAAAAQAAAAFAAAABMAAAAXAAAAEAAAABQAAAATAAAAFwAAABAAAAAUAAAAEwAAABcAAAAQAAAAFAAAABMAAAAXAAAAEAAAABQAAAATAAAAFwAAABAAAAAUAAAAEwAAABcAAAAQAAAAFAAAABMAAAAXAAAAEAAAABQAAAATAAAAFwAAABAAAAAUAAAAEwAAACoAAAAUAAAAEwAAABMAAAAXAAAAHgAAABcAAAAVAAAAIQAAABMAAAAWAAAAEAAAABQAAAATAAAAFwAAABAAAAAUAAAAEwAAABcAAAAQAAAAFAAAABMAAAAXAAAAEAAAABQAAAATAAAAFwAAABAAAAAUAAAAEwAAABcAAAAQAAAAFAAAABMAAAAXAAAAEAAAABQAAAATAAAAFwAAABAAAAAUAAAAEwAAABYAAAAQAAAAFAAAABMAAAAWAAAAEAAAABQAAAATAAAAFgAAABAAAAAUAAAAEwAAAB8AAAAoAAAAFHN0Y28AAAAAAAAAAQAAADAAAABidWR0YQAAAFptZXRhAAAAAAAAACFoZGxyAAAAAAAAAABtZGlyYXBwbAAAAAAAAAAAAAAAAC1pbHN0AAAAJal0b28AAAAdZGF0YQAAAAEAAAAATGF2ZjU3LjgzLjEwMA==\" type=\"video/mp4\" />\n",
              "             </video>"
            ],
            "text/plain": [
              "<IPython.core.display.HTML object>"
            ]
          },
          "metadata": {
            "tags": []
          },
          "execution_count": 125
        }
      ]
    },
    {
      "cell_type": "markdown",
      "metadata": {
        "id": "ma6472ha5h36",
        "colab_type": "text"
      },
      "source": [
        "The algorithms tend to stay on a location and does not move too much, especially if there's no cheese in a +2 cells range distance. This behaviour is emplified with low temperature as there's less cheese"
      ]
    },
    {
      "cell_type": "markdown",
      "metadata": {
        "id": "O8EMXEjc5h36",
        "colab_type": "text"
      },
      "source": [
        "***\n",
        "\n",
        "The algorithm tends to not explore the map which can be an issue. We propose two ideas in order to encourage exploration:\n",
        "1. Incorporating a decreasing $\\epsilon$-greedy exploration. You can use the method ```set_epsilon```\n",
        "2. Append via the environment a new state that describes if a cell has been visited or not\n",
        "\n",
        "***\n",
        "__Question 10__ Design a new ```train_explore``` function and environment class ```EnvironmentExploring``` to tackle the issue of exploration.\n",
        "\n"
      ]
    },
    {
      "cell_type": "code",
      "metadata": {
        "id": "_SBObjrb5h36",
        "colab_type": "code",
        "colab": {}
      },
      "source": [
        "def train_explore(agent,env,epoch,prefix='', eps_decrease = 0.9):\n",
        "    # Number of won games\n",
        "    score = 0\n",
        "    loss = 0\n",
        "\n",
        "    for e in range(epoch):\n",
        "        # At each epoch, we restart to a fresh game and get the initial state\n",
        "        state = env.reset()\n",
        "        #decrease the epsilon value of the agent\n",
        "        agent.set_epsilon(agent.epsilon * eps_decrease)\n",
        "        # This assumes that the games will terminate\n",
        "        game_over = False\n",
        "\n",
        "        win = 0\n",
        "        lose = 0\n",
        "\n",
        "        while not game_over:\n",
        "            # The agent performs an action\n",
        "            action = agent.act(state)\n",
        "\n",
        "            # Apply an action to the environment, get the next state, the reward\n",
        "            # and if the games end\n",
        "            prev_state = state\n",
        "            state, reward, game_over = env.act(action)\n",
        "\n",
        "            # Update the counters\n",
        "            if reward > 0:\n",
        "                win = win + reward\n",
        "            if reward < 0:\n",
        "                lose = lose -reward\n",
        "\n",
        "            # Apply the reinforcement strategy\n",
        "            loss = agent.reinforce(prev_state, state,  action, reward, game_over)\n",
        "\n",
        "        # Save as a mp4\n",
        "        if e % 10 == 0:\n",
        "            env.draw(prefix+str(e))\n",
        "\n",
        "        # Update stats\n",
        "        score += win-lose\n",
        "\n",
        "        print(\"Epoch {:03d}/{:03d} | Loss {:.4f} | Win/lose count {}/{} ({})\"\n",
        "              .format(e, epoch, loss, win, lose, win-lose))\n",
        "        agent.save(name_weights=prefix+'model.h5',name_model=prefix+'model.json')        \n",
        "\n",
        "\n",
        "        \n",
        "class EnvironmentExploring(Environment):\n",
        "    def __init__(self, grid_size=10, max_time=500, temperature=0.1):\n",
        "        grid_size = grid_size+4\n",
        "        self.grid_size = grid_size\n",
        "        self.max_time = max_time\n",
        "        self.temperature = temperature\n",
        "\n",
        "        #board on which one plays\n",
        "        self.board = np.zeros((grid_size,grid_size))\n",
        "        self.position = np.zeros((grid_size,grid_size))\n",
        "        self.malus_position = np.zeros((grid_size,grid_size))\n",
        "\n",
        "        # coordinate of the cat\n",
        "        self.x = 0\n",
        "        self.y = 1\n",
        "\n",
        "        # self time\n",
        "        self.t = 0\n",
        "\n",
        "        self.scale=16\n",
        "\n",
        "        self.to_draw = np.zeros((max_time+2, grid_size*self.scale, grid_size*self.scale, 3))\n",
        "\n",
        "\n",
        "\n",
        "    def act(self, action):\n",
        "        \"\"\"This function returns the new state, reward and decides if the\n",
        "        game ends.\"\"\"\n",
        "\n",
        "        self.get_frame(int(self.t))\n",
        "\n",
        "        self.position = np.zeros((self.grid_size, self.grid_size))\n",
        "\n",
        "        self.position[0:2,:]= -1\n",
        "        self.position[:,0:2] = -1\n",
        "        self.position[-2:, :] = -1\n",
        "        self.position[-2:, :] = -1\n",
        "\n",
        "        self.position[self.x, self.y] = 1\n",
        "        if action == 0:\n",
        "            if self.x == self.grid_size-3:\n",
        "                self.x = self.x-1\n",
        "            else:\n",
        "                self.x = self.x + 1\n",
        "        elif action == 1:\n",
        "            if self.x == 2:\n",
        "                self.x = self.x+1\n",
        "            else:\n",
        "                self.x = self.x-1\n",
        "        elif action == 2:\n",
        "            if self.y == self.grid_size - 3:\n",
        "                self.y = self.y - 1\n",
        "            else:\n",
        "                self.y = self.y + 1\n",
        "        elif action == 3:\n",
        "            if self.y == 2:\n",
        "                self.y = self.y + 1\n",
        "            else:\n",
        "                self.y = self.y - 1\n",
        "        else:\n",
        "            RuntimeError('Error: action not recognized')\n",
        "\n",
        "        self.t = self.t + 1\n",
        "        reward = self.board[self.x, self.y]\n",
        "        #we add the malus_position to the reward\n",
        "        reward -= self.malus_position[self.x, self.y]\n",
        "        #we set the position to a malus position\n",
        "        self.malus_position[self.x, self.y] = 0.1\n",
        "        self.board[self.x, self.y] = 0\n",
        "        game_over = self.t > self.max_time\n",
        "        state = np.concatenate((self.malus_position.reshape(self.grid_size, self.grid_size,1),\n",
        "                                self.board.reshape(self.grid_size, self.grid_size,1),\n",
        "                        self.position.reshape(self.grid_size, self.grid_size,1)),axis=2)\n",
        "        state = state[self.x-2:self.x+3,self.y-2:self.y+3,:]\n",
        "\n",
        "        return state, reward, game_over\n",
        "\n",
        "    def reset(self):\n",
        "        \"\"\"This function resets the game and returns the initial state\"\"\"\n",
        "\n",
        "        self.x = np.random.randint(3, self.grid_size-3, size=1)[0]\n",
        "        self.y = np.random.randint(3, self.grid_size-3, size=1)[0]\n",
        "\n",
        "\n",
        "        bonus = 0.5*np.random.binomial(1,self.temperature,size=self.grid_size**2)\n",
        "        bonus = bonus.reshape(self.grid_size,self.grid_size)\n",
        "\n",
        "        malus = -1.0*np.random.binomial(1,self.temperature,size=self.grid_size**2)\n",
        "        malus = malus.reshape(self.grid_size, self.grid_size)\n",
        "\n",
        "        self.to_draw = np.zeros((self.max_time+2, self.grid_size*self.scale, self.grid_size*self.scale, 3))\n",
        "\n",
        "\n",
        "        malus[bonus>0]=0\n",
        "\n",
        "        self.board = bonus + malus\n",
        "\n",
        "        self.position = np.zeros((self.grid_size, self.grid_size))\n",
        "        self.position[0:2,:]= -1\n",
        "        self.position[:,0:2] = -1\n",
        "        self.position[-2:, :] = -1\n",
        "        self.position[-2:, :] = -1\n",
        "        self.board[self.x,self.y] = 0\n",
        "\n",
        "        # initialize the malus position\n",
        "        self.malus_position = np.zeros((self.grid_size, self.grid_size))\n",
        "\n",
        "        self.t = 0\n",
        "\n",
        "        state = np.concatenate((self.malus_position.reshape(self.grid_size, self.grid_size,1),\n",
        "                                self.board.reshape(self.grid_size, self.grid_size,1),\n",
        "                        self.position.reshape(self.grid_size, self.grid_size,1)),axis=2)\n",
        "        \n",
        "        state = state[self.x - 2:self.x + 3, self.y - 2:self.y + 3, :]\n",
        "        return state\n",
        "\n"
      ],
      "execution_count": 0,
      "outputs": []
    },
    {
      "cell_type": "code",
      "metadata": {
        "id": "BBGEdQ1O5h37",
        "colab_type": "code",
        "colab": {
          "base_uri": "https://localhost:8080/",
          "height": 800
        },
        "outputId": "e59fd661-572f-48cc-b03c-cbb822b28ff0"
      },
      "source": [
        "# Training\n",
        "env = EnvironmentExploring(grid_size=size, max_time=T, temperature=0.3)\n",
        "agent = DQN_CNN(size, lr=.1, epsilon = 0.1, memory_size=2000, batch_size = 32,n_state=3)\n",
        "train_explore(agent, env, epochs_train, prefix='cnn_train_explore')\n",
        "HTML(display_videos('cnn_train_explore10.mp4'))"
      ],
      "execution_count": 140,
      "outputs": [
        {
          "output_type": "stream",
          "text": [
            "Model: \"sequential_61\"\n",
            "_________________________________________________________________\n",
            "Layer (type)                 Output Shape              Param #   \n",
            "=================================================================\n",
            "conv2d_36 (Conv2D)           (None, 5, 5, 4)           52        \n",
            "_________________________________________________________________\n",
            "conv2d_37 (Conv2D)           (None, 5, 5, 8)           136       \n",
            "_________________________________________________________________\n",
            "reshape_23 (Reshape)         (None, 200)               0         \n",
            "_________________________________________________________________\n",
            "dense_79 (Dense)             (None, 4)                 804       \n",
            "=================================================================\n",
            "Total params: 992\n",
            "Trainable params: 992\n",
            "Non-trainable params: 0\n",
            "_________________________________________________________________\n",
            "Epoch 000/021 | Loss 0.0124 | Win/lose count 5.5/19.6 (-14.100000000000001)\n",
            "Epoch 001/021 | Loss 0.0809 | Win/lose count 6.5/24.300000000000054 (-17.800000000000054)\n",
            "Epoch 002/021 | Loss 0.6985 | Win/lose count 1.5/26.500000000000114 (-25.000000000000114)\n",
            "Epoch 003/021 | Loss 1.7583 | Win/lose count 4.0/23.600000000000037 (-19.600000000000037)\n",
            "Epoch 004/021 | Loss 1.6662 | Win/lose count 3.5/20.70000000000001 (-17.20000000000001)\n",
            "Epoch 005/021 | Loss 1.6416 | Win/lose count 4.0/22.700000000000067 (-18.700000000000067)\n",
            "Epoch 006/021 | Loss 1.5449 | Win/lose count 3.0/18.699999999999996 (-15.699999999999996)\n",
            "Epoch 007/021 | Loss 1.4442 | Win/lose count 5.0/21.70000000000001 (-16.70000000000001)\n",
            "Epoch 008/021 | Loss 1.3315 | Win/lose count 10.5/21.800000000000047 (-11.300000000000047)\n",
            "Epoch 009/021 | Loss 1.4929 | Win/lose count 6.0/19.5 (-13.5)\n",
            "Epoch 010/021 | Loss nan | Win/lose count 3.0/24.300000000000086 (-21.300000000000086)\n",
            "Epoch 011/021 | Loss nan | Win/lose count 1.0/19.400000000000006 (-18.400000000000006)\n",
            "Epoch 012/021 | Loss nan | Win/lose count 0/21.700000000000045 (-21.700000000000045)\n",
            "Epoch 013/021 | Loss nan | Win/lose count 0.5/22.100000000000044 (-21.600000000000044)\n",
            "Epoch 014/021 | Loss nan | Win/lose count 1.0/19.70000000000001 (-18.70000000000001)\n",
            "Epoch 015/021 | Loss nan | Win/lose count 0.5/21.300000000000036 (-20.800000000000036)\n",
            "Epoch 016/021 | Loss nan | Win/lose count 1.5/22.70000000000006 (-21.20000000000006)\n",
            "Epoch 017/021 | Loss nan | Win/lose count 1.0/21.000000000000036 (-20.000000000000036)\n",
            "Epoch 018/021 | Loss nan | Win/lose count 2.5/19.200000000000003 (-16.700000000000003)\n",
            "Epoch 019/021 | Loss nan | Win/lose count 3.0/21.00000000000003 (-18.00000000000003)\n",
            "Epoch 020/021 | Loss nan | Win/lose count 1.5/22.00000000000003 (-20.50000000000003)\n"
          ],
          "name": "stdout"
        },
        {
          "output_type": "execute_result",
          "data": {
            "text/html": [
              "<video alt=\"test\" controls>\n",
              "                <source src=\"data:video/mp4;base64,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\" type=\"video/mp4\" />\n",
              "             </video>"
            ],
            "text/plain": [
              "<IPython.core.display.HTML object>"
            ]
          },
          "metadata": {
            "tags": []
          },
          "execution_count": 140
        }
      ]
    },
    {
      "cell_type": "code",
      "metadata": {
        "id": "o4SCPomo5h38",
        "colab_type": "code",
        "colab": {}
      },
      "source": [
        "# Evaluation\n",
        "test(agent,env,epochs_test,prefix='cnn_test_explore')\n",
        "HTML(display_videos('cnn_test_explore10.mp4'))"
      ],
      "execution_count": 0,
      "outputs": []
    },
    {
      "cell_type": "markdown",
      "metadata": {
        "id": "Czlimyo95h39",
        "colab_type": "text"
      },
      "source": [
        "***\n",
        "***\n",
        "__BONUS question__ Use the expert DQN from the previous question to generate some winning games. Train a model that mimicks its behavior. Compare the performances."
      ]
    },
    {
      "cell_type": "markdown",
      "metadata": {
        "id": "22Hpyt6e5h39",
        "colab_type": "text"
      },
      "source": [
        ""
      ]
    },
    {
      "cell_type": "markdown",
      "metadata": {
        "id": "MO7hTnyI5h39",
        "colab_type": "text"
      },
      "source": [
        "***"
      ]
    }
  ]
}