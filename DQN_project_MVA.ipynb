{
  "nbformat": 4,
  "nbformat_minor": 0,
  "metadata": {
    "kernelspec": {
      "name": "python3",
      "display_name": "Python 3"
    },
    "language_info": {
      "codemirror_mode": {
        "name": "ipython",
        "version": 3
      },
      "file_extension": ".py",
      "mimetype": "text/x-python",
      "name": "python",
      "nbconvert_exporter": "python",
      "pygments_lexer": "ipython3",
      "version": "3.7.5"
    },
    "colab": {
      "name": "DQN_project_MVA.ipynb",
      "provenance": [],
      "include_colab_link": true
    }
  },
  "cells": [
    {
      "cell_type": "markdown",
      "metadata": {
        "id": "view-in-github",
        "colab_type": "text"
      },
      "source": [
        "<a href=\"https://colab.research.google.com/github/anhmeow/MScProjects/blob/master/DQN_project_MVA.ipynb\" target=\"_parent\"><img src=\"https://colab.research.google.com/assets/colab-badge.svg\" alt=\"Open In Colab\"/></a>"
      ]
    },
    {
      "cell_type": "markdown",
      "metadata": {
        "id": "VGxNNA_55h3K",
        "colab_type": "text"
      },
      "source": [
        "**You may need to install [OpenCV](https://pypi.python.org/pypi/opencv-python) and [scikit-video](http://www.scikit-video.org/stable/).**"
      ]
    },
    {
      "cell_type": "code",
      "metadata": {
        "id": "BNxrYYG27Aya",
        "colab_type": "code",
        "colab": {
          "base_uri": "https://localhost:8080/",
          "height": 173
        },
        "outputId": "49dc148a-aabf-479e-cecf-60a0dd0f437a"
      },
      "source": [
        "!pip install scikit-video"
      ],
      "execution_count": 1,
      "outputs": [
        {
          "output_type": "stream",
          "text": [
            "Collecting scikit-video\n",
            "\u001b[?25l  Downloading https://files.pythonhosted.org/packages/b1/a6/c69cad508139a342810ae46e946ebb3256aa6e42f690d901bb68f50582e3/scikit_video-1.1.11-py2.py3-none-any.whl (2.3MB)\n",
            "\u001b[K     |████████████████████████████████| 2.3MB 4.9MB/s \n",
            "\u001b[?25hRequirement already satisfied: pillow in /usr/local/lib/python3.6/dist-packages (from scikit-video) (6.2.2)\n",
            "Requirement already satisfied: numpy in /usr/local/lib/python3.6/dist-packages (from scikit-video) (1.17.5)\n",
            "Requirement already satisfied: scipy in /usr/local/lib/python3.6/dist-packages (from scikit-video) (1.4.1)\n",
            "Installing collected packages: scikit-video\n",
            "Successfully installed scikit-video-1.1.11\n"
          ],
          "name": "stdout"
        }
      ]
    },
    {
      "cell_type": "code",
      "metadata": {
        "id": "jxyxYdHm5h3O",
        "colab_type": "code",
        "colab": {
          "base_uri": "https://localhost:8080/",
          "height": 80
        },
        "outputId": "51923c12-bcd5-4003-fe98-79c5d207014e"
      },
      "source": [
        "import keras\n",
        "import numpy as np\n",
        "import io\n",
        "import base64\n",
        "from IPython.display import HTML\n",
        "import skvideo.io\n",
        "import cv2\n",
        "import json\n",
        "\n",
        "from keras.models import Sequential,model_from_json\n",
        "from keras.layers.core import Dense\n",
        "from keras.optimizers import sgd\n",
        "from keras.layers import Conv2D, MaxPooling2D, Activation, AveragePooling2D,Reshape,BatchNormalization"
      ],
      "execution_count": 2,
      "outputs": [
        {
          "output_type": "stream",
          "text": [
            "Using TensorFlow backend.\n"
          ],
          "name": "stderr"
        },
        {
          "output_type": "display_data",
          "data": {
            "text/html": [
              "<p style=\"color: red;\">\n",
              "The default version of TensorFlow in Colab will soon switch to TensorFlow 2.x.<br>\n",
              "We recommend you <a href=\"https://www.tensorflow.org/guide/migrate\" target=\"_blank\">upgrade</a> now \n",
              "or ensure your notebook will continue to use TensorFlow 1.x via the <code>%tensorflow_version 1.x</code> magic:\n",
              "<a href=\"https://colab.research.google.com/notebooks/tensorflow_version.ipynb\" target=\"_blank\">more info</a>.</p>\n"
            ],
            "text/plain": [
              "<IPython.core.display.HTML object>"
            ]
          },
          "metadata": {
            "tags": []
          }
        }
      ]
    },
    {
      "cell_type": "markdown",
      "metadata": {
        "id": "IP4geBNi5h3U",
        "colab_type": "text"
      },
      "source": [
        "# MiniProject on Deep Reinforcement Learning"
      ]
    },
    {
      "cell_type": "markdown",
      "metadata": {
        "id": "o33n31xT5h3V",
        "colab_type": "text"
      },
      "source": [
        "__Notations__: $E_p$ is the expectation under probability $p$. Please justify each of your answer and widely comment your code."
      ]
    },
    {
      "cell_type": "markdown",
      "metadata": {
        "id": "XOwKHnC35h3X",
        "colab_type": "text"
      },
      "source": [
        "# Context"
      ]
    },
    {
      "cell_type": "markdown",
      "metadata": {
        "id": "RSE_dN0M5h3Y",
        "colab_type": "text"
      },
      "source": [
        "In a reinforcement learning algorithm, we modelize each step $t$ as an action $a_t$ obtained from a state $s_t$, i.e. $\\{(a_{t},s_{t})_{t\\leq T}\\}$ having the Markov property. We consider a discount factor $\\gamma \\in [0,1]$ that ensures convergence. The goal is to find among all the policies $\\pi$, one that maximizes the expected reward:\n",
        "\n",
        "\\begin{equation*}\n",
        "R(\\pi)=\\sum_{t\\leq T}E_{p^{\\pi}}[\\gamma^t r(s_{t},a_{t})] \\> ,\n",
        "\\end{equation*}\n",
        "\n",
        "where: \n",
        "\\begin{equation*}p^{\\pi}(a_{0},a_{1},s_{1},...,a_{T},s_{T})=p(a_{0})\\prod_{t=1}^{T}\\pi(a_{t}|s_{t})p(s_{t+1}|s_{t},a_{t}) \\> .\n",
        "\\end{equation*}\n",
        "\n",
        "We note the $Q$-function:\n",
        "\n",
        "\\begin{equation*}Q^\\pi(s,a)=E_{p^{\\pi}}[\\sum_{t\\leq T}\\gamma^{t}r(s_{t},a_{t})|s_{0}=s,a_{0}=a] \\> .\n",
        "\\end{equation*}\n",
        "\n",
        "Thus, the optimal Q function is:\n",
        "\\begin{equation*}\n",
        "Q^*(s,a)=\\max_{\\pi}Q^\\pi(s,a) \\> .\n",
        "\\end{equation*}\n",
        "\n",
        "In this project, we will apply the deep reinforcement learning techniques to a simple game: an agent will have to learn from scratch a policy that will permit it maximizing a reward."
      ]
    },
    {
      "cell_type": "markdown",
      "metadata": {
        "id": "Kw1GCeJF5h3Z",
        "colab_type": "text"
      },
      "source": [
        "## The environment, the agent and the game"
      ]
    },
    {
      "cell_type": "markdown",
      "metadata": {
        "id": "vRMVYLdJ5h3a",
        "colab_type": "text"
      },
      "source": [
        "### The environment"
      ]
    },
    {
      "cell_type": "markdown",
      "metadata": {
        "id": "ob13m8SP5h3b",
        "colab_type": "text"
      },
      "source": [
        "```Environment``` is an abstract class that represents the states, rewards, and actions to obtain the new state."
      ]
    },
    {
      "cell_type": "code",
      "metadata": {
        "id": "Y1miwnLp5h3b",
        "colab_type": "code",
        "colab": {}
      },
      "source": [
        "class Environment(object):\n",
        "    def __init__(self):\n",
        "        pass\n",
        "\n",
        "    def act(self, act):\n",
        "        \"\"\"\n",
        "        One can act on the environment and obtain its reaction:\n",
        "        - the new state\n",
        "        - the reward of the new state\n",
        "        - should we continue the game?\n",
        "\n",
        "        :return: state, reward, game_over\n",
        "        \"\"\"\n",
        "        pass\n",
        "\n",
        "\n",
        "    def reset(self):\n",
        "        \"\"\"\n",
        "        Reinitialize the environment to a random state and returns\n",
        "        the original state\n",
        "\n",
        "        :return: state\n",
        "        \"\"\"\n",
        "        pass\n",
        "    \n",
        "    def draw(self):\n",
        "        \"\"\"\n",
        "        Visualize in the console or graphically the current state\n",
        "        \"\"\"\n",
        "        pass"
      ],
      "execution_count": 0,
      "outputs": []
    },
    {
      "cell_type": "markdown",
      "metadata": {
        "id": "XkgvPpI35h3e",
        "colab_type": "text"
      },
      "source": [
        "The method ```act``` allows to act on the environment at a given state $s_t$ (stored internally), via action $a_t$. The method will return the new state $s_{t+1}$, the reward $r(s_{t},a_{t})$ and determines if $t\\leq T$ (*game_over*).\n",
        "\n",
        "The method ```reset``` simply reinitializes the environment to a random state $s_0$.\n",
        "\n",
        "The method ```draw``` displays the current state $s_t$ (this is useful to check the behavior of the Agent).\n",
        "\n",
        "We modelize $s_t$ as a tensor, while $a_t$ is an integer."
      ]
    },
    {
      "cell_type": "markdown",
      "metadata": {
        "id": "3PNjhRLJ5h3e",
        "colab_type": "text"
      },
      "source": [
        "### The Agent"
      ]
    },
    {
      "cell_type": "markdown",
      "metadata": {
        "id": "-_ufjc1Y5h3f",
        "colab_type": "text"
      },
      "source": [
        "The goal of the ```Agent``` is to interact with the ```Environment``` by proposing actions $a_t$ obtained from a given state $s_t$ to attempt to maximize its __reward__ $r(s_t,a_t)$. We propose the following abstract class:"
      ]
    },
    {
      "cell_type": "code",
      "metadata": {
        "id": "xMgeHVYv5h3f",
        "colab_type": "code",
        "colab": {}
      },
      "source": [
        "class Agent(object):\n",
        "    def __init__(self, epsilon=0.1, n_action=4):\n",
        "        self.epsilon = epsilon\n",
        "        self.n_action = n_action\n",
        "    \n",
        "    def set_epsilon(self,e):\n",
        "        self.epsilon = e\n",
        "\n",
        "    def act(self,s,train=True):\n",
        "        \"\"\" This function should return the next action to do:\n",
        "        an integer between 0 and 4 (not included) with a random exploration of epsilon\"\"\"\n",
        "        if train:\n",
        "            if np.random.rand() <= self.epsilon:\n",
        "                a = np.random.randint(0, self.n_action, size=1)[0]\n",
        "            else:\n",
        "                a = self.learned_act(s)\n",
        "        else: # in some cases, this can improve the performance.. remove it if poor performances\n",
        "            a = self.learned_act(s)\n",
        "\n",
        "        return a\n",
        "\n",
        "    def learned_act(self,s):\n",
        "        \"\"\" Act via the policy of the agent, from a given state s\n",
        "        it proposes an action a\"\"\"\n",
        "        pass\n",
        "\n",
        "    def reinforce(self, s, n_s, a, r, game_over_):\n",
        "        \"\"\" This function is the core of the learning algorithm. \n",
        "        It takes as an input the current state s_, the next state n_s_\n",
        "        the action a_ used to move from s_ to n_s_ and the reward r_.\n",
        "        \n",
        "        Its goal is to learn a policy.\n",
        "        \"\"\"\n",
        "        pass\n",
        "\n",
        "    def save(self):\n",
        "        \"\"\" This function returns basic stats if applicable: the\n",
        "        loss and/or the model\"\"\"\n",
        "        pass\n",
        "\n",
        "    def load(self):\n",
        "        \"\"\" This function allows to restore a model\"\"\"\n",
        "        pass"
      ],
      "execution_count": 0,
      "outputs": []
    },
    {
      "cell_type": "markdown",
      "metadata": {
        "id": "pJhwWnvI5h3h",
        "colab_type": "text"
      },
      "source": [
        "***\n",
        "__Question 1__:\n",
        "Explain the function act. Why is ```epsilon``` essential?"
      ]
    },
    {
      "cell_type": "markdown",
      "metadata": {
        "id": "Drha6srs5h3i",
        "colab_type": "text"
      },
      "source": [
        "The function act will, in train mode, decide between two kind of actions :\n",
        "\n",
        "\n",
        "*   Select a action randomly (exploration from the player)\n",
        "*   Choose a action according to the best policy identified so far (exploitation from the player).\n",
        "\n",
        "Epsilon is essential as it defined the ratio between random actions (exploration) and actions from policy (exploitation).\n",
        "\n",
        "If not in training mode, the act function apply the policy learned only.\n",
        "\n"
      ]
    },
    {
      "cell_type": "markdown",
      "metadata": {
        "id": "b20MFrtr5h3i",
        "colab_type": "text"
      },
      "source": [
        "***\n",
        "### The Game"
      ]
    },
    {
      "cell_type": "markdown",
      "metadata": {
        "id": "rhRWiCSl5h3j",
        "colab_type": "text"
      },
      "source": [
        "The ```Agent``` and the ```Environment``` work in an interlaced way as in the following (take some time to understand this code as it is the core of the project)\n",
        "\n",
        "```python\n",
        "\n",
        "epoch = 300\n",
        "env = Environment()\n",
        "agent = Agent()\n",
        "\n",
        "\n",
        "# Number of won games\n",
        "score = 0\n",
        "loss = 0\n",
        "\n",
        "\n",
        "for e in range(epoch):\n",
        "    # At each epoch, we restart to a fresh game and get the initial state\n",
        "    state = env.reset()\n",
        "    # This assumes that the games will end\n",
        "    game_over = False\n",
        "\n",
        "    win = 0\n",
        "    lose = 0\n",
        "    \n",
        "    while not game_over:\n",
        "        # The agent performs an action\n",
        "        action = agent.act(state)\n",
        "\n",
        "        # Apply an action to the environment, get the next state, the reward\n",
        "        # and if the games end\n",
        "        prev_state = state\n",
        "        state, reward, game_over = env.act(action)\n",
        "\n",
        "        # Update the counters\n",
        "        if reward > 0:\n",
        "            win = win + reward\n",
        "        if reward < 0:\n",
        "            lose = lose -reward\n",
        "\n",
        "        # Apply the reinforcement strategy\n",
        "        loss = agent.reinforce(prev_state, state,  action, reward, game_over)\n",
        "\n",
        "    # Save as a mp4\n",
        "    if e % 10 == 0:\n",
        "        env.draw(e)\n",
        "\n",
        "    # Update stats\n",
        "    score += win-lose\n",
        "\n",
        "    print(\"Epoch {:03d}/{:03d} | Loss {:.4f} | Win/lose count {}/{} ({})\"\n",
        "          .format(e, epoch, loss, win, lose, win-lose))\n",
        "    agent.save()\n",
        "```"
      ]
    },
    {
      "cell_type": "markdown",
      "metadata": {
        "id": "jmdLK02n5h3j",
        "colab_type": "text"
      },
      "source": [
        "# The game, *eat cheese*"
      ]
    },
    {
      "cell_type": "markdown",
      "metadata": {
        "id": "Q3ppVVQH5h3k",
        "colab_type": "text"
      },
      "source": [
        "A rat runs on an island and tries to eat as much as possible. The island is subdivided into $N\\times N$ cells, in which there are cheese (+0.5) and poisonous cells (-1). The rat has a visibility of 2 cells (thus it can see $5^2$ cells). The rat is given a time $T$ to accumulate as much food as possible. It can perform 4 actions: going up, down, left, right. \n",
        "\n",
        "The goal is to code an agent to solve this task that will learn by trial and error. We propose the following environment:"
      ]
    },
    {
      "cell_type": "code",
      "metadata": {
        "id": "SKel3AH15h3k",
        "colab_type": "code",
        "colab": {}
      },
      "source": [
        "class Environment(object):\n",
        "    def __init__(self, grid_size=10, max_time=500, temperature=0.1):\n",
        "        grid_size = grid_size+4\n",
        "        self.grid_size = grid_size\n",
        "        self.max_time = max_time\n",
        "        self.temperature = temperature\n",
        "\n",
        "        #board on which one plays\n",
        "        self.board = np.zeros((grid_size,grid_size))\n",
        "        self.position = np.zeros((grid_size,grid_size))\n",
        "\n",
        "        # coordinate of the cat\n",
        "        self.x = 0\n",
        "        self.y = 1\n",
        "\n",
        "        # self time\n",
        "        self.t = 0\n",
        "\n",
        "        self.scale=16\n",
        "\n",
        "        self.to_draw = np.zeros((max_time+2, grid_size*self.scale, grid_size*self.scale, 3))\n",
        "\n",
        "\n",
        "    def draw(self,e):\n",
        "        skvideo.io.vwrite(str(e) + '.mp4', self.to_draw)\n",
        "\n",
        "    def get_frame(self,t):\n",
        "        b = np.zeros((self.grid_size,self.grid_size,3))+128\n",
        "        b[self.board>0,0] = 256\n",
        "        b[self.board < 0, 2] = 256\n",
        "        b[self.x,self.y,:]=256\n",
        "        b[-2:,:,:]=0\n",
        "        b[:,-2:,:]=0\n",
        "        b[:2,:,:]=0\n",
        "        b[:,:2,:]=0\n",
        "        \n",
        "        b =  cv2.resize(b, None, fx=self.scale, fy=self.scale, interpolation=cv2.INTER_NEAREST)\n",
        "\n",
        "        self.to_draw[t,:,:,:]=b\n",
        "\n",
        "\n",
        "    def act(self, action):\n",
        "        \"\"\"This function returns the new state, reward and decides if the\n",
        "        game ends.\"\"\"\n",
        "\n",
        "        self.get_frame(int(self.t))\n",
        "\n",
        "        self.position = np.zeros((self.grid_size, self.grid_size))\n",
        "\n",
        "        self.position[0:2,:]= -1\n",
        "        self.position[:,0:2] = -1\n",
        "        self.position[-2:, :] = -1\n",
        "        self.position[-2:, :] = -1\n",
        "\n",
        "        self.position[self.x, self.y] = 1\n",
        "        if action == 0:\n",
        "            if self.x == self.grid_size-3:\n",
        "                self.x = self.x-1\n",
        "            else:\n",
        "                self.x = self.x + 1\n",
        "        elif action == 1:\n",
        "            if self.x == 2:\n",
        "                self.x = self.x+1\n",
        "            else:\n",
        "                self.x = self.x-1\n",
        "        elif action == 2:\n",
        "            if self.y == self.grid_size - 3:\n",
        "                self.y = self.y - 1\n",
        "            else:\n",
        "                self.y = self.y + 1\n",
        "        elif action == 3:\n",
        "            if self.y == 2:\n",
        "                self.y = self.y + 1\n",
        "            else:\n",
        "                self.y = self.y - 1\n",
        "        else:\n",
        "            RuntimeError('Error: action not recognized')\n",
        "\n",
        "        self.t = self.t + 1\n",
        "        reward = self.board[self.x, self.y]\n",
        "        self.board[self.x, self.y] = 0\n",
        "        game_over = self.t > self.max_time\n",
        "        state = np.concatenate((self.board.reshape(self.grid_size, self.grid_size,1),\n",
        "                        self.position.reshape(self.grid_size, self.grid_size,1)),axis=2)\n",
        "        state = state[self.x-2:self.x+3,self.y-2:self.y+3,:]\n",
        "\n",
        "        return state, reward, game_over\n",
        "\n",
        "    def reset(self):\n",
        "        \"\"\"This function resets the game and returns the initial state\"\"\"\n",
        "\n",
        "        self.x = np.random.randint(3, self.grid_size-3, size=1)[0]\n",
        "        self.y = np.random.randint(3, self.grid_size-3, size=1)[0]\n",
        "\n",
        "\n",
        "        bonus = 0.5*np.random.binomial(1,self.temperature,size=self.grid_size**2)\n",
        "        bonus = bonus.reshape(self.grid_size,self.grid_size)\n",
        "\n",
        "        malus = -1.0*np.random.binomial(1,self.temperature,size=self.grid_size**2)\n",
        "        malus = malus.reshape(self.grid_size, self.grid_size)\n",
        "\n",
        "        self.to_draw = np.zeros((self.max_time+2, self.grid_size*self.scale, self.grid_size*self.scale, 3))\n",
        "\n",
        "\n",
        "        malus[bonus>0]=0\n",
        "\n",
        "        self.board = bonus + malus\n",
        "\n",
        "        self.position = np.zeros((self.grid_size, self.grid_size))\n",
        "        self.position[0:2,:]= -1\n",
        "        self.position[:,0:2] = -1\n",
        "        self.position[-2:, :] = -1\n",
        "        self.position[-2:, :] = -1\n",
        "        self.board[self.x,self.y] = 0\n",
        "        self.t = 0\n",
        "\n",
        "        state = np.concatenate((\n",
        "                               self.board.reshape(self.grid_size, self.grid_size,1),\n",
        "                        self.position.reshape(self.grid_size, self.grid_size,1)),axis=2)\n",
        "\n",
        "        state = state[self.x - 2:self.x + 3, self.y - 2:self.y + 3, :]\n",
        "        return state"
      ],
      "execution_count": 0,
      "outputs": []
    },
    {
      "cell_type": "markdown",
      "metadata": {
        "id": "YfYIRUD95h3l",
        "colab_type": "text"
      },
      "source": [
        "The following elements are important because they correspond to the hyper parameters for this project:"
      ]
    },
    {
      "cell_type": "code",
      "metadata": {
        "id": "K_oAs_5w5h3m",
        "colab_type": "code",
        "colab": {}
      },
      "source": [
        "# parameters\n",
        "size = 13\n",
        "T=200\n",
        "temperature=0.3\n",
        "epochs_train=101 # set small when debugging\n",
        "epochs_test=21 # set small when debugging\n",
        "\n",
        "# display videos\n",
        "def display_videos(name):\n",
        "    video = io.open(name, 'r+b').read()\n",
        "    encoded = base64.b64encode(video)\n",
        "    return '''<video alt=\"test\" controls>\n",
        "                <source src=\"data:video/mp4;base64,{0}\" type=\"video/mp4\" />\n",
        "             </video>'''.format(encoded.decode('ascii'))"
      ],
      "execution_count": 0,
      "outputs": []
    },
    {
      "cell_type": "markdown",
      "metadata": {
        "id": "555Ck5Fb5h3o",
        "colab_type": "text"
      },
      "source": [
        "__Question 2__ Explain the use of the arrays ```position``` and ```board```."
      ]
    },
    {
      "cell_type": "markdown",
      "metadata": {
        "id": "rO0p6I695h3p",
        "colab_type": "text"
      },
      "source": [
        "Position is a matrix of dimension (h + 4 , w + 4). The point $(p_i, p_j)=1$ represent the position of the rat. Note that the grid is offset by +2 cells on left, right, top and left (to facilitate the fact that the rat can see at a 2-cells distance) but the rat can't be within. This is represented with a -1 value for the corresponding cells.\n",
        "\n",
        "The board has the same dimension as the position (and same 'trick' to manage the 2-cells distance). $(b_i, b_j) = 0.5$ if there's a cheese, $(b_i, b_j) = -1$ if poison, $(b_i, b_j) = 0$ if empty cell\n",
        "\n"
      ]
    },
    {
      "cell_type": "markdown",
      "metadata": {
        "id": "vlJdOjIX5h3p",
        "colab_type": "text"
      },
      "source": [
        "## Random Agent"
      ]
    },
    {
      "cell_type": "markdown",
      "metadata": {
        "id": "D3tDB8xF5h3p",
        "colab_type": "text"
      },
      "source": [
        "***\n",
        "__Question 3__ Implement a random Agent (only ```learned_act``` needs to be implemented):"
      ]
    },
    {
      "cell_type": "code",
      "metadata": {
        "id": "aRD3H0185h3q",
        "colab_type": "code",
        "colab": {}
      },
      "source": [
        "class RandomAgent(Agent):\n",
        "    def __init__(self):\n",
        "        super(RandomAgent, self).__init__()\n",
        "        pass\n",
        "\n",
        "    def learned_act(self, s):\n",
        "        #we return randomly one of the 4 actions available (0, 1, 2 or 3)\n",
        "        return np.random.randint(4)"
      ],
      "execution_count": 0,
      "outputs": []
    },
    {
      "cell_type": "markdown",
      "metadata": {
        "id": "R4UqeSc05h3r",
        "colab_type": "text"
      },
      "source": [
        "***\n",
        "***\n",
        "__Question 4__ Visualize the game moves. You need to fill in the following function for the evaluation:"
      ]
    },
    {
      "cell_type": "code",
      "metadata": {
        "id": "o-jI4WO95h3r",
        "colab_type": "code",
        "colab": {}
      },
      "source": [
        "def test(agent,env,epochs,prefix=''):\n",
        "    # Number of won games\n",
        "    score = 0\n",
        "        \n",
        "    for e in range(epochs):\n",
        "        \n",
        "        ##### FILL IN HERE\n",
        "        # At each epoch, we restart to a fresh game and get the initial state\n",
        "        state = env.reset()\n",
        "        # This assumes that the games will end\n",
        "        game_over = False\n",
        "    \n",
        "        win = 0\n",
        "        lose = 0\n",
        "    \n",
        "        while not game_over:\n",
        "            # The agent performs an action\n",
        "            action = agent.act(state)\n",
        "    \n",
        "            # Apply an action to the environment, get the next state, the reward\n",
        "            # and if the games end\n",
        "            prev_state = state\n",
        "            state, reward, game_over = env.act(action)\n",
        "    \n",
        "            # Update the counters\n",
        "            if reward > 0:\n",
        "                win = win + reward\n",
        "            if reward < 0:\n",
        "                lose = lose -reward\n",
        "\n",
        "            #I remove the reinforcement learning part as not yet implemented in player\n",
        "\n",
        "\n",
        "        # Save as a mp4\n",
        "        env.draw(prefix+str(e))\n",
        "\n",
        "        # Update stats\n",
        "        score = score + win-lose\n",
        "\n",
        "        print(\"Win/lose count {}/{}. Average score ({})\"\n",
        "              .format(win, lose, score/(1+e)))\n",
        "    print('Final score: '+str(score/epochs))"
      ],
      "execution_count": 0,
      "outputs": []
    },
    {
      "cell_type": "code",
      "metadata": {
        "id": "3p4jcAXp5h3s",
        "colab_type": "code",
        "colab": {
          "base_uri": "https://localhost:8080/",
          "height": 545
        },
        "outputId": "a9d3c733-36a0-4a85-d3cc-66a4a2330f5c"
      },
      "source": [
        "# Initialize the game\n",
        "env = Environment(grid_size=size, max_time=T,temperature=temperature)\n",
        "\n",
        "# Initialize the agent!\n",
        "agent = RandomAgent()\n",
        "\n",
        "test(agent,env,epochs_test,prefix='random')\n",
        "HTML(display_videos('random0.mp4'))"
      ],
      "execution_count": 9,
      "outputs": [
        {
          "output_type": "stream",
          "text": [
            "Win/lose count 9.0/13.0. Average score (-4.0)\n",
            "Win/lose count 8.0/13.0. Average score (-4.5)\n",
            "Win/lose count 8.0/17.0. Average score (-6.0)\n",
            "Win/lose count 9.0/16.0. Average score (-6.25)\n",
            "Win/lose count 9.5/15.0. Average score (-6.1)\n",
            "Win/lose count 8.5/15.0. Average score (-6.166666666666667)\n",
            "Win/lose count 7.0/18.0. Average score (-6.857142857142857)\n",
            "Win/lose count 11.5/21.0. Average score (-7.1875)\n",
            "Win/lose count 8.0/13.0. Average score (-6.944444444444445)\n",
            "Win/lose count 11.5/18.0. Average score (-6.9)\n",
            "Win/lose count 11.5/13.0. Average score (-6.409090909090909)\n",
            "Win/lose count 9.0/15.0. Average score (-6.375)\n",
            "Win/lose count 9.5/13.0. Average score (-6.153846153846154)\n",
            "Win/lose count 11.0/13.0. Average score (-5.857142857142857)\n",
            "Win/lose count 13.5/14.0. Average score (-5.5)\n",
            "Win/lose count 11.5/12.0. Average score (-5.1875)\n",
            "Win/lose count 10.5/8.0. Average score (-4.735294117647059)\n",
            "Win/lose count 9.5/11.0. Average score (-4.555555555555555)\n",
            "Win/lose count 10.5/8.0. Average score (-4.184210526315789)\n",
            "Win/lose count 15.0/20.0. Average score (-4.225)\n",
            "Win/lose count 14.5/11.0. Average score (-3.857142857142857)\n",
            "Final score: -3.857142857142857\n"
          ],
          "name": "stdout"
        },
        {
          "output_type": "execute_result",
          "data": {
            "text/html": [
              "<video alt=\"test\" controls>\n",
              "                <source src=\"data:video/mp4;base64,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\" type=\"video/mp4\" />\n",
              "             </video>"
            ],
            "text/plain": [
              "<IPython.core.display.HTML object>"
            ]
          },
          "metadata": {
            "tags": []
          },
          "execution_count": 9
        }
      ]
    },
    {
      "cell_type": "markdown",
      "metadata": {
        "id": "jtkYTJ3C5h3u",
        "colab_type": "text"
      },
      "source": [
        "***\n",
        "## DQN"
      ]
    },
    {
      "cell_type": "markdown",
      "metadata": {
        "id": "XKxnabxF5h3u",
        "colab_type": "text"
      },
      "source": [
        "Let us assume here that $T=\\infty$.\n",
        "\n",
        "***\n",
        "__Question 5__ Let $\\pi$ be a policy, show that:\n",
        "\n",
        "\\begin{equation*}\n",
        "Q^{\\pi}(s,a)=E_{(s',a')\\sim p(.|s,a)}[r(s,a)+\\gamma Q^{\\pi}(s',a')]\n",
        "\\end{equation*}\n",
        "\n",
        "Then, show that for the optimal policy $\\pi^*$ (we assume its existence), the following holds: \n",
        "\n",
        "\\begin{equation*}\n",
        "Q^{*}(s,a)=E_{s'\\sim \\pi^*(.|s,a)}[r(s,a)+\\gamma\\max_{a'}Q^{*}(s',a')].\n",
        "\\end{equation*}\n",
        "Finally, deduce that a plausible objective is:\n",
        "\n",
        "\\begin{equation*}\n",
        "\\mathcal{L}(\\theta)=E_{s' \\sim \\pi^*(.|s,a)}\\Vert r+\\gamma\\max_{a'}Q(s',a',\\theta)-Q(s,a,\\theta)\\Vert^{2}.\n",
        "\\end{equation*}\n",
        "\n"
      ]
    },
    {
      "cell_type": "markdown",
      "metadata": {
        "id": "mcTeEaT95h3u",
        "colab_type": "text"
      },
      "source": [
        "From the definition of $Q^\\pi$, we have :\n",
        "$Q^\\pi(s,a) = E_{p^\\pi} [\\sum_{t=0}^T \\gamma^t r(s_t, a_t)|s_0=s,a_0=a]$\n",
        "\\\n",
        "=> $Q^\\pi(s,a) = E_{p^\\pi} [\\gamma^0 r(s_0, a_0] + \\sum_{t=1}^T [\\gamma^t r(s_t, a_t)|s_0=s,a_0=a]$\n",
        "\\\n",
        "=> $Q^\\pi(s,a) = E_{p^\\pi} [r(s_0, a_0)|s_0=s,a_0=a] + E_{p^\\pi} [\\sum_{t=0}^T \\gamma^{t+1} r(s_{t+1}, a_{t+1})|s_0=s,a_0=a]$\n",
        "\\\n",
        "=> $Q^\\pi(s,a) = E_{p^\\pi} [r(s, a)] + E_{p^\\pi} [\\sum_{s' \\in S} Pr(s_1=s'|s_0=s, a_0=a) \\times \\sum_{a' \\in A} Pr(a_1=a'|s_1 = s', s_0=s, a_0=a) \\times \\sum_{t=0}^T \\gamma^{t+1} r(s_{t+1}, a_{t+1})|s_1=s',a_1=a']$ \n",
        "\\\n",
        "=> $Q^\\pi(s,a) = r(s, a) + E_{(s',a')\\sim p(.|s, a)} \\gamma \\times E_{p^\\pi} [\\sum_{t=0}^T \\gamma^{t} r(s_{t+1}, a_{t+1})|s_1=s',a_1=a']$\n",
        "\\\n",
        "=> $Q^\\pi(s,a) = r(s, a) + E_{(s',a')\\sim p(.|s, a)} \\gamma Q^\\pi(s',a')$\n",
        "\\\n",
        "=> $Q^\\pi(s,a) = E_{(s',a')\\sim p(.|s, a)} [r(s, a) + \\gamma Q^\\pi(s',a')]$\n",
        "\n",
        "\\\n",
        "\\\n",
        "Let's replace $Q^\\pi$ by $Q^*$ in the previous equation as it stand for any policy:\n",
        "\\\n",
        "=> $Q^*(s,a) = E_{(s',a')\\sim \\pi^*(.|s, a)} [r(s, a) + \\gamma Q^*(s',a')]$\n",
        "\\\n",
        "Or, with the policy $\\pi^*$, the next action a' is determined by the policy as being $max_{a'}\\pi^*(s', a'|s, a)$. We don't need anymore to some over the $a'$ but only take the $max_{a'}$. Finally, we have :\n",
        "\\\n",
        "=> $Q^*(s,a) = E_{s'\\sim \\pi^*(.|s, a)} [max_{a'}r(s, a) + \\gamma max_{a'}Q^*(s',a')]$\n",
        "\\\n",
        "=> $Q^*(s,a) = E_{s'\\sim \\pi^*(.|s, a)} [r(s, a) + \\gamma max_{a'}Q^*(s',a')]$\n",
        "\n",
        "\\\n",
        "\\\n",
        "We want to find the function $Q(s,a,\\theta)$ related with the optimal policy $\\pi^*$ meaning that the previous equation stands. This mean :\n",
        "\\\n",
        "$0 = E_{s'\\sim \\pi^*(.|s, a)} [r(s, a) + \\gamma max_{a'}Q^*(s',a',\\theta)] - Q^*(s,a,\\theta)$\n",
        "\\\n",
        "=> $0 = E_{s'\\sim \\pi^*(.|s, a)} [r(s, a) + \\gamma max_{a'}Q^*(s',a',\\theta)- Q^*(s,a,\\theta)]$\n",
        "\\\n",
        "As we need a objective to minimize, we can apply square to force convergence to 0 and so have an objective loss as:\n",
        "\\\n",
        "\\begin{equation*}\n",
        "\\mathcal{L}(\\theta)=E_{s' \\sim \\pi^*(.|s,a)}\\Vert r(s,a)+\\gamma\\max_{a'}Q(s',a',\\theta)-Q(s,a,\\theta)\\Vert^{2}.\n",
        "\\end{equation*}\n",
        "\n",
        "\n",
        "\n"
      ]
    },
    {
      "cell_type": "markdown",
      "metadata": {
        "id": "pf-7LkcX5h3v",
        "colab_type": "text"
      },
      "source": [
        "***\n",
        "The DQN-learning algorithm relies on these derivations to train the parameters $\\theta$ of a Deep Neural Network:\n",
        "\n",
        "1. At the state $s_t$, select the action $a_t$ with best reward using $Q_t$ and store the results;\n",
        "\n",
        "2. Obtain the new state $s_{t+1}$ from the environment $p$;\n",
        "\n",
        "3. Store $(s_t,a_t,s_{t+1})$;\n",
        "\n",
        "4. Obtain $Q_{t+1}$ by minimizing  $\\mathcal{L}$ from a recovered batch from the previously stored results.\n",
        "\n",
        "***\n",
        "__Question 6__ Implement the class ```Memory``` that stores moves (in a replay buffer) via ```remember``` and provides a ```random_access``` to these. Specify a maximum memory size to avoid side effects. You can for example use a ```list()``` and set by default ```max_memory=100```."
      ]
    },
    {
      "cell_type": "code",
      "metadata": {
        "id": "56Gldyxp5h3v",
        "colab_type": "code",
        "colab": {}
      },
      "source": [
        "class Memory(object):\n",
        "    def __init__(self, max_memory=100):\n",
        "        self.max_memory = max_memory\n",
        "        self.memory = list()\n",
        "\n",
        "    def remember(self, m):\n",
        "        self.memory.append(m)\n",
        "        if len(self.memory) > self.max_memory:\n",
        "          self.memory.pop(0)\n",
        "\n",
        "    def random_access(self):\n",
        "        rnd_idx = np.random.randint(len(self.memory))\n",
        "        return self.memory[rnd_idx]"
      ],
      "execution_count": 0,
      "outputs": []
    },
    {
      "cell_type": "markdown",
      "metadata": {
        "id": "j89WgLdD5h3x",
        "colab_type": "text"
      },
      "source": [
        "***\n",
        "The pipeline we will use for training is given below:"
      ]
    },
    {
      "cell_type": "code",
      "metadata": {
        "id": "iKGVQwiJ5h3x",
        "colab_type": "code",
        "colab": {}
      },
      "source": [
        "def train(agent,env,epoch,prefix=''):\n",
        "    # Number of won games\n",
        "    score = 0\n",
        "    loss = 0\n",
        "\n",
        "    for e in range(epoch):\n",
        "        # At each epoch, we restart to a fresh game and get the initial state\n",
        "        state = env.reset()\n",
        "        # This assumes that the games will terminate\n",
        "        game_over = False\n",
        "\n",
        "        win = 0\n",
        "        lose = 0\n",
        "\n",
        "        while not game_over:\n",
        "            # The agent performs an action\n",
        "            action = agent.act(state)\n",
        "\n",
        "            # Apply an action to the environment, get the next state, the reward\n",
        "            # and if the games end\n",
        "            prev_state = state\n",
        "            state, reward, game_over = env.act(action)\n",
        "\n",
        "            # Update the counters\n",
        "            if reward > 0:\n",
        "                win = win + reward\n",
        "            if reward < 0:\n",
        "                lose = lose -reward\n",
        "\n",
        "            # Apply the reinforcement strategy\n",
        "            loss = agent.reinforce(prev_state, state,  action, reward, game_over)\n",
        "\n",
        "        # Save as a mp4\n",
        "        if e % 10 == 0:\n",
        "            env.draw(prefix+str(e))\n",
        "\n",
        "        # Update stats\n",
        "        score += win-lose\n",
        "\n",
        "        print(\"Epoch {:03d}/{:03d} | Loss {:.4f} | Win/lose count {}/{} ({})\"\n",
        "              .format(e, epoch, loss, win, lose, win-lose))\n",
        "        agent.save(name_weights=prefix+'model.h5',name_model=prefix+'model.json')"
      ],
      "execution_count": 0,
      "outputs": []
    },
    {
      "cell_type": "markdown",
      "metadata": {
        "id": "-RCyNSs05h3z",
        "colab_type": "text"
      },
      "source": [
        "***\n",
        "__Question 7__ Implement the DQN training algorithm using a cascade of fully connected layers. You can use different learning rate, batch size or memory size parameters. In particular, the loss might oscillate while the player will start to win the games. You have to find a good criterium."
      ]
    },
    {
      "cell_type": "code",
      "metadata": {
        "id": "KBOa4gwA5h3z",
        "colab_type": "code",
        "colab": {}
      },
      "source": [
        "class DQN(Agent):\n",
        "    def __init__(self, grid_size,  epsilon = 0.1, memory_size=100, batch_size = 16,n_state=2):\n",
        "        super(DQN, self).__init__(epsilon = epsilon)\n",
        "\n",
        "        # Discount for Q learning\n",
        "        self.discount = 0.99\n",
        "        \n",
        "        self.grid_size = grid_size\n",
        "        \n",
        "        # number of state\n",
        "        self.n_state = n_state\n",
        "\n",
        "        # Memory\n",
        "        self.memory = Memory(memory_size)\n",
        "        \n",
        "        # Batch size when learning\n",
        "        self.batch_size = batch_size\n",
        "\n",
        "    def learned_act(self, s):\n",
        "        return np.argmax(self.model.predict(np.array([s]))[0])\n",
        "\n",
        "    def reinforce(self, s_, n_s_, a_, r_, game_over_):\n",
        "        # Two steps: first memorize the states, second learn from the pool\n",
        "\n",
        "        self.memory.remember([s_, n_s_, a_, r_, game_over_])\n",
        "        \n",
        "        input_states = np.zeros((self.batch_size, 5,5,self.n_state))\n",
        "        target_q = np.zeros((self.batch_size, 4))\n",
        "        \n",
        "        for i in range(self.batch_size):\n",
        "            #get a record from memory\n",
        "            rnd_s_, rnd_n_s_, rnd_a_, rnd_r_, rnd_game_over_ = self.memory.random_access()\n",
        "            #input it in input_states\n",
        "            input_states[i,...] = rnd_s_\n",
        "            \n",
        "            if game_over_:\n",
        "                #assign target_q = q(s,a) for all a\n",
        "                target_q[i,:] = self.model.predict(np.array([rnd_s_]))[0]\n",
        "                #except for the action a where we apply bellman equation\n",
        "                #reward of r only as game over\n",
        "                target_q[i,rnd_a_] = rnd_r_\n",
        "            else:\n",
        "                #assign target_q = q(s,a) for all a\n",
        "                target_q[i,:] = self.model.predict(np.array([rnd_s_]))[0]\n",
        "                #except for the action a where we apply bellman equation\n",
        "                #q(s, a) = gamma * [max(a') q(s',a')] + r\n",
        "                target_q[i,rnd_a_] = np.max(self.model.predict(np.array([rnd_n_s_]))[0]) * self.discount\n",
        "                target_q[i,rnd_a_] += rnd_r_\n",
        "\n",
        "\n",
        "        ######## FILL IN\n",
        "        # HINT: Clip the target to avoid exploiding gradients.. -- clipping is a bit tighter\n",
        "        target_q = np.clip(target_q, -10, 10)\n",
        "\n",
        "        l = self.model.train_on_batch(input_states, target_q)\n",
        "\n",
        "\n",
        "        return l\n",
        "\n",
        "    def save(self,name_weights='model.h5',name_model='model.json'):\n",
        "        self.model.save_weights(name_weights, overwrite=True)\n",
        "        with open(name_model, \"w\") as outfile:\n",
        "            json.dump(self.model.to_json(), outfile)\n",
        "            \n",
        "    def load(self,name_weights='model.h5',name_model='model.json'):\n",
        "        with open(name_model, \"r\") as jfile:\n",
        "            model = model_from_json(json.load(jfile))\n",
        "        model.load_weights(name_weights)\n",
        "        model.compile(\"sgd\", \"mse\")\n",
        "        self.model = model\n",
        "\n",
        "            \n",
        "class DQN_FC(DQN):\n",
        "    def __init__(self, *args, lr=0.1,**kwargs):\n",
        "        super(DQN_FC, self).__init__( *args,**kwargs)\n",
        "        \n",
        "        # NN Model\n",
        "        model = Sequential()\n",
        "        model.add(Reshape((-1,),input_shape=(5,5,self.n_state), name='Reshape'))\n",
        "        model.add(Dense(64, activation='relu'))\n",
        "        model.add(Dense(64, activation='relu'))\n",
        "        #model.add(BatchNormalization())\n",
        "        model.add(Dense(32, activation='relu'))\n",
        "        model.add(Dense(32, activation='relu'))\n",
        "        #model.add(BatchNormalization())\n",
        "        model.add(Dense(16, activation='relu'))\n",
        "        #model.add(BatchNormalization())\n",
        "        model.add(Dense(8, activation='relu'))\n",
        "        model.add(Dense(8, activation='relu'))\n",
        "        #model.add(BatchNormalization())\n",
        "        model.add(Dense(4))\n",
        "\n",
        "        model.summary()\n",
        "        \n",
        "        #model.compile(sgd(lr=lr, decay=1e-4, momentum=0.0), \"mse\")\n",
        "        model.compile('rmsprop', \"mse\")\n",
        "        self.model = model\n",
        "        "
      ],
      "execution_count": 0,
      "outputs": []
    },
    {
      "cell_type": "code",
      "metadata": {
        "id": "_RCoik0f5h30",
        "colab_type": "code",
        "colab": {
          "base_uri": "https://localhost:8080/",
          "height": 1000
        },
        "outputId": "aeda907c-a272-4d16-c4b9-821310fada96"
      },
      "source": [
        "env = Environment(grid_size=size, max_time=T, temperature=0.3)\n",
        "agent = DQN_FC(size, lr=.1, epsilon = 0.1, memory_size=2000, batch_size = 32)\n",
        "train(agent, env, epochs_train, prefix='fc_train')\n",
        "HTML(display_videos('fc_train10.mp4'))"
      ],
      "execution_count": 13,
      "outputs": [
        {
          "output_type": "stream",
          "text": [
            "WARNING:tensorflow:From /usr/local/lib/python3.6/dist-packages/keras/backend/tensorflow_backend.py:66: The name tf.get_default_graph is deprecated. Please use tf.compat.v1.get_default_graph instead.\n",
            "\n",
            "WARNING:tensorflow:From /usr/local/lib/python3.6/dist-packages/keras/backend/tensorflow_backend.py:541: The name tf.placeholder is deprecated. Please use tf.compat.v1.placeholder instead.\n",
            "\n",
            "WARNING:tensorflow:From /usr/local/lib/python3.6/dist-packages/keras/backend/tensorflow_backend.py:4432: The name tf.random_uniform is deprecated. Please use tf.random.uniform instead.\n",
            "\n",
            "Model: \"sequential_1\"\n",
            "_________________________________________________________________\n",
            "Layer (type)                 Output Shape              Param #   \n",
            "=================================================================\n",
            "Reshape (Reshape)            (None, 50)                0         \n",
            "_________________________________________________________________\n",
            "dense_1 (Dense)              (None, 64)                3264      \n",
            "_________________________________________________________________\n",
            "dense_2 (Dense)              (None, 64)                4160      \n",
            "_________________________________________________________________\n",
            "dense_3 (Dense)              (None, 32)                2080      \n",
            "_________________________________________________________________\n",
            "dense_4 (Dense)              (None, 32)                1056      \n",
            "_________________________________________________________________\n",
            "dense_5 (Dense)              (None, 16)                528       \n",
            "_________________________________________________________________\n",
            "dense_6 (Dense)              (None, 8)                 136       \n",
            "_________________________________________________________________\n",
            "dense_7 (Dense)              (None, 8)                 72        \n",
            "_________________________________________________________________\n",
            "dense_8 (Dense)              (None, 4)                 36        \n",
            "=================================================================\n",
            "Total params: 11,332\n",
            "Trainable params: 11,332\n",
            "Non-trainable params: 0\n",
            "_________________________________________________________________\n",
            "WARNING:tensorflow:From /usr/local/lib/python3.6/dist-packages/keras/optimizers.py:793: The name tf.train.Optimizer is deprecated. Please use tf.compat.v1.train.Optimizer instead.\n",
            "\n",
            "WARNING:tensorflow:From /usr/local/lib/python3.6/dist-packages/keras/backend/tensorflow_backend.py:3005: The name tf.Session is deprecated. Please use tf.compat.v1.Session instead.\n",
            "\n",
            "WARNING:tensorflow:From /usr/local/lib/python3.6/dist-packages/keras/backend/tensorflow_backend.py:190: The name tf.get_default_session is deprecated. Please use tf.compat.v1.get_default_session instead.\n",
            "\n",
            "WARNING:tensorflow:From /usr/local/lib/python3.6/dist-packages/keras/backend/tensorflow_backend.py:197: The name tf.ConfigProto is deprecated. Please use tf.compat.v1.ConfigProto instead.\n",
            "\n",
            "WARNING:tensorflow:From /usr/local/lib/python3.6/dist-packages/keras/backend/tensorflow_backend.py:207: The name tf.global_variables is deprecated. Please use tf.compat.v1.global_variables instead.\n",
            "\n",
            "WARNING:tensorflow:From /usr/local/lib/python3.6/dist-packages/keras/backend/tensorflow_backend.py:216: The name tf.is_variable_initialized is deprecated. Please use tf.compat.v1.is_variable_initialized instead.\n",
            "\n",
            "WARNING:tensorflow:From /usr/local/lib/python3.6/dist-packages/keras/backend/tensorflow_backend.py:223: The name tf.variables_initializer is deprecated. Please use tf.compat.v1.variables_initializer instead.\n",
            "\n",
            "WARNING:tensorflow:From /usr/local/lib/python3.6/dist-packages/keras/backend/tensorflow_backend.py:1033: The name tf.assign_add is deprecated. Please use tf.compat.v1.assign_add instead.\n",
            "\n",
            "WARNING:tensorflow:From /usr/local/lib/python3.6/dist-packages/keras/backend/tensorflow_backend.py:1020: The name tf.assign is deprecated. Please use tf.compat.v1.assign instead.\n",
            "\n",
            "Epoch 000/101 | Loss 13.1215 | Win/lose count 3.5/7.0 (-3.5)\n",
            "Epoch 001/101 | Loss 17.6880 | Win/lose count 3.5/3.0 (0.5)\n",
            "Epoch 002/101 | Loss 6.4440 | Win/lose count 3.5/6.0 (-2.5)\n",
            "Epoch 003/101 | Loss 3.7464 | Win/lose count 4.0/6.0 (-2.0)\n",
            "Epoch 004/101 | Loss 13.1520 | Win/lose count 6.5/4.0 (2.5)\n",
            "Epoch 005/101 | Loss 16.4347 | Win/lose count 4.5/3.0 (1.5)\n",
            "Epoch 006/101 | Loss 14.0893 | Win/lose count 7.5/14.0 (-6.5)\n",
            "Epoch 007/101 | Loss 5.7660 | Win/lose count 6.5/8.0 (-1.5)\n",
            "Epoch 008/101 | Loss 10.0918 | Win/lose count 14.0/11.0 (3.0)\n",
            "Epoch 009/101 | Loss 9.9858 | Win/lose count 5.0/4.0 (1.0)\n",
            "Epoch 010/101 | Loss 9.7422 | Win/lose count 9.0/12.0 (-3.0)\n",
            "Epoch 011/101 | Loss 7.2992 | Win/lose count 9.5/16.0 (-6.5)\n",
            "Epoch 012/101 | Loss 10.5677 | Win/lose count 10.5/7.0 (3.5)\n",
            "Epoch 013/101 | Loss 7.3449 | Win/lose count 12.5/12.0 (0.5)\n",
            "Epoch 014/101 | Loss 10.7654 | Win/lose count 9.5/5.0 (4.5)\n",
            "Epoch 015/101 | Loss 8.5176 | Win/lose count 10.0/11.0 (-1.0)\n",
            "Epoch 016/101 | Loss 7.6971 | Win/lose count 12.0/17.0 (-5.0)\n",
            "Epoch 017/101 | Loss 3.5748 | Win/lose count 10.5/8.0 (2.5)\n",
            "Epoch 018/101 | Loss 8.0222 | Win/lose count 5.0/9.0 (-4.0)\n",
            "Epoch 019/101 | Loss 11.5642 | Win/lose count 15.0/9.0 (6.0)\n",
            "Epoch 020/101 | Loss 8.2073 | Win/lose count 5.5/8.0 (-2.5)\n",
            "Epoch 021/101 | Loss 8.1179 | Win/lose count 9.0/7.0 (2.0)\n",
            "Epoch 022/101 | Loss 8.1638 | Win/lose count 6.0/4.0 (2.0)\n",
            "Epoch 023/101 | Loss 17.2493 | Win/lose count 6.5/6.0 (0.5)\n",
            "Epoch 024/101 | Loss 10.1564 | Win/lose count 10.5/12.0 (-1.5)\n",
            "Epoch 025/101 | Loss 11.8590 | Win/lose count 2.0/3.0 (-1.0)\n",
            "Epoch 026/101 | Loss 5.7840 | Win/lose count 16.0/12.0 (4.0)\n",
            "Epoch 027/101 | Loss 9.0689 | Win/lose count 7.5/7.0 (0.5)\n",
            "Epoch 028/101 | Loss 16.1082 | Win/lose count 4.0/4.0 (0.0)\n",
            "Epoch 029/101 | Loss 8.1802 | Win/lose count 11.5/3.0 (8.5)\n",
            "Epoch 030/101 | Loss 7.4563 | Win/lose count 9.0/8.0 (1.0)\n",
            "Epoch 031/101 | Loss 10.5683 | Win/lose count 5.5/3.0 (2.5)\n",
            "Epoch 032/101 | Loss 12.1077 | Win/lose count 10.5/1.0 (9.5)\n",
            "Epoch 033/101 | Loss 7.4825 | Win/lose count 8.0/9.0 (-1.0)\n",
            "Epoch 034/101 | Loss 16.5362 | Win/lose count 8.5/6.0 (2.5)\n",
            "Epoch 035/101 | Loss 10.9418 | Win/lose count 6.5/5.0 (1.5)\n",
            "Epoch 036/101 | Loss 6.3740 | Win/lose count 12.0/17.0 (-5.0)\n",
            "Epoch 037/101 | Loss 9.7940 | Win/lose count 9.5/7.0 (2.5)\n",
            "Epoch 038/101 | Loss 9.1291 | Win/lose count 11.0/10.0 (1.0)\n",
            "Epoch 039/101 | Loss 4.4665 | Win/lose count 4.5/8.0 (-3.5)\n",
            "Epoch 040/101 | Loss 11.3792 | Win/lose count 10.5/10.0 (0.5)\n",
            "Epoch 041/101 | Loss 9.4995 | Win/lose count 11.0/8.0 (3.0)\n",
            "Epoch 042/101 | Loss 6.9730 | Win/lose count 8.5/8.0 (0.5)\n",
            "Epoch 043/101 | Loss 8.8272 | Win/lose count 8.5/5.0 (3.5)\n",
            "Epoch 044/101 | Loss 10.5303 | Win/lose count 4.0/9.0 (-5.0)\n",
            "Epoch 045/101 | Loss 10.6923 | Win/lose count 5.5/8.0 (-2.5)\n",
            "Epoch 046/101 | Loss 14.9939 | Win/lose count 8.5/3.0 (5.5)\n",
            "Epoch 047/101 | Loss 11.4184 | Win/lose count 4.5/2.0 (2.5)\n",
            "Epoch 048/101 | Loss 8.9135 | Win/lose count 4.0/4.0 (0.0)\n",
            "Epoch 049/101 | Loss 7.7982 | Win/lose count 6.5/4.0 (2.5)\n",
            "Epoch 050/101 | Loss 4.8710 | Win/lose count 3.0/0 (3.0)\n",
            "Epoch 051/101 | Loss 5.7601 | Win/lose count 7.0/3.0 (4.0)\n",
            "Epoch 052/101 | Loss 8.6213 | Win/lose count 5.0/3.0 (2.0)\n",
            "Epoch 053/101 | Loss 4.9433 | Win/lose count 2.5/5.0 (-2.5)\n",
            "Epoch 054/101 | Loss 15.2276 | Win/lose count 10.0/9.0 (1.0)\n",
            "Epoch 055/101 | Loss 14.0670 | Win/lose count 5.5/4.0 (1.5)\n",
            "Epoch 056/101 | Loss 3.3120 | Win/lose count 1.5/3.0 (-1.5)\n",
            "Epoch 057/101 | Loss 2.8404 | Win/lose count 13.0/11.0 (2.0)\n",
            "Epoch 058/101 | Loss 8.9120 | Win/lose count 7.5/6.0 (1.5)\n",
            "Epoch 059/101 | Loss 5.4898 | Win/lose count 5.0/3.0 (2.0)\n",
            "Epoch 060/101 | Loss 5.3938 | Win/lose count 13.0/12.0 (1.0)\n",
            "Epoch 061/101 | Loss 17.3057 | Win/lose count 7.5/6.0 (1.5)\n",
            "Epoch 062/101 | Loss 11.8090 | Win/lose count 15.0/12.0 (3.0)\n",
            "Epoch 063/101 | Loss 11.7501 | Win/lose count 13.5/6.0 (7.5)\n",
            "Epoch 064/101 | Loss 18.1311 | Win/lose count 10.0/7.0 (3.0)\n",
            "Epoch 065/101 | Loss 16.4023 | Win/lose count 16.0/13.0 (3.0)\n",
            "Epoch 066/101 | Loss 15.2510 | Win/lose count 8.0/11.0 (-3.0)\n",
            "Epoch 067/101 | Loss 20.5354 | Win/lose count 13.5/10.0 (3.5)\n",
            "Epoch 068/101 | Loss 16.5989 | Win/lose count 5.0/10.0 (-5.0)\n",
            "Epoch 069/101 | Loss 17.5328 | Win/lose count 11.5/12.0 (-0.5)\n",
            "Epoch 070/101 | Loss 15.6780 | Win/lose count 12.5/11.0 (1.5)\n",
            "Epoch 071/101 | Loss 16.7667 | Win/lose count 12.5/11.0 (1.5)\n",
            "Epoch 072/101 | Loss 20.3576 | Win/lose count 9.0/9.0 (0.0)\n",
            "Epoch 073/101 | Loss 23.7538 | Win/lose count 9.5/12.0 (-2.5)\n",
            "Epoch 074/101 | Loss 17.0131 | Win/lose count 4.5/7.0 (-2.5)\n",
            "Epoch 075/101 | Loss 14.4087 | Win/lose count 9.5/11.0 (-1.5)\n",
            "Epoch 076/101 | Loss 19.1909 | Win/lose count 11.0/7.0 (4.0)\n",
            "Epoch 077/101 | Loss 6.6464 | Win/lose count 15.5/12.0 (3.5)\n",
            "Epoch 078/101 | Loss 16.9158 | Win/lose count 8.5/7.0 (1.5)\n",
            "Epoch 079/101 | Loss 16.0986 | Win/lose count 8.5/6.0 (2.5)\n",
            "Epoch 080/101 | Loss 13.3491 | Win/lose count 12.5/8.0 (4.5)\n",
            "Epoch 081/101 | Loss 15.3277 | Win/lose count 9.0/1.0 (8.0)\n",
            "Epoch 082/101 | Loss 18.8220 | Win/lose count 8.5/3.0 (5.5)\n",
            "Epoch 083/101 | Loss 16.8572 | Win/lose count 7.5/6.0 (1.5)\n",
            "Epoch 084/101 | Loss 13.5320 | Win/lose count 14.0/12.0 (2.0)\n",
            "Epoch 085/101 | Loss 18.0713 | Win/lose count 9.5/8.0 (1.5)\n",
            "Epoch 086/101 | Loss 17.4571 | Win/lose count 6.5/9.0 (-2.5)\n",
            "Epoch 087/101 | Loss 17.1843 | Win/lose count 6.5/9.0 (-2.5)\n",
            "Epoch 088/101 | Loss 17.7809 | Win/lose count 11.0/18.0 (-7.0)\n",
            "Epoch 089/101 | Loss 13.7063 | Win/lose count 5.0/5.0 (0.0)\n",
            "Epoch 090/101 | Loss 21.3762 | Win/lose count 8.5/7.0 (1.5)\n",
            "Epoch 091/101 | Loss 14.8766 | Win/lose count 11.5/8.0 (3.5)\n",
            "Epoch 092/101 | Loss 13.2610 | Win/lose count 11.0/2.0 (9.0)\n",
            "Epoch 093/101 | Loss 13.9209 | Win/lose count 9.5/7.0 (2.5)\n",
            "Epoch 094/101 | Loss 17.6150 | Win/lose count 7.5/4.0 (3.5)\n",
            "Epoch 095/101 | Loss 17.8585 | Win/lose count 3.5/4.0 (-0.5)\n",
            "Epoch 096/101 | Loss 20.8552 | Win/lose count 10.0/6.0 (4.0)\n",
            "Epoch 097/101 | Loss 18.0071 | Win/lose count 8.0/7.0 (1.0)\n",
            "Epoch 098/101 | Loss 16.6397 | Win/lose count 14.5/7.0 (7.5)\n",
            "Epoch 099/101 | Loss 16.5653 | Win/lose count 5.0/3.0 (2.0)\n",
            "Epoch 100/101 | Loss 18.2306 | Win/lose count 8.0/8.0 (0.0)\n"
          ],
          "name": "stdout"
        },
        {
          "output_type": "execute_result",
          "data": {
            "text/html": [
              "<video alt=\"test\" controls>\n",
              "                <source src=\"data:video/mp4;base64,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\" type=\"video/mp4\" />\n",
              "             </video>"
            ],
            "text/plain": [
              "<IPython.core.display.HTML object>"
            ]
          },
          "metadata": {
            "tags": []
          },
          "execution_count": 13
        }
      ]
    },
    {
      "cell_type": "markdown",
      "metadata": {
        "id": "8K4_B9Kl5h31",
        "colab_type": "text"
      },
      "source": [
        "***\n",
        "***\n",
        "__Question 8__ Implement the DQN training algorithm using a CNN (for example, 2 convolutional layers and one final fully connected layer)."
      ]
    },
    {
      "cell_type": "code",
      "metadata": {
        "id": "g8vJTuKt5h31",
        "colab_type": "code",
        "colab": {}
      },
      "source": [
        "class DQN_CNN(DQN):\n",
        "    def __init__(self, *args,lr=0.1,**kwargs):\n",
        "        super(DQN_CNN, self).__init__(*args,**kwargs)\n",
        "        \n",
        "        model = Sequential()\n",
        "        model.add(Conv2D(6,2, padding='same', activation='relu', input_shape = (5,5,self.n_state)))\n",
        "        #model.add(BatchNormalization())\n",
        "        #model.add(AveragePooling2D(2, 1))\n",
        "        model.add(Conv2D(12,2, padding='same', activation='relu'))\n",
        "        #model.add(BatchNormalization())\n",
        "        #model.add(AveragePooling2D(2, 1))\n",
        "        model.add(Reshape((-1,)))\n",
        "        model.add(Dense(4))\n",
        "        \n",
        "\n",
        "        model.summary()\n",
        "        \n",
        "        #model.compile(sgd(lr=lr, decay=1e-4, momentum=0.0), \"mse\")\n",
        "        model.compile('adam', \"mse\")\n",
        "        self.model = model"
      ],
      "execution_count": 0,
      "outputs": []
    },
    {
      "cell_type": "code",
      "metadata": {
        "id": "U7upvWFR5h32",
        "colab_type": "code",
        "colab": {
          "base_uri": "https://localhost:8080/",
          "height": 1000
        },
        "outputId": "375dfbbd-2102-44f6-c2e7-523e80a2633e"
      },
      "source": [
        "env = Environment(grid_size=size, max_time=T, temperature=0.3)\n",
        "agent = DQN_CNN(size, lr=.1, epsilon = 0.1, memory_size=2000, batch_size = 32)\n",
        "train(agent,env,epochs_train,prefix='cnn_train')\n",
        "HTML(display_videos('cnn_train10.mp4'))"
      ],
      "execution_count": 23,
      "outputs": [
        {
          "output_type": "stream",
          "text": [
            "Model: \"sequential_6\"\n",
            "_________________________________________________________________\n",
            "Layer (type)                 Output Shape              Param #   \n",
            "=================================================================\n",
            "conv2d_7 (Conv2D)            (None, 5, 5, 6)           54        \n",
            "_________________________________________________________________\n",
            "conv2d_8 (Conv2D)            (None, 5, 5, 12)          300       \n",
            "_________________________________________________________________\n",
            "reshape_4 (Reshape)          (None, 300)               0         \n",
            "_________________________________________________________________\n",
            "dense_20 (Dense)             (None, 4)                 1204      \n",
            "=================================================================\n",
            "Total params: 1,558\n",
            "Trainable params: 1,558\n",
            "Non-trainable params: 0\n",
            "_________________________________________________________________\n",
            "Epoch 000/101 | Loss 23.8122 | Win/lose count 5.5/9.0 (-3.5)\n",
            "Epoch 001/101 | Loss 22.0235 | Win/lose count 0.5/1.0 (-0.5)\n",
            "Epoch 002/101 | Loss 15.4867 | Win/lose count 8.5/3.0 (5.5)\n",
            "Epoch 003/101 | Loss 16.7569 | Win/lose count 10.0/3.0 (7.0)\n",
            "Epoch 004/101 | Loss 14.7288 | Win/lose count 6.5/2.0 (4.5)\n",
            "Epoch 005/101 | Loss 17.7824 | Win/lose count 10.0/3.0 (7.0)\n",
            "Epoch 006/101 | Loss 18.0602 | Win/lose count 5.0/9.0 (-4.0)\n",
            "Epoch 007/101 | Loss 19.2430 | Win/lose count 7.5/8.0 (-0.5)\n",
            "Epoch 008/101 | Loss 16.6440 | Win/lose count 13.5/5.0 (8.5)\n",
            "Epoch 009/101 | Loss 18.9303 | Win/lose count 9.0/5.0 (4.0)\n",
            "Epoch 010/101 | Loss 16.8445 | Win/lose count 8.5/5.0 (3.5)\n",
            "Epoch 011/101 | Loss 14.2247 | Win/lose count 6.5/4.0 (2.5)\n",
            "Epoch 012/101 | Loss 12.0464 | Win/lose count 7.0/4.0 (3.0)\n",
            "Epoch 013/101 | Loss 10.3345 | Win/lose count 8.0/1.0 (7.0)\n",
            "Epoch 014/101 | Loss 8.1091 | Win/lose count 14.0/6.0 (8.0)\n",
            "Epoch 015/101 | Loss 8.8508 | Win/lose count 8.5/3.0 (5.5)\n",
            "Epoch 016/101 | Loss 7.5764 | Win/lose count 10.0/0 (10.0)\n",
            "Epoch 017/101 | Loss 8.1938 | Win/lose count 7.0/3.0 (4.0)\n",
            "Epoch 018/101 | Loss 8.8205 | Win/lose count 12.0/2.0 (10.0)\n",
            "Epoch 019/101 | Loss 9.8393 | Win/lose count 15.5/7.0 (8.5)\n",
            "Epoch 020/101 | Loss 8.9388 | Win/lose count 12.5/1.0 (11.5)\n",
            "Epoch 021/101 | Loss 11.4563 | Win/lose count 11.5/3.0 (8.5)\n",
            "Epoch 022/101 | Loss 11.5233 | Win/lose count 2.5/3.0 (-0.5)\n",
            "Epoch 023/101 | Loss 15.3815 | Win/lose count 15.5/3.0 (12.5)\n",
            "Epoch 024/101 | Loss 13.1350 | Win/lose count 11.0/7.0 (4.0)\n",
            "Epoch 025/101 | Loss 11.7146 | Win/lose count 16.5/7.0 (9.5)\n",
            "Epoch 026/101 | Loss 11.4814 | Win/lose count 14.0/3.0 (11.0)\n",
            "Epoch 027/101 | Loss 11.1028 | Win/lose count 19.5/4.0 (15.5)\n",
            "Epoch 028/101 | Loss 13.4990 | Win/lose count 21.0/2.0 (19.0)\n",
            "Epoch 029/101 | Loss 15.0020 | Win/lose count 19.0/4.0 (15.0)\n",
            "Epoch 030/101 | Loss 15.1853 | Win/lose count 22.0/4.0 (18.0)\n",
            "Epoch 031/101 | Loss 17.3121 | Win/lose count 12.5/2.0 (10.5)\n",
            "Epoch 032/101 | Loss 19.1930 | Win/lose count 25.0/2.0 (23.0)\n",
            "Epoch 033/101 | Loss 18.6731 | Win/lose count 15.5/4.0 (11.5)\n",
            "Epoch 034/101 | Loss 18.3535 | Win/lose count 13.5/4.0 (9.5)\n",
            "Epoch 035/101 | Loss 18.2088 | Win/lose count 12.0/6.0 (6.0)\n",
            "Epoch 036/101 | Loss 17.4049 | Win/lose count 16.0/1.0 (15.0)\n",
            "Epoch 037/101 | Loss 16.8067 | Win/lose count 22.5/2.0 (20.5)\n",
            "Epoch 038/101 | Loss 16.7639 | Win/lose count 15.0/3.0 (12.0)\n",
            "Epoch 039/101 | Loss 16.8249 | Win/lose count 23.5/2.0 (21.5)\n",
            "Epoch 040/101 | Loss 18.0065 | Win/lose count 16.0/2.0 (14.0)\n",
            "Epoch 041/101 | Loss 15.8443 | Win/lose count 12.5/3.0 (9.5)\n",
            "Epoch 042/101 | Loss 18.2246 | Win/lose count 13.0/0 (13.0)\n",
            "Epoch 043/101 | Loss 16.9139 | Win/lose count 10.0/2.0 (8.0)\n",
            "Epoch 044/101 | Loss 18.0174 | Win/lose count 9.5/1.0 (8.5)\n",
            "Epoch 045/101 | Loss 17.4393 | Win/lose count 8.5/1.0 (7.5)\n",
            "Epoch 046/101 | Loss 17.6388 | Win/lose count 17.5/3.0 (14.5)\n",
            "Epoch 047/101 | Loss 18.7160 | Win/lose count 12.5/5.0 (7.5)\n",
            "Epoch 048/101 | Loss 18.4256 | Win/lose count 8.5/1.0 (7.5)\n",
            "Epoch 049/101 | Loss 17.4064 | Win/lose count 7.5/3.0 (4.5)\n",
            "Epoch 050/101 | Loss 16.5796 | Win/lose count 22.0/4.0 (18.0)\n",
            "Epoch 051/101 | Loss 15.9353 | Win/lose count 15.5/6.0 (9.5)\n",
            "Epoch 052/101 | Loss 15.6172 | Win/lose count 22.5/1.0 (21.5)\n",
            "Epoch 053/101 | Loss 16.0241 | Win/lose count 13.0/3.0 (10.0)\n",
            "Epoch 054/101 | Loss 15.0589 | Win/lose count 15.0/6.0 (9.0)\n",
            "Epoch 055/101 | Loss 16.7962 | Win/lose count 14.0/2.0 (12.0)\n",
            "Epoch 056/101 | Loss 16.6209 | Win/lose count 17.5/1.0 (16.5)\n",
            "Epoch 057/101 | Loss 16.5424 | Win/lose count 13.0/5.0 (8.0)\n",
            "Epoch 058/101 | Loss 15.6520 | Win/lose count 7.5/3.0 (4.5)\n",
            "Epoch 059/101 | Loss 16.4992 | Win/lose count 18.0/2.0 (16.0)\n",
            "Epoch 060/101 | Loss 15.7588 | Win/lose count 14.5/4.0 (10.5)\n",
            "Epoch 061/101 | Loss 13.8940 | Win/lose count 12.5/2.0 (10.5)\n",
            "Epoch 062/101 | Loss 13.8513 | Win/lose count 11.5/6.0 (5.5)\n",
            "Epoch 063/101 | Loss 12.8902 | Win/lose count 19.0/1.0 (18.0)\n",
            "Epoch 064/101 | Loss 11.6376 | Win/lose count 5.5/3.0 (2.5)\n",
            "Epoch 065/101 | Loss 13.0365 | Win/lose count 25.5/2.0 (23.5)\n",
            "Epoch 066/101 | Loss 14.0973 | Win/lose count 14.5/4.0 (10.5)\n",
            "Epoch 067/101 | Loss 16.6580 | Win/lose count 16.0/5.0 (11.0)\n",
            "Epoch 068/101 | Loss 17.4011 | Win/lose count 10.5/1.0 (9.5)\n",
            "Epoch 069/101 | Loss 16.1528 | Win/lose count 21.0/0 (21.0)\n",
            "Epoch 070/101 | Loss 16.1398 | Win/lose count 7.5/1.0 (6.5)\n",
            "Epoch 071/101 | Loss 17.1010 | Win/lose count 17.0/3.0 (14.0)\n",
            "Epoch 072/101 | Loss 16.6144 | Win/lose count 21.5/6.0 (15.5)\n",
            "Epoch 073/101 | Loss 17.7148 | Win/lose count 19.5/3.0 (16.5)\n",
            "Epoch 074/101 | Loss 18.7865 | Win/lose count 20.0/3.0 (17.0)\n",
            "Epoch 075/101 | Loss 18.4343 | Win/lose count 17.5/5.0 (12.5)\n",
            "Epoch 076/101 | Loss 18.4295 | Win/lose count 19.5/2.0 (17.5)\n",
            "Epoch 077/101 | Loss 17.7170 | Win/lose count 14.0/4.0 (10.0)\n",
            "Epoch 078/101 | Loss 16.8841 | Win/lose count 15.0/5.0 (10.0)\n",
            "Epoch 079/101 | Loss 15.9861 | Win/lose count 3.5/2.0 (1.5)\n",
            "Epoch 080/101 | Loss 17.5231 | Win/lose count 12.0/2.0 (10.0)\n",
            "Epoch 081/101 | Loss 17.4868 | Win/lose count 18.5/5.0 (13.5)\n",
            "Epoch 082/101 | Loss 17.1675 | Win/lose count 9.0/5.0 (4.0)\n",
            "Epoch 083/101 | Loss 17.6361 | Win/lose count 21.5/2.0 (19.5)\n",
            "Epoch 084/101 | Loss 15.9882 | Win/lose count 4.5/3.0 (1.5)\n",
            "Epoch 085/101 | Loss 13.7663 | Win/lose count 20.0/3.0 (17.0)\n",
            "Epoch 086/101 | Loss 14.0822 | Win/lose count 14.5/3.0 (11.5)\n",
            "Epoch 087/101 | Loss 14.3624 | Win/lose count 9.5/2.0 (7.5)\n",
            "Epoch 088/101 | Loss 13.6050 | Win/lose count 9.5/4.0 (5.5)\n",
            "Epoch 089/101 | Loss 14.2306 | Win/lose count 6.0/2.0 (4.0)\n",
            "Epoch 090/101 | Loss 14.1628 | Win/lose count 20.5/5.0 (15.5)\n",
            "Epoch 091/101 | Loss 15.8836 | Win/lose count 25.0/4.0 (21.0)\n",
            "Epoch 092/101 | Loss 17.2018 | Win/lose count 19.0/3.0 (16.0)\n",
            "Epoch 093/101 | Loss 18.8726 | Win/lose count 13.5/5.0 (8.5)\n",
            "Epoch 094/101 | Loss 19.0609 | Win/lose count 16.5/3.0 (13.5)\n",
            "Epoch 095/101 | Loss 19.1808 | Win/lose count 12.5/5.0 (7.5)\n",
            "Epoch 096/101 | Loss 20.0553 | Win/lose count 14.0/1.0 (13.0)\n",
            "Epoch 097/101 | Loss 20.6192 | Win/lose count 20.0/2.0 (18.0)\n",
            "Epoch 098/101 | Loss 19.5896 | Win/lose count 19.5/6.0 (13.5)\n",
            "Epoch 099/101 | Loss 18.4309 | Win/lose count 10.5/4.0 (6.5)\n",
            "Epoch 100/101 | Loss 16.1463 | Win/lose count 15.5/1.0 (14.5)\n"
          ],
          "name": "stdout"
        },
        {
          "output_type": "execute_result",
          "data": {
            "text/html": [
              "<video alt=\"test\" controls>\n",
              "                <source src=\"data:video/mp4;base64,AAAAIGZ0eXBpc29tAAACAGlzb21pc28yYXZjMW1wNDEAAAAIZnJlZQAAF5BtZGF0AAACrQYF//+p3EXpvebZSLeWLNgg2SPu73gyNjQgLSBjb3JlIDE1MiByMjg1NCBlOWE1OTAzIC0gSC4yNjQvTVBFRy00IEFWQyBjb2RlYyAtIENvcHlsZWZ0IDIwMDMtMjAxNyAtIGh0dHA6Ly93d3cudmlkZW9sYW4ub3JnL3gyNjQuaHRtbCAtIG9wdGlvbnM6IGNhYmFjPTEgcmVmPTMgZGVibG9jaz0xOjA6MCBhbmFseXNlPTB4MToweDExMSBtZT1oZXggc3VibWU9NyBwc3k9MSBwc3lfcmQ9MS4wMDowLjAwIG1peGVkX3JlZj0xIG1lX3JhbmdlPTE2IGNocm9tYV9tZT0xIHRyZWxsaXM9MSA4eDhkY3Q9MCBjcW09MCBkZWFkem9uZT0yMSwxMSBmYXN0X3Bza2lwPTEgY2hyb21hX3FwX29mZnNldD00IHRocmVhZHM9MyBsb29rYWhlYWRfdGhyZWFkcz0xIHNsaWNlZF90aHJlYWRzPTAgbnI9MCBkZWNpbWF0ZT0xIGludGVybGFjZWQ9MCBibHVyYXlfY29tcGF0PTAgY29uc3RyYWluZWRfaW50cmE9MCBiZnJhbWVzPTMgYl9weXJhbWlkPTIgYl9hZGFwdD0xIGJfYmlhcz0wIGRpcmVjdD0xIHdlaWdodGI9MSBvcGVuX2dvcD0wIHdlaWdodHA9MiBrZXlpbnQ9MjUwIGtleWludF9taW49MjUgc2NlbmVjdXQ9NDAgaW50cmFfcmVmcmVzaD0wIHJjX2xvb2thaGVhZD00MCByYz1jcmYgbWJ0cmVlPTEgY3JmPTIzLjAgcWNvbXA9MC42MCBxcG1pbj0wIHFwbWF4PTY5IHFwc3RlcD00IGlwX3JhdGlvPTEuNDAgYXE9MToxLjAwAIAAAALNZYiEADP//vaG+BTYUyP+T7/8I/+5H7cfWfrixkIJvrVeQ9GAMl8a/5lGYaXpyc8t7R+vTNAEZz6HlLJIofgUkwDfMsjnE+J8s6FP3lFrFWUnaqCtNczDmf8G6bB4fcxqPvruni9p0kkKXtH4yUENiqwKDjiUkETDFPPWxxjkVrgxNS/3UDGNVY1KhpXxvw0AyW0KwL2qyTZK4LmdHSmCR6fm8L0gulUY/iPej1i4iiqQIIFY1RnVg7qKPG8c+E6dfx675mpl8+nhuUiaXvfgACLcLPlteEFfFuwhSS1EntNmYgn5FJSWMxD+wmT4NYqp50zQ4A8yFgF20HWg6hC4TlKLHRxC3kkliJDImNhh0h2C/H5p5BUaYyc+6OZavJ55Xv+yL2Bw+u6XScSZmZv2mznJvChdLNWnPjxRvLE8/NO9kZkcMO5+ja/od2xbmDpBKzl01k+CE+gbapHbeBieArNj90DQCkMmmVQUAC8M1eIOxPIt2q8RllNcbVmscEtNbAqYL+0ZexAwAEvnyNhraHLyQuNTkS5IPka4ldgDUP/IJ/0IRDtoagNq9Rk8Ax1snU7WZJQKNLUw3fynBFUo74XAnehmssSBuJzHnMtaE1ni0otb1OOFE1XWJLUG3/8hEHtXhX2bK5oMU1GKIKgp5T1TiXN3xqZJYYpYkEnmMamZikgHFgRCfBFkc2AlLpE+Yh4qTKCLRNRwA56n70GlVIvcwF1JcRc0+11X245EHac5V6roOZEwPA5sU4cak4XYAS+sgOYvli/jQcwsuGDQgU3C5wicc6zKbdFyyUPf/ICRP0Zk6bQAOxSt6AgEpWOH1Y/lMxSuZK87+UIO/cQWHQvHsHIE58SWqFevUjMQTAC3/SwBUSYJCmkQLfVhfoWfFwXYJguY9sHGsOfBVGZtBQJqDYYDXflnhORruL03CU3j3BITxzVYYkuAAEFBAAAAFUGaIWxDP/6eEABDXSOfw58QFM/XXwAAABdBmkI8IZMphDf//qeEABr6RP9SkArZwQAAAB9BmmRJ4Q8mUwU8M//+nhAAnte64jn9ERi3xAUz8RDmAAAAEAGeg2pCvwAgu0Qm4z69QFkAAAAYQZqFSeEPJlMCG//+p4QAPgcZ/qUgFV5hAAAAGUGapknhDyZTAhv//qeEAGHpE/1I6NIakkEAAAAfQZrISeEPJlMFETw3//6nhADmnHIeq31UCE/uXRb0GwAAABABnudqQr8Avtjxyv7cPpJAAAAAGEGa6UnhDyZTAhv//qeEAXIYY1PCNR98wAAAABFBmw1J4Q8mUwIb//6nhAABJwAAAAxBnytFETwv/wAAsoAAAAAQAZ9KdEK/AcaxWMKkchDYMAAAABABn0xqQr8BxjUOhNjkxOqhAAAAGkGbUEmoQWiZTAhn//6eEAXHM48BkFP9tGP9AAAAEkGfbkURLCv/AcZ+B0UtJYMkXQAAAA8Bn49qQr8BxgiZqaBxIuAAAAAZQZuRSahBbJlMCGf//p4QBfyHHuFagX2PmAAAABhBm7JJ4QpSZTAhv/6nhAGditIIRP8bcaEAAAAYQZvTSeEOiZTAhv/+p4QBrgrSCET/FjGNAAAAHUGb9UnhDyZTBRE8O//+qZYA7gWEimjH2Ar0mPJmAAAAEAGeFGpCvwFasI8lzPkk1oEAAAAmQZoZSeEPJlMCG//+p4QCC+SK5zLK57x+BSpbPwKZ2Bz1yHhKyTgAAAAQQZ43RRE8L/8BBqEO4+dxwQAAAA8BnlZ0Qr8BbMsGDZjiSZkAAAAPAZ5YakK/AWzlA8mCLLaAAAAAEkGaW0moQWiZTBTw3/6nhAABJwAAABABnnpqQr8BbFIRigVhGy2gAAAAEkGafUnhClJlMFLDf/6nhAABJwAAABABnpxqQr8BbFIRigVhGy2hAAAAEkGan0nhDomUwUTDf/6nhAABJwAAABABnr5qQr8BbFIRigVhGy2gAAAAEkGaoUnhDyZTBTw3//6nhAABJwAAABABnsBqQr8BbFIRigVhGy2gAAAAEkGaw0nhDyZTBTw3//6nhAABJwAAABABnuJqQr8BbFIRigVhGy2gAAAAEkGa5UnhDyZTBTw3//6nhAABJwAAABABnwRqQr8BbFIRigVhGy2hAAAAG0GbBknhDyZTAh3//qmWAQVSN4vAgeODqlzZgQAAABJBmypJ4Q8mUwId//6plgAAlYEAAAAMQZ9IRRE8L/8AALKAAAAADwGfZ3RCvwFfso4jsuypBwAAAA8Bn2lqQr8BX7KN1nqz0ccAAAATQZtuSahBaJlMCHf//qmWAACVgAAAAAxBn4xFESwv/wAAsoAAAAAPAZ+rdEK/AV+yjiOy7KkHAAAADwGfrWpCvwFfso3WerPRxwAAABJBm7JJqEFsmUwIb//+p4QAAScAAAAMQZ/QRRUsL/8AALKAAAAADwGf73RCvwFfso4jsuypBwAAAA8Bn/FqQr8BbOFBr7u2jekAAAAaQZv1SahBbJlMCG///qeEAgUvaQQif4jYsoAAAAAPQZ4TRRUsK/8BbGtw1ltAAAAADQGeNGpCvwFs5SLestsAAAATQZo3SahBbJlMFEw3//6nhAABJwAAABABnlZqQr8BbFIRigVhGy2hAAAAEkGaWUnhClJlMFLDf/6nhAABJwAAABABnnhqQr8BbFIRigVhGy2gAAAAEkGae0nhDomUwUTDf/6nhAABJwAAABABnppqQr8BbFIRigVhGy2gAAAAEkGanUnhDyZTBTw3//6nhAABJwAAABABnrxqQr8BbFIRigVhGy2hAAAAEkGav0nhDyZTBTw3//6nhAABJwAAABABnt5qQr8BbFIRigVhGy2gAAAAEkGawUnhDyZTBTw3//6nhAABJwAAABABnuBqQr8BbFIRigVhGy2gAAAAEkGa40nhDyZTBTw3//6nhAABJwAAABABnwJqQr8BbFIRigVhGy2gAAAAEkGbBUnhDyZTBTw3//6nhAABJwAAABABnyRqQr8BbFIRigVhGy2hAAAAEkGbJ0nhDyZTBTw3//6nhAABJwAAABABn0ZqQr8BbFIRigVhGy2hAAAAEkGbSUnhDyZTBTw3//6nhAABJwAAABABn2hqQr8BbFIRigVhGy2gAAAAEkGba0nhDyZTBTw3//6nhAABJwAAABABn4pqQr8BbFIRigVhGy2gAAAAEkGbjUnhDyZTBTwz//6eEAAEfAAAABABn6xqQr8BbFIRigVhGy2hAAAAEkGbr0nhDyZTBTwz//6eEAAEfQAAABABn85qQr8BbFIRigVhGy2hAAAAGkGb0EnhDyZTAhn//p4QB65qcHL2npwmr5iwAAAAGEGb8UnhDyZTAhn//p4QB2+vv4mnH1dh/gAAABhBmhJJ4Q8mUwIZ//6eEAQ34h/bIY+sIZUAAAAYQZozSeEPJlMCGf/+nhACxe6bGXJsq20EAAAAGUGaVEnhDyZTAhv//qeEALF7qfqONCQ4S8AAAAAYQZp1SeEPJlMCG//+p4QAcb2D17M+CK8vAAAAG0GamEnhDyZTAhn//p4QAbH393ac3cNnbBvuggAAABBBnrZFETwr/wBa2twwBCdhAAAAEAGe12pCvwBXrKO9nj7duIEAAAAcQZrZSahBaJlMCG///qeEAKd6J/qt9VA4f4hQQAAAABhBmvpJ4QpSZTAhv/6nhAD8nGf6lIBUvSEAAAAZQZsdSeEOiZTAhn/+nhAD9+vv02vc1SyfegAAABFBnztFETwr/wDXs3Nce96hAwAAAA4Bn1xqQr8A15IZ6IrbAwAAABpBm15JqEFomUwIb//+p4QAqHup+o40JDhQQAAAABhBm2FJ4QpSZTAhn/6eEAGn9ffyJEfWEf4AAAAPQZ+fRTRMK/8AWJtwJOnBAAAADQGfoGpCvwBYuVh4p04AAAAZQZuiSahBaJlMCGf//p4QAQ74h/bIY+sJlQAAABlBm8NJ4QpSZTAhv/6nhAAtnup+o40JDknAAAAAGEGb5EnhDomUwIb//qeEAB0fYPXsz4IspwAAABlBmgVJ4Q8mUwId//6plgAOT8KMqszbMDxhAAAAHUGaKEnhDyZTAh3//qmWAA33xCAf3hagn8kYfPLNAAAAEkGeRkURPCv/ABa2wBAKYBzDwQAAABABnmdqQr8AFisiE3GfXqM4AAAAH0GabEmoQWiZTAh3//6plgAVLSzlBl2wiqMgSYx/BIsAAAAQQZ6KRREsL/8AGSD0NIPnsQAAABABnql0Qr8AIcIA52xxpqqgAAAADwGeq2pCvwAhrzRNSU5ugAAAABNBmrBJqEFsmUwId//+qZYAAJWBAAAADEGezkUVLC//AACygQAAABABnu10Qr8AIEqR34APt7jBAAAADwGe72pCvwAhrzRBajy8TgAAABNBmvRJqEFsmUwId//+qZYAAJWAAAAADEGfEkUVLC//AACygQAAAA8BnzF0Qr8AIbuO6O2+FlsAAAAPAZ8zakK/ACGvNEFqPLxOAAAAE0GbOEmoQWyZTAh3//6plgAAlYEAAAAMQZ9WRRUsL/8AALKAAAAADwGfdXRCvwAhu47o7b4WWwAAAA8Bn3dqQr8AIa80QWo8vE8AAAAaQZt7SahBbJlMCHf//qmWAB80yEm4cFHzVtAAAAASQZ+ZRRUsK/8AM47cLsN9LzvNAAAADwGfumpCvwAzjtwnBA5G4AAAABhBm79JqEFsmUwId//+qZYAID9Lozf5JE8AAAAOQZ/dRRUsL/8AJrQAemEAAAAQAZ/8dEK/ADTPJujtvhXegAAAAA8Bn/5qQr8ANMCxolc8u4EAAAAeQZvjSahBbJlMCG///qeEAEG+HPmWWJkd92tLi31tAAAAEEGeAUUVLC//ACfUGzzxeCAAAAAPAZ4gdEK/ADTPJvPOLcCBAAAAEAGeImpCvwA2DqnkuZ8lK4AAAAAaQZokSahBbJlMCHf//qmWACE/HnSzo6nki8EAAAASQZpISeEKUmUwId/+qZYAAJWBAAAADEGeZkU0TC//AACygQAAABABnoV0Qr8ANDqJz3CRVhuBAAAAEAGeh2pCvwA0OonIGRtF/IAAAAATQZqMSahBaJlMCHf//qmWAACVgAAAAAxBnqpFESwv/wAAsoEAAAAQAZ7JdEK/ADQ6ic9wkVYbgAAAABABnstqQr8ANDqJyBkbRfyAAAAAHEGa0EmoQWyZTAhv//6nhABh3VsxP9Xb40/kP10AAAAQQZ7uRRUsL/8AOgnUb2CP+QAAABgBnw10Qr8ANYP+r4SlT//iEByT/5ZVrs0AAAAQAZ8PakK/AE+siE3GfXpySAAAAB9BmxJJqEFsmUwUTDv//qmWAE4KOiBZoA9JefbeTQbAAAAAEAGfMWpCvwB8WeEPGhrGnYEAAAAWQZs2SeEKUmUwId/+qZYAd/2l/VtDwAAAAA5Bn1RFNEwv/wCO0AFtoAAAABABn3N0Qr8Aw9lXdX47v4HBAAAADwGfdWpCvwB7FDdhnqz1QQAAABpBm3lJqEFomUwIb//+p4QAm3x0+o40JDhWwQAAABJBn5dFESwr/wDDw0u7wKagbcEAAAAOAZ+4akK/AMOS4zvwq24AAAASQZu9SahBbJlMCG///qeEAAEnAAAAE0Gf20UVLC//ADtxLZqZllyGhjIAAAAPAZ/6dEK/AFHTlCk2yVVJAAAAEAGf/GpCvwBR7HluGzam8IEAAAAaQZv+SahBbJlMCG///qeEAJqgCzbbPs+aScAAAAARQZoCSeEKUmUwIb/+p4QAAScAAAAMQZ4gRTRML/8AALKBAAAAEAGeX3RCvwDD2Vd1fju/gcAAAAAPAZ5BakK/AH75w0SueXU3AAAAGkGaQ0moQWiZTAhv//6nhACbfHT6jjQkOFbAAAAAEUGaZ0nhClJlMCG//qeEAAEnAAAAE0GehUU0TC//ADtxLZqZllyGhjMAAAAPAZ6kdEK/AFHTlCk2yVVJAAAAEAGepmpCvwBR7HluGzam8IEAAAAaQZqoSahBaJlMCHf//qmWAE4RYboxCOfX/zAAAAAXQZrLSeEKUmUwIb/+p4QAm3x0+pPBpJwAAAASQZ7pRTRMK/8Aw8NLu8CmoG3BAAAADgGfCmpCvwDDkuM78KtuAAAAEkGbD0moQWiZTAhv//6nhAABJwAAABNBny1FESwv/wA7cS2amZZchoYzAAAADwGfTHRCvwBR05QpNslVSQAAABABn05qQr8AUex5bhs2pvCBAAAAGkGbUEmoQWyZTAh3//6plgBOEWG6MQjn1/8wAAAAF0Gbc0nhClJlMCG//qeEAJt8dPqTwaScAAAAEkGfkUU0TCv/AMPDS7vApqBtwQAAAA4Bn7JqQr8Aw5LjO/CrbgAAABxBm7dJqEFomUwIb//+p4QAZP2D/OU68KNbmPE4AAAAEEGf1UURLC//ADtfw9dYdMEAAAAPAZ/0dEK/AFHTlCk2yVVJAAAADwGf9mpCvwA0wLGwOU4bgQAAABpBm/lJqEFsmUwUTDf//qeEAGRwMu7fYP1wswAAABABnhhqQr8AUex5bhs2pvCAAAAAGUGaGknhClJlMCG//qeEAJqgCzbbPs+aScEAAAAXQZo9SeEOiZTAhv/+p4QAm3x0+pPBpJwAAAASQZ5bRRE8K/8Aw8NLu8CmoG3BAAAADgGefGpCvwDDkuM78KtvAAAAEkGaYUmoQWiZTAhv//6nhAABJwAAABNBnp9FESwv/wA7cS2amZZchoYyAAAADwGevnRCvwBR05QpNslVSQAAABABnqBqQr8AUex5bhs2pvCAAAAAGkGaokmoQWyZTAhv//6nhACaoAs22z7PmknBAAAAF0GaxUnhClJlMCGf/p4QAl3xD+2moxbQAAAAEkGe40U0TCv/AMPDS7vApqBtwQAAAA4BnwRqQr8Aw5LjO/CrbwAAABpBmwlLqEIQWiRGCCgH8gH9h4AhX/44QAARcQAAAClBnydFESwv/wIB3OpL2zMKuYDoGrWoXAlAKvVtJ8P8WUsqosaksE8lTQAAAA8Bn0Z0Qr8AUdOUKTbJVUkAAAAkAZ9IakK/Aq9j7UHE3arDSSblqoYHLLW84VPylCfjBYVJZLQwAAALuG1vb3YAAABsbXZoZAAAAAAAAAAAAAAAAAAAA+gAAB+QAAEAAAEAAAAAAAAAAAAAAAABAAAAAAAAAAAAAAAAAAAAAQAAAAAAAAAAAAAAAAAAQAAAAAAAAAAAAAAAAAAAAAAAAAAAAAAAAAAAAAAAAAIAAAridHJhawAAAFx0a2hkAAAAAwAAAAAAAAAAAAAAAQAAAAAAAB+QAAAAAAAAAAAAAAAAAAAAAAABAAAAAAAAAAAAAAAAAAAAAQAAAAAAAAAAAAAAAAAAQAAAAAEQAAABEAAAAAAAJGVkdHMAAAAcZWxzdAAAAAAAAAABAAAfkAAABAAAAQAAAAAKWm1kaWEAAAAgbWRoZAAAAAAAAAAAAAAAAAAAMgAAAZQAVcQAAAAAAC1oZGxyAAAAAAAAAAB2aWRlAAAAAAAAAAAAAAAAVmlkZW9IYW5kbGVyAAAACgVtaW5mAAAAFHZtaGQAAAABAAAAAAAAAAAAAAAkZGluZgAAABxkcmVmAAAAAAAAAAEAAAAMdXJsIAAAAAEAAAnFc3RibAAAAJVzdHNkAAAAAAAAAAEAAACFYXZjMQAAAAAAAAABAAAAAAAAAAAAAAAAAAAAAAEQARAASAAAAEgAAAAAAAAAAQAAAAAAAAAAAAAAAAAAAAAAAAAAAAAAAAAAAAAAAAAAABj//wAAAC9hdmNDAfQADf/hABdn9AANkZsoIhHQgAAAAwCAAAAZB4oUywEABWjr48RIAAAAGHN0dHMAAAAAAAAAAQAAAMoAAAIAAAAAFHN0c3MAAAAAAAAAAQAAAAEAAAWQY3R0cwAAAAAAAACwAAAAAwAABAAAAAABAAAGAAAAAAEAAAIAAAAAAgAABAAAAAABAAAGAAAAAAEAAAIAAAAAAQAABAAAAAABAAAKAAAAAAEAAAQAAAAAAQAAAAAAAAABAAACAAAAAAEAAAgAAAAAAgAAAgAAAAADAAAEAAAAAAEAAAYAAAAAAQAAAgAAAAABAAAKAAAAAAEAAAQAAAAAAQAAAAAAAAABAAACAAAAAAEAAAYAAAAAAQAAAgAAAAABAAAGAAAAAAEAAAIAAAAAAQAABgAAAAABAAACAAAAAAEAAAYAAAAAAQAAAgAAAAABAAAGAAAAAAEAAAIAAAAAAQAABgAAAAABAAACAAAAAAEAAAQAAAAAAQAACgAAAAABAAAEAAAAAAEAAAAAAAAAAQAAAgAAAAABAAAKAAAAAAEAAAQAAAAAAQAAAAAAAAABAAACAAAAAAEAAAoAAAAAAQAABAAAAAABAAAAAAAAAAEAAAIAAAAAAQAACAAAAAACAAACAAAAAAEAAAYAAAAAAQAAAgAAAAABAAAGAAAAAAEAAAIAAAAAAQAABgAAAAABAAACAAAAAAEAAAYAAAAAAQAAAgAAAAABAAAGAAAAAAEAAAIAAAAAAQAABgAAAAABAAACAAAAAAEAAAYAAAAAAQAAAgAAAAABAAAGAAAAAAEAAAIAAAAAAQAABgAAAAABAAACAAAAAAEAAAYAAAAAAQAAAgAAAAABAAAGAAAAAAEAAAIAAAAAAQAABgAAAAABAAACAAAAAAEAAAYAAAAAAQAAAgAAAAAGAAAEAAAAAAEAAAgAAAAAAgAAAgAAAAACAAAEAAAAAAEAAAgAAAAAAgAAAgAAAAABAAAEAAAAAAEAAAgAAAAAAgAAAgAAAAAEAAAEAAAAAAEAAAgAAAAAAgAAAgAAAAABAAAKAAAAAAEAAAQAAAAAAQAAAAAAAAABAAACAAAAAAEAAAoAAAAAAQAABAAAAAABAAAAAAAAAAEAAAIAAAAAAQAACgAAAAABAAAEAAAAAAEAAAAAAAAAAQAAAgAAAAABAAAKAAAAAAEAAAQAAAAAAQAAAAAAAAABAAACAAAAAAEAAAgAAAAAAgAAAgAAAAABAAAKAAAAAAEAAAQAAAAAAQAAAAAAAAABAAACAAAAAAEAAAoAAAAAAQAABAAAAAABAAAAAAAAAAEAAAIAAAAAAQAABAAAAAABAAAKAAAAAAEAAAQAAAAAAQAAAAAAAAABAAACAAAAAAEAAAoAAAAAAQAABAAAAAABAAAAAAAAAAEAAAIAAAAAAQAACgAAAAABAAAEAAAAAAEAAAAAAAAAAQAAAgAAAAABAAAGAAAAAAEAAAIAAAAAAQAACgAAAAABAAAEAAAAAAEAAAAAAAAAAQAAAgAAAAABAAAIAAAAAAIAAAIAAAAAAQAACgAAAAABAAAEAAAAAAEAAAAAAAAAAQAAAgAAAAABAAAEAAAAAAEAAAoAAAAAAQAABAAAAAABAAAAAAAAAAEAAAIAAAAAAQAABAAAAAABAAAKAAAAAAEAAAQAAAAAAQAAAAAAAAABAAACAAAAAAEAAAQAAAAAAQAACAAAAAACAAACAAAAAAEAAAoAAAAAAQAABAAAAAABAAAAAAAAAAEAAAIAAAAAAQAABAAAAAABAAAIAAAAAAIAAAIAAAAAAQAACgAAAAABAAAEAAAAAAEAAAAAAAAAAQAAAgAAAAABAAAGAAAAAAEAAAIAAAAAAQAABAAAAAABAAAIAAAAAAIAAAIAAAAAAQAACgAAAAABAAAEAAAAAAEAAAAAAAAAAQAAAgAAAAABAAAEAAAAAAEAAAgAAAAAAgAAAgAAAAABAAAKAAAAAAEAAAQAAAAAAQAAAAAAAAABAAACAAAAABxzdHNjAAAAAAAAAAEAAAABAAAAygAAAAEAAAM8c3RzegAAAAAAAAAAAAAAygAABYIAAAAZAAAAGwAAACMAAAAUAAAAHAAAAB0AAAAjAAAAFAAAABwAAAAVAAAAEAAAABQAAAAUAAAAHgAAABYAAAATAAAAHQAAABwAAAAcAAAAIQAAABQAAAAqAAAAFAAAABMAAAATAAAAFgAAABQAAAAWAAAAFAAAABYAAAAUAAAAFgAAABQAAAAWAAAAFAAAABYAAAAUAAAAHwAAABYAAAAQAAAAEwAAABMAAAAXAAAAEAAAABMAAAATAAAAFgAAABAAAAATAAAAEwAAAB4AAAATAAAAEQAAABcAAAAUAAAAFgAAABQAAAAWAAAAFAAAABYAAAAUAAAAFgAAABQAAAAWAAAAFAAAABYAAAAUAAAAFgAAABQAAAAWAAAAFAAAABYAAAAUAAAAFgAAABQAAAAWAAAAFAAAABYAAAAUAAAAHgAAABwAAAAcAAAAHAAAAB0AAAAcAAAAHwAAABQAAAAUAAAAIAAAABwAAAAdAAAAFQAAABIAAAAeAAAAHAAAABMAAAARAAAAHQAAAB0AAAAcAAAAHQAAACEAAAAWAAAAFAAAACMAAAAUAAAAFAAAABMAAAAXAAAAEAAAABQAAAATAAAAFwAAABAAAAATAAAAEwAAABcAAAAQAAAAEwAAABMAAAAeAAAAFgAAABMAAAAcAAAAEgAAABQAAAATAAAAIgAAABQAAAATAAAAFAAAAB4AAAAWAAAAEAAAABQAAAAUAAAAFwAAABAAAAAUAAAAFAAAACAAAAAUAAAAHAAAABQAAAAjAAAAFAAAABoAAAASAAAAFAAAABMAAAAeAAAAFgAAABIAAAAWAAAAFwAAABMAAAAUAAAAHgAAABUAAAAQAAAAFAAAABMAAAAeAAAAFQAAABcAAAATAAAAFAAAAB4AAAAbAAAAFgAAABIAAAAWAAAAFwAAABMAAAAUAAAAHgAAABsAAAAWAAAAEgAAACAAAAAUAAAAEwAAABMAAAAeAAAAFAAAAB0AAAAbAAAAFgAAABIAAAAWAAAAFwAAABMAAAAUAAAAHgAAABsAAAAWAAAAEgAAAB4AAAAtAAAAEwAAACgAAAAUc3RjbwAAAAAAAAABAAAAMAAAAGJ1ZHRhAAAAWm1ldGEAAAAAAAAAIWhkbHIAAAAAAAAAAG1kaXJhcHBsAAAAAAAAAAAAAAAALWlsc3QAAAAlqXRvbwAAAB1kYXRhAAAAAQAAAABMYXZmNTcuODMuMTAw\" type=\"video/mp4\" />\n",
              "             </video>"
            ],
            "text/plain": [
              "<IPython.core.display.HTML object>"
            ]
          },
          "metadata": {
            "tags": []
          },
          "execution_count": 23
        }
      ]
    },
    {
      "cell_type": "markdown",
      "metadata": {
        "id": "BJMqWmrP5h33",
        "colab_type": "text"
      },
      "source": [
        "***\n",
        "***\n",
        "__Question 9__ Test both algorithms and compare their performances. Which issue(s) do you observe? Observe also different behaviors by changing the temperature."
      ]
    },
    {
      "cell_type": "code",
      "metadata": {
        "id": "AXuhZqP35h33",
        "colab_type": "code",
        "colab": {
          "base_uri": "https://localhost:8080/",
          "height": 1000
        },
        "outputId": "8e1575ac-5f4a-49e7-e64a-a7a436ffdd0c"
      },
      "source": [
        "env = Environment(grid_size=size, max_time=T,temperature=0.5)\n",
        "agent_cnn = DQN_CNN(size, lr=.1, epsilon = 0.1, memory_size=2000, batch_size = 32)\n",
        "agent_cnn.load(name_weights='cnn_trainmodel.h5',name_model='cnn_trainmodel.json')\n",
        "\n",
        "agent_fc = DQN_FC(size, lr=.1, epsilon = 0.1, memory_size=2000, batch_size = 32)\n",
        "agent_cnn.load(name_weights='fc_trainmodel.h5',name_model='fc_trainmodel.json')\n",
        "print('Test of the CNN')\n",
        "test(agent_cnn,env,epochs_test,prefix='cnn_test')\n",
        "print('Test of the FC')\n",
        "test(agent_fc,env,epochs_test,prefix='fc_test')"
      ],
      "execution_count": 24,
      "outputs": [
        {
          "output_type": "stream",
          "text": [
            "Model: \"sequential_7\"\n",
            "_________________________________________________________________\n",
            "Layer (type)                 Output Shape              Param #   \n",
            "=================================================================\n",
            "conv2d_9 (Conv2D)            (None, 5, 5, 6)           54        \n",
            "_________________________________________________________________\n",
            "conv2d_10 (Conv2D)           (None, 5, 5, 12)          300       \n",
            "_________________________________________________________________\n",
            "reshape_5 (Reshape)          (None, 300)               0         \n",
            "_________________________________________________________________\n",
            "dense_21 (Dense)             (None, 4)                 1204      \n",
            "=================================================================\n",
            "Total params: 1,558\n",
            "Trainable params: 1,558\n",
            "Non-trainable params: 0\n",
            "_________________________________________________________________\n",
            "Model: \"sequential_8\"\n",
            "_________________________________________________________________\n",
            "Layer (type)                 Output Shape              Param #   \n",
            "=================================================================\n",
            "Reshape (Reshape)            (None, 50)                0         \n",
            "_________________________________________________________________\n",
            "dense_22 (Dense)             (None, 64)                3264      \n",
            "_________________________________________________________________\n",
            "dense_23 (Dense)             (None, 64)                4160      \n",
            "_________________________________________________________________\n",
            "dense_24 (Dense)             (None, 32)                2080      \n",
            "_________________________________________________________________\n",
            "dense_25 (Dense)             (None, 32)                1056      \n",
            "_________________________________________________________________\n",
            "dense_26 (Dense)             (None, 16)                528       \n",
            "_________________________________________________________________\n",
            "dense_27 (Dense)             (None, 8)                 136       \n",
            "_________________________________________________________________\n",
            "dense_28 (Dense)             (None, 8)                 72        \n",
            "_________________________________________________________________\n",
            "dense_29 (Dense)             (None, 4)                 36        \n",
            "=================================================================\n",
            "Total params: 11,332\n",
            "Trainable params: 11,332\n",
            "Non-trainable params: 0\n",
            "_________________________________________________________________\n",
            "Test of the CNN\n",
            "Win/lose count 2.5/2.0. Average score (0.5)\n",
            "Win/lose count 3.0/4.0. Average score (-0.25)\n",
            "Win/lose count 4.0/5.0. Average score (-0.5)\n",
            "Win/lose count 4.5/0. Average score (0.75)\n",
            "Win/lose count 2.0/7.0. Average score (-0.4)\n",
            "Win/lose count 2.0/3.0. Average score (-0.5)\n",
            "Win/lose count 2.0/2.0. Average score (-0.42857142857142855)\n",
            "Win/lose count 2.0/1.0. Average score (-0.25)\n",
            "Win/lose count 5.0/6.0. Average score (-0.3333333333333333)\n",
            "Win/lose count 1.5/8.0. Average score (-0.95)\n",
            "Win/lose count 4.0/2.0. Average score (-0.6818181818181818)\n",
            "Win/lose count 4.0/4.0. Average score (-0.625)\n",
            "Win/lose count 3.0/2.0. Average score (-0.5)\n",
            "Win/lose count 3.0/0. Average score (-0.25)\n",
            "Win/lose count 4.5/3.0. Average score (-0.13333333333333333)\n",
            "Win/lose count 3.5/2.0. Average score (-0.03125)\n",
            "Win/lose count 6.0/6.0. Average score (-0.029411764705882353)\n",
            "Win/lose count 4.5/5.0. Average score (-0.05555555555555555)\n",
            "Win/lose count 2.0/0. Average score (0.05263157894736842)\n",
            "Win/lose count 3.5/3.0. Average score (0.075)\n",
            "Win/lose count 2.5/7.0. Average score (-0.14285714285714285)\n",
            "Final score: -0.14285714285714285\n",
            "Test of the FC\n",
            "Win/lose count 6.0/3.0. Average score (3.0)\n",
            "Win/lose count 6.0/6.0. Average score (1.5)\n",
            "Win/lose count 2.0/1.0. Average score (1.3333333333333333)\n",
            "Win/lose count 3.5/1.0. Average score (1.625)\n",
            "Win/lose count 2.0/7.0. Average score (0.3)\n",
            "Win/lose count 3.5/6.0. Average score (-0.16666666666666666)\n",
            "Win/lose count 6.5/4.0. Average score (0.21428571428571427)\n",
            "Win/lose count 5.5/5.0. Average score (0.25)\n",
            "Win/lose count 6.5/9.0. Average score (-0.05555555555555555)\n",
            "Win/lose count 3.5/3.0. Average score (0.0)\n",
            "Win/lose count 7.5/8.0. Average score (-0.045454545454545456)\n",
            "Win/lose count 5.5/4.0. Average score (0.08333333333333333)\n",
            "Win/lose count 6.5/5.0. Average score (0.19230769230769232)\n",
            "Win/lose count 4.5/7.0. Average score (0.0)\n",
            "Win/lose count 7.0/5.0. Average score (0.13333333333333333)\n",
            "Win/lose count 3.0/2.0. Average score (0.1875)\n",
            "Win/lose count 3.5/6.0. Average score (0.029411764705882353)\n",
            "Win/lose count 9.5/4.0. Average score (0.3333333333333333)\n",
            "Win/lose count 10.5/3.0. Average score (0.7105263157894737)\n",
            "Win/lose count 5.5/6.0. Average score (0.65)\n",
            "Win/lose count 5.0/5.0. Average score (0.6190476190476191)\n",
            "Final score: 0.6190476190476191\n"
          ],
          "name": "stdout"
        }
      ]
    },
    {
      "cell_type": "code",
      "metadata": {
        "id": "k3c_5apc5h34",
        "colab_type": "code",
        "colab": {
          "base_uri": "https://localhost:8080/",
          "height": 171
        },
        "outputId": "e0c120be-fea5-4937-f594-2b9c2cad3910"
      },
      "source": [
        "HTML(display_videos('cnn_test10.mp4'))"
      ],
      "execution_count": 25,
      "outputs": [
        {
          "output_type": "execute_result",
          "data": {
            "text/html": [
              "<video alt=\"test\" controls>\n",
              "                <source src=\"data:video/mp4;base64,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\" type=\"video/mp4\" />\n",
              "             </video>"
            ],
            "text/plain": [
              "<IPython.core.display.HTML object>"
            ]
          },
          "metadata": {
            "tags": []
          },
          "execution_count": 25
        }
      ]
    },
    {
      "cell_type": "code",
      "metadata": {
        "id": "ZV4f7ZVR5h35",
        "colab_type": "code",
        "colab": {
          "base_uri": "https://localhost:8080/",
          "height": 171
        },
        "outputId": "74f9b6a8-e30f-4cfa-c599-328b80700477"
      },
      "source": [
        "HTML(display_videos('fc_test10.mp4'))"
      ],
      "execution_count": 26,
      "outputs": [
        {
          "output_type": "execute_result",
          "data": {
            "text/html": [
              "<video alt=\"test\" controls>\n",
              "                <source src=\"data:video/mp4;base64,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\" type=\"video/mp4\" />\n",
              "             </video>"
            ],
            "text/plain": [
              "<IPython.core.display.HTML object>"
            ]
          },
          "metadata": {
            "tags": []
          },
          "execution_count": 26
        }
      ]
    },
    {
      "cell_type": "markdown",
      "metadata": {
        "id": "ma6472ha5h36",
        "colab_type": "text"
      },
      "source": [
        "The algorithms tend to stay on a location and does not move too much, especially if there's no cheese in a +2 cells range distance. This behaviour is emplified with low temperature as there's less cheese"
      ]
    },
    {
      "cell_type": "markdown",
      "metadata": {
        "id": "O8EMXEjc5h36",
        "colab_type": "text"
      },
      "source": [
        "***\n",
        "\n",
        "The algorithm tends to not explore the map which can be an issue. We propose two ideas in order to encourage exploration:\n",
        "1. Incorporating a decreasing $\\epsilon$-greedy exploration. You can use the method ```set_epsilon```\n",
        "2. Append via the environment a new state that describes if a cell has been visited or not\n",
        "\n",
        "***\n",
        "__Question 10__ Design a new ```train_explore``` function and environment class ```EnvironmentExploring``` to tackle the issue of exploration.\n",
        "\n"
      ]
    },
    {
      "cell_type": "code",
      "metadata": {
        "id": "_SBObjrb5h36",
        "colab_type": "code",
        "colab": {}
      },
      "source": [
        "def train_explore(agent,env,epoch,prefix='', eps_decrease = 0.99):\n",
        "    # Number of won games\n",
        "    score = 0\n",
        "    loss = 0\n",
        "\n",
        "    for e in range(epoch):\n",
        "        # At each epoch, we restart to a fresh game and get the initial state\n",
        "        state = env.reset()\n",
        "        #decrease the epsilon value of the agent\n",
        "        agent.set_epsilon(agent.epsilon * eps_decrease)\n",
        "        # This assumes that the games will terminate\n",
        "        game_over = False\n",
        "\n",
        "        win = 0\n",
        "        lose = 0\n",
        "\n",
        "        while not game_over:\n",
        "            # The agent performs an action\n",
        "            action = agent.act(state)\n",
        "\n",
        "            # Apply an action to the environment, get the next state, the reward\n",
        "            # and if the games end\n",
        "            prev_state = state\n",
        "            state, reward, game_over = env.act(action)\n",
        "\n",
        "            # Update the counters\n",
        "            if reward > 0:\n",
        "                win = win + reward\n",
        "            if reward < 0:\n",
        "                lose = lose -reward\n",
        "\n",
        "            # Apply the reinforcement strategy\n",
        "            loss = agent.reinforce(prev_state, state,  action, reward, game_over)\n",
        "\n",
        "        # Save as a mp4\n",
        "        if e % 10 == 0:\n",
        "            env.draw(prefix+str(e))\n",
        "\n",
        "        # Update stats\n",
        "        score += win-lose\n",
        "\n",
        "        print(\"Epoch {:03d}/{:03d} | Loss {:.4f} | Win/lose count {}/{} ({})\"\n",
        "              .format(e, epoch, loss, win, lose, win-lose))\n",
        "        agent.save(name_weights=prefix+'model.h5',name_model=prefix+'model.json')        \n",
        "\n",
        "\n",
        "        \n",
        "class EnvironmentExploring(Environment):\n",
        "    def __init__(self, grid_size=10, max_time=500, temperature=0.1):\n",
        "        grid_size = grid_size+4\n",
        "        self.grid_size = grid_size\n",
        "        self.max_time = max_time\n",
        "        self.temperature = temperature\n",
        "\n",
        "        #board on which one plays\n",
        "        self.board = np.zeros((grid_size,grid_size))\n",
        "        self.position = np.zeros((grid_size,grid_size))\n",
        "        self.malus_position = np.zeros((grid_size,grid_size))\n",
        "\n",
        "        # coordinate of the cat\n",
        "        self.x = 0\n",
        "        self.y = 1\n",
        "\n",
        "        # self time\n",
        "        self.t = 0\n",
        "\n",
        "        self.scale=16\n",
        "\n",
        "        self.to_draw = np.zeros((max_time+2, grid_size*self.scale, grid_size*self.scale, 3))\n",
        "\n",
        "\n",
        "\n",
        "    def act(self, action):\n",
        "        \"\"\"This function returns the new state, reward and decides if the\n",
        "        game ends.\"\"\"\n",
        "\n",
        "        self.get_frame(int(self.t))\n",
        "\n",
        "        self.position = np.zeros((self.grid_size, self.grid_size))\n",
        "\n",
        "        self.position[0:2,:]= -1\n",
        "        self.position[:,0:2] = -1\n",
        "        self.position[-2:, :] = -1\n",
        "        self.position[-2:, :] = -1\n",
        "\n",
        "        self.position[self.x, self.y] = 1\n",
        "        if action == 0:\n",
        "            if self.x == self.grid_size-3:\n",
        "                self.x = self.x-1\n",
        "            else:\n",
        "                self.x = self.x + 1\n",
        "        elif action == 1:\n",
        "            if self.x == 2:\n",
        "                self.x = self.x+1\n",
        "            else:\n",
        "                self.x = self.x-1\n",
        "        elif action == 2:\n",
        "            if self.y == self.grid_size - 3:\n",
        "                self.y = self.y - 1\n",
        "            else:\n",
        "                self.y = self.y + 1\n",
        "        elif action == 3:\n",
        "            if self.y == 2:\n",
        "                self.y = self.y + 1\n",
        "            else:\n",
        "                self.y = self.y - 1\n",
        "        else:\n",
        "            RuntimeError('Error: action not recognized')\n",
        "\n",
        "        self.t = self.t + 1\n",
        "        reward = self.board[self.x, self.y]\n",
        "        #we add the malus_position to the reward\n",
        "        reward -= self.malus_position[self.x, self.y]\n",
        "        #we set the position to a malus position\n",
        "        self.malus_position[self.x, self.y] = 0.1\n",
        "        self.board[self.x, self.y] = 0\n",
        "        game_over = self.t > self.max_time\n",
        "        state = np.concatenate((self.malus_position.reshape(self.grid_size, self.grid_size,1),\n",
        "                                self.board.reshape(self.grid_size, self.grid_size,1),\n",
        "                        self.position.reshape(self.grid_size, self.grid_size,1)),axis=2)\n",
        "        state = state[self.x-2:self.x+3,self.y-2:self.y+3,:]\n",
        "\n",
        "        return state, reward, game_over\n",
        "\n",
        "    def reset(self):\n",
        "        \"\"\"This function resets the game and returns the initial state\"\"\"\n",
        "\n",
        "        self.x = np.random.randint(3, self.grid_size-3, size=1)[0]\n",
        "        self.y = np.random.randint(3, self.grid_size-3, size=1)[0]\n",
        "\n",
        "\n",
        "        bonus = 0.5*np.random.binomial(1,self.temperature,size=self.grid_size**2)\n",
        "        bonus = bonus.reshape(self.grid_size,self.grid_size)\n",
        "\n",
        "        malus = -1.0*np.random.binomial(1,self.temperature,size=self.grid_size**2)\n",
        "        malus = malus.reshape(self.grid_size, self.grid_size)\n",
        "\n",
        "        self.to_draw = np.zeros((self.max_time+2, self.grid_size*self.scale, self.grid_size*self.scale, 3))\n",
        "\n",
        "\n",
        "        malus[bonus>0]=0\n",
        "\n",
        "        self.board = bonus + malus\n",
        "\n",
        "        self.position = np.zeros((self.grid_size, self.grid_size))\n",
        "        self.position[0:2,:]= -1\n",
        "        self.position[:,0:2] = -1\n",
        "        self.position[-2:, :] = -1\n",
        "        self.position[-2:, :] = -1\n",
        "        self.board[self.x,self.y] = 0\n",
        "\n",
        "        # initialize the malus position\n",
        "        self.malus_position = np.zeros((self.grid_size, self.grid_size))\n",
        "\n",
        "        self.t = 0\n",
        "\n",
        "        state = np.concatenate((self.malus_position.reshape(self.grid_size, self.grid_size,1),\n",
        "                                self.board.reshape(self.grid_size, self.grid_size,1),\n",
        "                        self.position.reshape(self.grid_size, self.grid_size,1)),axis=2)\n",
        "        \n",
        "        state = state[self.x - 2:self.x + 3, self.y - 2:self.y + 3, :]\n",
        "        return state\n",
        "\n"
      ],
      "execution_count": 0,
      "outputs": []
    },
    {
      "cell_type": "code",
      "metadata": {
        "id": "BBGEdQ1O5h37",
        "colab_type": "code",
        "colab": {
          "base_uri": "https://localhost:8080/",
          "height": 1000
        },
        "outputId": "02ad1c6f-fae1-4d76-8da7-ce3a29dd38ad"
      },
      "source": [
        "# Training\n",
        "env = EnvironmentExploring(grid_size=size, max_time=T, temperature=0.3)\n",
        "agent = DQN_CNN(size, lr=.1, epsilon = 0.1, memory_size=2000, batch_size = 32,n_state=3)\n",
        "train_explore(agent, env, epochs_train, prefix='cnn_train_explore')\n",
        "HTML(display_videos('cnn_train_explore10.mp4'))"
      ],
      "execution_count": 28,
      "outputs": [
        {
          "output_type": "stream",
          "text": [
            "Model: \"sequential_9\"\n",
            "_________________________________________________________________\n",
            "Layer (type)                 Output Shape              Param #   \n",
            "=================================================================\n",
            "conv2d_11 (Conv2D)           (None, 5, 5, 6)           78        \n",
            "_________________________________________________________________\n",
            "conv2d_12 (Conv2D)           (None, 5, 5, 12)          300       \n",
            "_________________________________________________________________\n",
            "reshape_6 (Reshape)          (None, 300)               0         \n",
            "_________________________________________________________________\n",
            "dense_30 (Dense)             (None, 4)                 1204      \n",
            "=================================================================\n",
            "Total params: 1,582\n",
            "Trainable params: 1,582\n",
            "Non-trainable params: 0\n",
            "_________________________________________________________________\n",
            "Epoch 000/101 | Loss 20.3017 | Win/lose count 10.0/22.70000000000007 (-12.70000000000007)\n",
            "Epoch 001/101 | Loss 9.0416 | Win/lose count 7.0/21.70000000000003 (-14.700000000000031)\n",
            "Epoch 002/101 | Loss 5.1818 | Win/lose count 12.5/21.60000000000002 (-9.10000000000002)\n",
            "Epoch 003/101 | Loss 5.8699 | Win/lose count 17.5/18.89999999999999 (-1.3999999999999915)\n",
            "Epoch 004/101 | Loss 7.9770 | Win/lose count 13.0/16.799999999999972 (-3.7999999999999723)\n",
            "Epoch 005/101 | Loss 8.1450 | Win/lose count 7.0/18.599999999999987 (-11.599999999999987)\n",
            "Epoch 006/101 | Loss 8.9686 | Win/lose count 9.0/20.300000000000015 (-11.300000000000015)\n",
            "Epoch 007/101 | Loss 11.1992 | Win/lose count 15.0/19.69999999999999 (-4.699999999999989)\n",
            "Epoch 008/101 | Loss 10.6200 | Win/lose count 17.0/12.79999999999997 (4.2000000000000295)\n",
            "Epoch 009/101 | Loss 16.8708 | Win/lose count 12.0/15.999999999999963 (-3.9999999999999627)\n",
            "Epoch 010/101 | Loss 11.0872 | Win/lose count 12.5/18.79999999999999 (-6.29999999999999)\n",
            "Epoch 011/101 | Loss 9.0763 | Win/lose count 12.5/16.999999999999975 (-4.499999999999975)\n",
            "Epoch 012/101 | Loss 7.1154 | Win/lose count 10.0/20.800000000000036 (-10.800000000000036)\n",
            "Epoch 013/101 | Loss 5.9460 | Win/lose count 13.5/14.899999999999967 (-1.3999999999999666)\n",
            "Epoch 014/101 | Loss 5.1459 | Win/lose count 15.0/19.4 (-4.399999999999999)\n",
            "Epoch 015/101 | Loss 5.7294 | Win/lose count 19.0/21.499999999999993 (-2.499999999999993)\n",
            "Epoch 016/101 | Loss 4.9279 | Win/lose count 17.5/16.399999999999974 (1.1000000000000263)\n",
            "Epoch 017/101 | Loss 3.9403 | Win/lose count 12.5/17.69999999999999 (-5.199999999999989)\n",
            "Epoch 018/101 | Loss 4.0823 | Win/lose count 17.0/17.899999999999977 (-0.8999999999999773)\n",
            "Epoch 019/101 | Loss 5.3641 | Win/lose count 22.5/16.29999999999997 (6.200000000000031)\n",
            "Epoch 020/101 | Loss 7.2869 | Win/lose count 15.0/18.500000000000007 (-3.500000000000007)\n",
            "Epoch 021/101 | Loss 6.7911 | Win/lose count 6.5/18.49999999999998 (-11.999999999999979)\n",
            "Epoch 022/101 | Loss 8.4762 | Win/lose count 20.5/20.300000000000036 (0.19999999999996376)\n",
            "Epoch 023/101 | Loss 12.8899 | Win/lose count 21.5/14.199999999999969 (7.300000000000031)\n",
            "Epoch 024/101 | Loss 13.7090 | Win/lose count 14.0/19.000000000000014 (-5.000000000000014)\n",
            "Epoch 025/101 | Loss 12.0193 | Win/lose count 19.0/15.999999999999964 (3.0000000000000355)\n",
            "Epoch 026/101 | Loss 12.9936 | Win/lose count 21.5/15.799999999999972 (5.700000000000028)\n",
            "Epoch 027/101 | Loss 11.1522 | Win/lose count 20.5/15.899999999999972 (4.600000000000028)\n",
            "Epoch 028/101 | Loss 9.8162 | Win/lose count 17.5/15.899999999999974 (1.6000000000000263)\n",
            "Epoch 029/101 | Loss 8.0021 | Win/lose count 20.0/20.90000000000002 (-0.9000000000000199)\n",
            "Epoch 030/101 | Loss 5.7207 | Win/lose count 7.5/18.49999999999998 (-10.999999999999979)\n",
            "Epoch 031/101 | Loss 7.4042 | Win/lose count 16.0/13.399999999999975 (2.6000000000000245)\n",
            "Epoch 032/101 | Loss 7.2733 | Win/lose count 14.5/15.099999999999966 (-0.5999999999999659)\n",
            "Epoch 033/101 | Loss 5.2880 | Win/lose count 21.0/19.799999999999994 (1.2000000000000064)\n",
            "Epoch 034/101 | Loss 4.1525 | Win/lose count 19.0/16.399999999999974 (2.6000000000000263)\n",
            "Epoch 035/101 | Loss 4.1672 | Win/lose count 19.0/21.000000000000014 (-2.000000000000014)\n",
            "Epoch 036/101 | Loss 4.3303 | Win/lose count 16.0/16.199999999999967 (-0.19999999999996732)\n",
            "Epoch 037/101 | Loss 5.0115 | Win/lose count 17.0/18.199999999999992 (-1.1999999999999922)\n",
            "Epoch 038/101 | Loss 3.6697 | Win/lose count 19.0/18.600000000000005 (0.399999999999995)\n",
            "Epoch 039/101 | Loss 3.5451 | Win/lose count 17.0/15.499999999999963 (1.5000000000000373)\n",
            "Epoch 040/101 | Loss 4.2831 | Win/lose count 17.5/15.599999999999964 (1.9000000000000359)\n",
            "Epoch 041/101 | Loss 4.1918 | Win/lose count 16.0/14.999999999999966 (1.0000000000000338)\n",
            "Epoch 042/101 | Loss 5.9813 | Win/lose count 14.0/16.89999999999998 (-2.899999999999981)\n",
            "Epoch 043/101 | Loss 5.8552 | Win/lose count 24.5/11.699999999999974 (12.800000000000026)\n",
            "Epoch 044/101 | Loss 6.3977 | Win/lose count 17.0/18.09999999999999 (-1.0999999999999908)\n",
            "Epoch 045/101 | Loss 6.1624 | Win/lose count 14.5/16.899999999999977 (-2.3999999999999773)\n",
            "Epoch 046/101 | Loss 5.5645 | Win/lose count 23.0/22.200000000000014 (0.7999999999999865)\n",
            "Epoch 047/101 | Loss 6.2029 | Win/lose count 18.5/17.199999999999996 (1.3000000000000043)\n",
            "Epoch 048/101 | Loss 6.1412 | Win/lose count 8.5/17.59999999999998 (-9.09999999999998)\n",
            "Epoch 049/101 | Loss 4.4558 | Win/lose count 22.5/15.199999999999978 (7.300000000000022)\n",
            "Epoch 050/101 | Loss 7.6151 | Win/lose count 17.0/16.39999999999998 (0.6000000000000192)\n",
            "Epoch 051/101 | Loss 5.6941 | Win/lose count 26.0/12.89999999999998 (13.10000000000002)\n",
            "Epoch 052/101 | Loss 6.4202 | Win/lose count 20.5/18.299999999999986 (2.2000000000000135)\n",
            "Epoch 053/101 | Loss 6.3990 | Win/lose count 23.5/14.099999999999968 (9.400000000000032)\n",
            "Epoch 054/101 | Loss 6.5979 | Win/lose count 19.5/17.099999999999994 (2.4000000000000057)\n",
            "Epoch 055/101 | Loss 7.0187 | Win/lose count 18.0/13.599999999999968 (4.400000000000032)\n",
            "Epoch 056/101 | Loss 6.7875 | Win/lose count 18.0/14.499999999999972 (3.5000000000000284)\n",
            "Epoch 057/101 | Loss 6.9165 | Win/lose count 20.0/15.599999999999971 (4.400000000000029)\n",
            "Epoch 058/101 | Loss 9.1720 | Win/lose count 22.0/14.699999999999974 (7.300000000000026)\n",
            "Epoch 059/101 | Loss 9.7311 | Win/lose count 19.0/12.999999999999973 (6.000000000000027)\n",
            "Epoch 060/101 | Loss 8.1807 | Win/lose count 11.0/17.19999999999998 (-6.1999999999999815)\n",
            "Epoch 061/101 | Loss 9.1630 | Win/lose count 15.5/17.199999999999992 (-1.6999999999999922)\n",
            "Epoch 062/101 | Loss 9.2212 | Win/lose count 16.5/18.70000000000001 (-2.20000000000001)\n",
            "Epoch 063/101 | Loss 7.1705 | Win/lose count 21.0/17.299999999999986 (3.7000000000000135)\n",
            "Epoch 064/101 | Loss 5.6916 | Win/lose count 18.5/16.099999999999966 (2.400000000000034)\n",
            "Epoch 065/101 | Loss 4.9524 | Win/lose count 14.5/13.09999999999997 (1.4000000000000306)\n",
            "Epoch 066/101 | Loss 6.2149 | Win/lose count 17.5/14.59999999999997 (2.9000000000000306)\n",
            "Epoch 067/101 | Loss 5.3211 | Win/lose count 16.0/17.099999999999984 (-1.0999999999999837)\n",
            "Epoch 068/101 | Loss 4.8238 | Win/lose count 22.5/14.69999999999997 (7.800000000000029)\n",
            "Epoch 069/101 | Loss 5.5756 | Win/lose count 23.0/17.499999999999982 (5.500000000000018)\n",
            "Epoch 070/101 | Loss 7.4992 | Win/lose count 22.0/13.29999999999997 (8.70000000000003)\n",
            "Epoch 071/101 | Loss 9.1382 | Win/lose count 24.0/17.89999999999998 (6.100000000000019)\n",
            "Epoch 072/101 | Loss 13.1051 | Win/lose count 21.0/15.199999999999969 (5.800000000000031)\n",
            "Epoch 073/101 | Loss 13.6621 | Win/lose count 19.0/16.99999999999998 (2.0000000000000213)\n",
            "Epoch 074/101 | Loss 14.6589 | Win/lose count 16.5/13.99999999999997 (2.50000000000003)\n",
            "Epoch 075/101 | Loss 15.1384 | Win/lose count 12.5/16.599999999999973 (-4.099999999999973)\n",
            "Epoch 076/101 | Loss 14.0157 | Win/lose count 14.5/15.79999999999997 (-1.2999999999999705)\n",
            "Epoch 077/101 | Loss 10.4353 | Win/lose count 18.5/20.699999999999992 (-2.199999999999992)\n",
            "Epoch 078/101 | Loss 12.5184 | Win/lose count 22.5/14.199999999999969 (8.300000000000031)\n",
            "Epoch 079/101 | Loss 9.0640 | Win/lose count 15.5/18.29999999999998 (-2.7999999999999794)\n",
            "Epoch 080/101 | Loss 7.5827 | Win/lose count 17.0/18.500000000000004 (-1.5000000000000036)\n",
            "Epoch 081/101 | Loss 5.7364 | Win/lose count 17.0/14.999999999999966 (2.0000000000000338)\n",
            "Epoch 082/101 | Loss 5.2549 | Win/lose count 17.5/14.299999999999972 (3.2000000000000277)\n",
            "Epoch 083/101 | Loss 5.7452 | Win/lose count 20.5/12.099999999999977 (8.400000000000023)\n",
            "Epoch 084/101 | Loss 7.8584 | Win/lose count 21.0/14.199999999999978 (6.800000000000022)\n",
            "Epoch 085/101 | Loss 6.6826 | Win/lose count 15.5/14.999999999999966 (0.5000000000000338)\n",
            "Epoch 086/101 | Loss 6.5411 | Win/lose count 21.5/13.799999999999967 (7.700000000000033)\n",
            "Epoch 087/101 | Loss 8.9105 | Win/lose count 19.0/17.699999999999992 (1.3000000000000078)\n",
            "Epoch 088/101 | Loss 5.7248 | Win/lose count 12.0/13.699999999999969 (-1.699999999999969)\n",
            "Epoch 089/101 | Loss 5.7098 | Win/lose count 16.5/17.99999999999998 (-1.4999999999999787)\n",
            "Epoch 090/101 | Loss 5.6550 | Win/lose count 16.0/13.399999999999968 (2.6000000000000316)\n",
            "Epoch 091/101 | Loss 5.8404 | Win/lose count 23.0/16.399999999999977 (6.600000000000023)\n",
            "Epoch 092/101 | Loss 5.0462 | Win/lose count 20.0/22.100000000000065 (-2.1000000000000654)\n",
            "Epoch 093/101 | Loss 4.5773 | Win/lose count 26.5/11.499999999999975 (15.000000000000025)\n",
            "Epoch 094/101 | Loss 4.9042 | Win/lose count 15.5/17.099999999999973 (-1.599999999999973)\n",
            "Epoch 095/101 | Loss 4.0837 | Win/lose count 27.0/18.29999999999999 (8.70000000000001)\n",
            "Epoch 096/101 | Loss 5.3090 | Win/lose count 23.0/14.79999999999997 (8.20000000000003)\n",
            "Epoch 097/101 | Loss 5.3509 | Win/lose count 17.5/18.40000000000001 (-0.9000000000000092)\n",
            "Epoch 098/101 | Loss 5.2953 | Win/lose count 13.0/17.999999999999996 (-4.9999999999999964)\n",
            "Epoch 099/101 | Loss 6.4871 | Win/lose count 16.0/18.700000000000003 (-2.700000000000003)\n",
            "Epoch 100/101 | Loss 8.1520 | Win/lose count 15.0/19.900000000000023 (-4.9000000000000234)\n"
          ],
          "name": "stdout"
        },
        {
          "output_type": "execute_result",
          "data": {
            "text/html": [
              "<video alt=\"test\" controls>\n",
              "                <source src=\"data:video/mp4;base64,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\" type=\"video/mp4\" />\n",
              "             </video>"
            ],
            "text/plain": [
              "<IPython.core.display.HTML object>"
            ]
          },
          "metadata": {
            "tags": []
          },
          "execution_count": 28
        }
      ]
    },
    {
      "cell_type": "code",
      "metadata": {
        "id": "o4SCPomo5h38",
        "colab_type": "code",
        "colab": {
          "base_uri": "https://localhost:8080/",
          "height": 545
        },
        "outputId": "9e1e6f4f-c0e5-4089-d1f6-982bb5fefa34"
      },
      "source": [
        "# Evaluation\n",
        "test(agent,env,epochs_test,prefix='cnn_test_explore')\n",
        "HTML(display_videos('cnn_test_explore10.mp4'))"
      ],
      "execution_count": 29,
      "outputs": [
        {
          "output_type": "stream",
          "text": [
            "Win/lose count 18.0/14.799999999999969. Average score (3.2000000000000313)\n",
            "Win/lose count 16.0/16.79999999999998. Average score (1.200000000000026)\n",
            "Win/lose count 13.5/17.59999999999997. Average score (-0.5666666666666392)\n",
            "Win/lose count 13.0/15.099999999999962. Average score (-0.94999999999997)\n",
            "Win/lose count 18.0/17.599999999999987. Average score (-0.6799999999999734)\n",
            "Win/lose count 20.5/13.999999999999966. Average score (0.5166666666666945)\n",
            "Win/lose count 7.5/21.600000000000044. Average score (-1.5714285714285539)\n",
            "Win/lose count 8.0/18.4. Average score (-2.6749999999999847)\n",
            "Win/lose count 18.0/14.499999999999968. Average score (-1.9888888888888718)\n",
            "Win/lose count 14.0/14.999999999999966. Average score (-1.8899999999999815)\n",
            "Win/lose count 12.0/16.599999999999966. Average score (-2.1363636363636163)\n",
            "Win/lose count 12.5/16.499999999999968. Average score (-2.2916666666666456)\n",
            "Win/lose count 15.5/17.299999999999983. Average score (-2.253846153846133)\n",
            "Win/lose count 6.0/17.799999999999986. Average score (-2.9357142857142655)\n",
            "Win/lose count 20.5/12.99999999999997. Average score (-2.2399999999999793)\n",
            "Win/lose count 13.5/16.29999999999997. Average score (-2.2749999999999786)\n",
            "Win/lose count 13.5/15.399999999999961. Average score (-2.252941176470566)\n",
            "Win/lose count 8.5/16.29999999999996. Average score (-2.561111111111088)\n",
            "Win/lose count 18.0/14.599999999999968. Average score (-2.2473684210526077)\n",
            "Win/lose count 6.5/17.199999999999974. Average score (-2.669999999999976)\n",
            "Win/lose count 10.0/17.699999999999985. Average score (-2.9095238095237863)\n",
            "Final score: -2.9095238095237863\n"
          ],
          "name": "stdout"
        },
        {
          "output_type": "execute_result",
          "data": {
            "text/html": [
              "<video alt=\"test\" controls>\n",
              "                <source src=\"data:video/mp4;base64,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\" type=\"video/mp4\" />\n",
              "             </video>"
            ],
            "text/plain": [
              "<IPython.core.display.HTML object>"
            ]
          },
          "metadata": {
            "tags": []
          },
          "execution_count": 29
        }
      ]
    },
    {
      "cell_type": "markdown",
      "metadata": {
        "id": "Czlimyo95h39",
        "colab_type": "text"
      },
      "source": [
        "***\n",
        "***\n",
        "__BONUS question__ Use the expert DQN from the previous question to generate some winning games. Train a model that mimicks its behavior. Compare the performances."
      ]
    },
    {
      "cell_type": "markdown",
      "metadata": {
        "id": "22Hpyt6e5h39",
        "colab_type": "text"
      },
      "source": [
        ""
      ]
    },
    {
      "cell_type": "markdown",
      "metadata": {
        "id": "MO7hTnyI5h39",
        "colab_type": "text"
      },
      "source": [
        "***"
      ]
    }
  ]
}